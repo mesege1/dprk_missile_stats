{
 "cells": [
  {
   "cell_type": "markdown",
   "metadata": {},
   "source": [
    "# Importing Python Libraries"
   ]
  },
  {
   "cell_type": "code",
   "execution_count": 5,
   "metadata": {},
   "outputs": [],
   "source": [
    "%matplotlib inline\n",
    "#import bokeh as bk\n",
    "#import seaborn as sns\n",
    "\n",
    "import numpy as np\n",
    "import plotly.express as px\n",
    "import pandas as pd\n",
    "import matplotlib.pyplot as plt\n",
    "\n",
    "#from mpl_toolkits.basemap import Basemap\n",
    "#import geopandas as gpd\n",
    "\n",
    "import requests\n",
    "import descartes\n",
    "\n",
    "import seaborn as sns\n",
    "import matplotlib\n"
   ]
  },
  {
   "attachments": {},
   "cell_type": "markdown",
   "metadata": {},
   "source": [
    "# Step 1. Loading the data set to the Pandas\n",
    "Data source: https://www.kaggle.com/datasets/fanbyprinciple/north-korea-missile-test-database"
   ]
  },
  {
   "cell_type": "code",
   "execution_count": 7,
   "metadata": {},
   "outputs": [
    {
     "data": {
      "text/html": [
       "<div>\n",
       "<style scoped>\n",
       "    .dataframe tbody tr th:only-of-type {\n",
       "        vertical-align: middle;\n",
       "    }\n",
       "\n",
       "    .dataframe tbody tr th {\n",
       "        vertical-align: top;\n",
       "    }\n",
       "\n",
       "    .dataframe thead th {\n",
       "        text-align: right;\n",
       "    }\n",
       "</style>\n",
       "<table border=\"1\" class=\"dataframe\">\n",
       "  <thead>\n",
       "    <tr style=\"text-align: right;\">\n",
       "      <th></th>\n",
       "      <th>F1</th>\n",
       "      <th>Date</th>\n",
       "      <th>Date Entered/Updated</th>\n",
       "      <th>Missile Name</th>\n",
       "      <th>Missile Type</th>\n",
       "      <th>Launch Agency/Authority</th>\n",
       "      <th>Facility Name</th>\n",
       "      <th>Facility Location</th>\n",
       "      <th>Other Name</th>\n",
       "      <th>Facility Latitude</th>\n",
       "      <th>Facility Longitude</th>\n",
       "      <th>Landing Location</th>\n",
       "      <th>Apogee (km)</th>\n",
       "      <th>Distance Travelled (km)</th>\n",
       "      <th>Confirmation Status</th>\n",
       "      <th>Success</th>\n",
       "      <th>Additional Information</th>\n",
       "      <th>Source(s)</th>\n",
       "    </tr>\n",
       "  </thead>\n",
       "  <tbody>\n",
       "    <tr>\n",
       "      <th>0</th>\n",
       "      <td>1</td>\n",
       "      <td>9-Apr-84</td>\n",
       "      <td>23-Dec-16</td>\n",
       "      <td>Scud-B</td>\n",
       "      <td>SRBM</td>\n",
       "      <td>NaN</td>\n",
       "      <td>Tonghae Satellite Launching Ground</td>\n",
       "      <td>Hwadae County, North Hamgyong Province</td>\n",
       "      <td>Musudan-ri</td>\n",
       "      <td>40.8499966</td>\n",
       "      <td>129.666664</td>\n",
       "      <td>Unknown</td>\n",
       "      <td>Unknown</td>\n",
       "      <td>Unknown</td>\n",
       "      <td>Confirmed</td>\n",
       "      <td>Success</td>\n",
       "      <td>The 1984 tests possibly took place over the co...</td>\n",
       "      <td>http://www.nti.org/media/pdfs/north_korea_miss...</td>\n",
       "    </tr>\n",
       "    <tr>\n",
       "      <th>1</th>\n",
       "      <td>2</td>\n",
       "      <td>9-Apr-84</td>\n",
       "      <td>23-Dec-16</td>\n",
       "      <td>Scud-B</td>\n",
       "      <td>SRBM</td>\n",
       "      <td>NaN</td>\n",
       "      <td>Tonghae Satellite Launching Ground</td>\n",
       "      <td>Hwadae County, North Hamgyong Province</td>\n",
       "      <td>Musudan-ri</td>\n",
       "      <td>40.8499966</td>\n",
       "      <td>129.666664</td>\n",
       "      <td>Unknown</td>\n",
       "      <td>Unknown</td>\n",
       "      <td>Unknown</td>\n",
       "      <td>Confirmed</td>\n",
       "      <td>Success</td>\n",
       "      <td>NaN</td>\n",
       "      <td>http://www.nti.org/media/pdfs/north_korea_miss...</td>\n",
       "    </tr>\n",
       "    <tr>\n",
       "      <th>2</th>\n",
       "      <td>3</td>\n",
       "      <td>9-Apr-84</td>\n",
       "      <td>23-Dec-16</td>\n",
       "      <td>Scud-B</td>\n",
       "      <td>SRBM</td>\n",
       "      <td>NaN</td>\n",
       "      <td>Tonghae Satellite Launching Ground</td>\n",
       "      <td>Hwadae County, North Hamgyong Province</td>\n",
       "      <td>Musudan-ri</td>\n",
       "      <td>40.8499966</td>\n",
       "      <td>129.666664</td>\n",
       "      <td>Unknown</td>\n",
       "      <td>200</td>\n",
       "      <td>Unknown</td>\n",
       "      <td>Confirmed</td>\n",
       "      <td>Success</td>\n",
       "      <td>NaN</td>\n",
       "      <td>http://www.astronautix.com/g/gitdaeryung.html;...</td>\n",
       "    </tr>\n",
       "  </tbody>\n",
       "</table>\n",
       "</div>"
      ],
      "text/plain": [
       "   F1      Date Date Entered/Updated Missile Name Missile Type  \\\n",
       "0   1  9-Apr-84            23-Dec-16       Scud-B         SRBM   \n",
       "1   2  9-Apr-84            23-Dec-16       Scud-B         SRBM   \n",
       "2   3  9-Apr-84            23-Dec-16       Scud-B         SRBM   \n",
       "\n",
       "  Launch Agency/Authority                       Facility Name  \\\n",
       "0                     NaN  Tonghae Satellite Launching Ground   \n",
       "1                     NaN  Tonghae Satellite Launching Ground   \n",
       "2                     NaN  Tonghae Satellite Launching Ground   \n",
       "\n",
       "                        Facility Location  Other Name Facility Latitude  \\\n",
       "0  Hwadae County, North Hamgyong Province  Musudan-ri        40.8499966   \n",
       "1  Hwadae County, North Hamgyong Province  Musudan-ri        40.8499966   \n",
       "2  Hwadae County, North Hamgyong Province  Musudan-ri        40.8499966   \n",
       "\n",
       "  Facility Longitude Landing Location Apogee (km) Distance Travelled (km)  \\\n",
       "0         129.666664          Unknown     Unknown                 Unknown   \n",
       "1         129.666664          Unknown     Unknown                 Unknown   \n",
       "2         129.666664          Unknown         200                 Unknown   \n",
       "\n",
       "  Confirmation Status  Success  \\\n",
       "0           Confirmed  Success   \n",
       "1           Confirmed  Success   \n",
       "2           Confirmed  Success   \n",
       "\n",
       "                              Additional Information  \\\n",
       "0  The 1984 tests possibly took place over the co...   \n",
       "1                                                NaN   \n",
       "2                                                NaN   \n",
       "\n",
       "                                           Source(s)  \n",
       "0  http://www.nti.org/media/pdfs/north_korea_miss...  \n",
       "1  http://www.nti.org/media/pdfs/north_korea_miss...  \n",
       "2  http://www.astronautix.com/g/gitdaeryung.html;...  "
      ]
     },
     "execution_count": 7,
     "metadata": {},
     "output_type": "execute_result"
    }
   ],
   "source": [
    "# Tesiting with three items\n",
    "missile_stats = pd.read_csv('data/north_korea_missile_tests_database_050217.csv')\n",
    "missile_stats.head(3)"
   ]
  },
  {
   "attachments": {},
   "cell_type": "markdown",
   "metadata": {},
   "source": [
    "# 2. Parsing data for the date/time related analysis"
   ]
  },
  {
   "cell_type": "code",
   "execution_count": 8,
   "metadata": {},
   "outputs": [],
   "source": [
    "missile_stats = pd.read_csv('data/north_korea_missile_tests_database_050217.csv', parse_dates=['Date', 'Date Entered/Updated'])\n"
   ]
  },
  {
   "cell_type": "markdown",
   "metadata": {},
   "source": [
    "Initial attempt for mapping the location data"
   ]
  },
  {
   "cell_type": "code",
   "execution_count": 10,
   "metadata": {},
   "outputs": [
    {
     "data": {
      "application/vnd.plotly.v1+json": {
       "config": {
        "plotlyServerURL": "https://plot.ly"
       },
       "data": [
        {
         "customdata": [
          [
           "Musudan-ri",
           "Success"
          ],
          [
           "Musudan-ri",
           "Success"
          ],
          [
           "Musudan-ri",
           "Success"
          ],
          [
           "Musudan-ri",
           "Failure"
          ],
          [
           "Musudan-ri",
           "Failure"
          ],
          [
           "Musudan-ri",
           "Failure"
          ],
          [
           "Musudan-ri",
           "Unknown"
          ],
          [
           "Musudan-ri",
           "Failure"
          ],
          [
           "Musudan-ri",
           "Success"
          ],
          [
           "Musudan-ri",
           "Failure"
          ],
          [
           "Musudan-ri",
           "Success"
          ],
          [
           "Musudan-ri",
           "Unknown"
          ],
          [
           "Musudan-ri",
           "Success"
          ],
          [
           "Musudan-ri",
           "Success"
          ],
          [
           "Musudan-ri",
           "Failure"
          ],
          [
           "Musudan-ri",
           "Failure"
          ],
          [
           "Musudan-ri",
           "Failure"
          ]
         ],
         "geo": "geo",
         "hovertemplate": "<b>%{hovertext}</b><br><br>Facility Name=Tonghae Satellite Launching Ground<br>Facility Latitude=%{lat}<br>Facility Longitude=%{lon}<br>Other Name=%{customdata[0]}<br>Success=%{customdata[1]}<extra></extra>",
         "hovertext": [
          "Hwadae County, North Hamgyong Province",
          "Hwadae County, North Hamgyong Province",
          "Hwadae County, North Hamgyong Province",
          "Hwadae County, North Hamgyong Province",
          "Hwadae County, North Hamgyong Province",
          "Hwadae County, North Hamgyong Province",
          "Hwadae County, North Hamgyong Province",
          "Hwadae County, North Hamgyong Province",
          "Hwadae County, North Hamgyong Province",
          "Hwadae County, North Hamgyong Province",
          "Hwadae County, North Hamgyong Province",
          "Hwadae County, North Hamgyong Province",
          "Hwadae County, North Hamgyong Province",
          "Hwadae County, North Hamgyong Province",
          "Hwadae County, North Hamgyong Province",
          "Hwadae County, North Hamgyong Province",
          "Hwadae County, North Hamgyong Province"
         ],
         "lat": [
          "40.8499966",
          "40.8499966",
          "40.8499966",
          "40.8499966",
          "40.8499966",
          "40.8499966",
          "40.8499966",
          "40.8499966",
          "40.8499966",
          "40.8499966",
          "40.8499966",
          "40.8499966",
          "40.8499966",
          "40.8499966",
          "40.8499966",
          "40.8499966",
          "40.8499966"
         ],
         "legendgroup": "Tonghae Satellite Launching Ground",
         "lon": [
          "129.666664",
          "129.666664",
          "129.666664",
          "129.666664",
          "129.666664",
          "129.666664",
          "129.666664",
          "129.666664",
          "129.666664",
          "129.666664",
          "129.666664",
          "129.666664",
          "129.666664",
          "129.666664",
          "129.666664",
          "129.666664",
          "129.666664"
         ],
         "marker": {
          "color": "#636efa",
          "symbol": "circle"
         },
         "mode": "markers",
         "name": "Tonghae Satellite Launching Ground",
         "showlegend": true,
         "type": "scattergeo"
        },
        {
         "customdata": [
          [
           "Chiha-ri Taepodong Base",
           "Success"
          ]
         ],
         "geo": "geo",
         "hovertemplate": "<b>%{hovertext}</b><br><br>Facility Name=Chihari Missile Base<br>Facility Latitude=%{lat}<br>Facility Longitude=%{lon}<br>Other Name=%{customdata[0]}<br>Success=%{customdata[1]}<extra></extra>",
         "hovertext": [
          "Chiha-ri , Kangwon Province, (North Korea)"
         ],
         "lat": [
          "38.62333"
         ],
         "legendgroup": "Chihari Missile Base",
         "lon": [
          "126.6847"
         ],
         "marker": {
          "color": "#EF553B",
          "symbol": "circle"
         },
         "mode": "markers",
         "name": "Chihari Missile Base",
         "showlegend": true,
         "type": "scattergeo"
        },
        {
         "customdata": [
          [
           "Gitdaeryung",
           "Success"
          ],
          [
           "Gitdaeryung",
           "Success"
          ],
          [
           "Gitdaeryung",
           "Success"
          ],
          [
           "Gitdaeryung",
           "Success"
          ],
          [
           "Gitdaeryung",
           "Success"
          ],
          [
           "Gitdaeryung",
           "Success"
          ],
          [
           "Gitdaeryung",
           "Success"
          ],
          [
           "Gitdaeryung",
           "Success"
          ],
          [
           "Gitdaeryung",
           "Success"
          ],
          [
           "Gitdaeryung",
           "Success"
          ],
          [
           "Gitdaeryung",
           "Success"
          ],
          [
           "Gitdaeryung",
           "Success"
          ],
          [
           "Gitdaeryung",
           "Success"
          ],
          [
           "Gitdaeryung",
           "Success"
          ],
          [
           "Gitdaeryung",
           "Success"
          ],
          [
           "Gitdaeryung",
           "Success"
          ],
          [
           "Gitdaeryung",
           "Success"
          ]
         ],
         "geo": "geo",
         "hovertemplate": "<b>%{hovertext}</b><br><br>Facility Name=Kittaeryong Missile Base<br>Facility Latitude=%{lat}<br>Facility Longitude=%{lon}<br>Other Name=%{customdata[0]}<br>Success=%{customdata[1]}<extra></extra>",
         "hovertext": [
          "Kittae Pass, Kangwon Province, (North Korea)",
          "Kittae Pass, Kangwon Province, (North Korea)",
          "Kittae Pass, Kangwon Province, (North Korea)",
          "Kittae Pass, Kangwon Province, (North Korea)",
          "Kittae Pass, Kangwon Province, (North Korea)",
          "Kittae Pass, Kangwon Province, (North Korea)",
          "Kittae Pass, Kangwon Province, (North Korea)",
          "Kittae Pass, Kangwon Province, (North Korea)",
          "Kittae Pass, Kangwon Province, (North Korea)",
          "Kittae Pass, Kangwon Province, (North Korea)",
          "Kittae Pass, Kangwon Province, (North Korea)",
          "Kittae Pass, Kangwon Province, (North Korea)",
          "Kittae Pass, Kangwon Province, (North Korea)",
          "Kittae Pass, Kangwon Province, (North Korea)",
          "Kittae Pass, Kangwon Province, (North Korea)",
          "Kittae Pass, Kangwon Province, (North Korea)",
          "Kittae Pass, Kangwon Province, (North Korea)"
         ],
         "lat": [
          "38.99083",
          "38.99083",
          "38.99083",
          "38.99083",
          "38.99083",
          "38.99083",
          "38.99083",
          "38.99083",
          "38.99083",
          "38.99083",
          "38.99083",
          "38.99083",
          "38.99083",
          "38.99083",
          "38.99083",
          "38.99083",
          "38.99083"
         ],
         "legendgroup": "Kittaeryong Missile Base",
         "lon": [
          "127.6236",
          "127.6236",
          "127.6236",
          "127.6236",
          "127.6236",
          "127.6236",
          "127.6236",
          "127.6236",
          "127.6236",
          "127.6236",
          "127.6236",
          "127.6236",
          "127.6236",
          "127.6236",
          "127.6236",
          "127.6236",
          "127.6236"
         ],
         "marker": {
          "color": "#00cc96",
          "symbol": "circle"
         },
         "mode": "markers",
         "name": "Kittaeryong Missile Base",
         "showlegend": true,
         "type": "scattergeo"
        },
        {
         "customdata": [
          [
           "North Pyongan",
           "Failure"
          ],
          [
           "North Pyongan",
           "Success"
          ],
          [
           "North Pyongan",
           "Success"
          ],
          [
           null,
           "Success"
          ],
          [
           null,
           "Success"
          ],
          [
           null,
           "Success"
          ],
          [
           null,
           "Success"
          ]
         ],
         "geo": "geo",
         "hovertemplate": "<b>%{hovertext}</b><br><br>Facility Name=Sohae Satellite Launching Station<br>Facility Latitude=%{lat}<br>Facility Longitude=%{lon}<br>Other Name=%{customdata[0]}<br>Success=%{customdata[1]}<extra></extra>",
         "hovertext": [
          "Cholsan County, North Pyongan Province",
          "Cholsan County, North Pyongan Province",
          "Cholsan County, North Pyongan Province",
          "Cholsan County, North Pyongan Province",
          "Cholsan County, North Pyongan Province",
          "Cholsan County, North Pyongan Province",
          "Cholsan County, North Pyongan Province"
         ],
         "lat": [
          "39.6596",
          "39.6596",
          "39.6596",
          "39.6596",
          "39.6596",
          "39.6596",
          "39.6596"
         ],
         "legendgroup": "Sohae Satellite Launching Station",
         "lon": [
          "124.7057",
          "124.7057",
          "124.7057",
          "124.7057",
          "124.7057",
          "124.7057",
          "124.7057"
         ],
         "marker": {
          "color": "#ab63fa",
          "symbol": "circle"
         },
         "mode": "markers",
         "name": "Sohae Satellite Launching Station",
         "showlegend": true,
         "type": "scattergeo"
        },
        {
         "customdata": [
          [
           null,
           "Success"
          ],
          [
           null,
           "Success"
          ],
          [
           null,
           "Success"
          ],
          [
           null,
           "Success"
          ],
          [
           null,
           "Success"
          ],
          [
           null,
           "Success"
          ],
          [
           null,
           "Success"
          ],
          [
           null,
           "Success"
          ],
          [
           null,
           "Success"
          ],
          [
           null,
           "Success"
          ],
          [
           null,
           "Success"
          ],
          [
           null,
           "Success"
          ],
          [
           null,
           "Success"
          ],
          [
           null,
           "Success"
          ],
          [
           null,
           "Success"
          ],
          [
           null,
           "Success"
          ],
          [
           null,
           "Success"
          ],
          [
           null,
           "Success"
          ],
          [
           null,
           "Success"
          ],
          [
           null,
           "Success"
          ]
         ],
         "geo": "geo",
         "hovertemplate": "<b>%{hovertext}</b><br><br>Facility Name=North Wonsan<br>Facility Latitude=%{lat}<br>Facility Longitude=%{lon}<br>Other Name=%{customdata[0]}<br>Success=%{customdata[1]}<extra></extra>",
         "hovertext": [
          "Kangwon Province, (North Korea)",
          "Kangwon Province, (North Korea)",
          "Kangwon Province, (North Korea)",
          "Kangwon Province, (North Korea)",
          "Kangwon Province, (North Korea)",
          "Kangwon Province, (North Korea)",
          "Kangwon Province, (North Korea)",
          "Kangwon Province, (North Korea)",
          "Kangwon Province, (North Korea)",
          "Kangwon Province, (North Korea)",
          "Kangwon Province, (North Korea)",
          "Kangwon Province, (North Korea)",
          "Kangwon Province, (North Korea)",
          "Kangwon Province, (North Korea)",
          "Kangwon Province, (North Korea)",
          "Kangwon Province, (North Korea)",
          "Kangwon Province, (North Korea)",
          "Kangwon Province, (North Korea)",
          "Kangwon Province, (North Korea)",
          "Kangwon Province, (North Korea)"
         ],
         "lat": [
          "39.40167",
          "39.40167",
          "39.40167",
          "39.40167",
          "39.40167",
          "39.40167",
          "39.40167",
          "39.40167",
          "39.40167",
          "39.40167",
          "39.40167",
          "39.40167",
          "39.40167",
          "39.40167",
          "39.40167",
          "39.40167",
          "39.40167",
          "39.40167",
          "39.40167",
          "39.40167"
         ],
         "legendgroup": "North Wonsan",
         "lon": [
          "127.5369",
          "127.5369",
          "127.5369",
          "127.5369",
          "127.5369",
          "127.5369",
          "127.5369",
          "127.5369",
          "127.5369",
          "127.5369",
          "127.5369",
          "127.5369",
          "127.5369",
          "127.5369",
          "127.5369",
          "127.5369",
          "127.5369",
          "127.5369",
          "127.5369",
          "127.5369"
         ],
         "marker": {
          "color": "#FFA15A",
          "symbol": "circle"
         },
         "mode": "markers",
         "name": "North Wonsan",
         "showlegend": true,
         "type": "scattergeo"
        },
        {
         "customdata": [
          [
           "Wonsan Airbase",
           "Success"
          ],
          [
           "Wonsan Airbase",
           "Success"
          ],
          [
           "Wonsan Airbase",
           "Success"
          ],
          [
           "Wonsan Airbase",
           "Success"
          ],
          [
           "Wonsan Airbase",
           "Failure"
          ],
          [
           "Wonsan Airbase",
           "Failure"
          ],
          [
           "Wonsan Airbase",
           "Failure"
          ],
          [
           "Wonsan Airbase",
           "Failure"
          ],
          [
           "Wonsan Airbase",
           "Failure"
          ],
          [
           "Wonsan Airbase",
           "Success"
          ],
          [
           "Wonsan Airbase",
           "Failure"
          ]
         ],
         "geo": "geo",
         "hovertemplate": "<b>%{hovertext}</b><br><br>Facility Name=Wonsan Kalma International Airport<br>Facility Latitude=%{lat}<br>Facility Longitude=%{lon}<br>Other Name=%{customdata[0]}<br>Success=%{customdata[1]}<extra></extra>",
         "hovertext": [
          "Kangwon Province, (North Korea)",
          "Kangwon Province, (North Korea)",
          "Kangwon Province, (North Korea)",
          "Kangwon Province, (North Korea)",
          "Kangwon Province, (North Korea)",
          "Kangwon Province, (North Korea)",
          "Kangwon Province, (North Korea)",
          "Kangwon Province, (North Korea)",
          "Kangwon Province, (North Korea)",
          "Kangwon Province, (North Korea)",
          "Kangwon Province, (North Korea)"
         ],
         "lat": [
          "39.1677",
          "39.1677",
          "39.1677",
          "39.1677",
          "39.1677",
          "39.1677",
          "39.1677",
          "39.1677",
          "39.1677",
          "39.1677",
          "39.1677"
         ],
         "legendgroup": "Wonsan Kalma International Airport",
         "lon": [
          "127.4817",
          "127.4817",
          "127.4817",
          "127.4817",
          "127.4817",
          "127.4817",
          "127.4817",
          "127.4817",
          "127.4817",
          "127.4817",
          "127.4817"
         ],
         "marker": {
          "color": "#19d3f3",
          "symbol": "circle"
         },
         "mode": "markers",
         "name": "Wonsan Kalma International Airport",
         "showlegend": true,
         "type": "scattergeo"
        },
        {
         "customdata": [
          [
           null,
           "Success"
          ],
          [
           null,
           "Success"
          ],
          [
           null,
           "Success"
          ],
          [
           null,
           "Failure"
          ]
         ],
         "geo": "geo",
         "hovertemplate": "<b>%{hovertext}</b><br><br>Facility Name=Sunchon Airbase<br>Facility Latitude=%{lat}<br>Facility Longitude=%{lon}<br>Other Name=%{customdata[0]}<br>Success=%{customdata[1]}<extra></extra>",
         "hovertext": [
          "South Pyongan Province",
          "South Pyongan Province",
          "South Pyongan Province",
          "South Pyongan Province"
         ],
         "lat": [
          "39.412594",
          "39.412594",
          "39.412594",
          "39.412594"
         ],
         "legendgroup": "Sunchon Airbase",
         "lon": [
          "125.89031",
          "125.89031",
          "125.89031",
          "125.89031"
         ],
         "marker": {
          "color": "#FF6692",
          "symbol": "circle"
         },
         "mode": "markers",
         "name": "Sunchon Airbase",
         "showlegend": true,
         "type": "scattergeo"
        },
        {
         "customdata": [
          [
           "Unknown",
           "Success"
          ],
          [
           "Unknown",
           "Success"
          ],
          [
           "Pyongyang Highway",
           "Success"
          ],
          [
           "Pyongyang Highway",
           "Success"
          ],
          [
           "Pyongyang Highway",
           "Success"
          ],
          [
           "Pyongyang Highway",
           "Success"
          ],
          [
           "Pyongyang Highway",
           "Success"
          ],
          [
           "Pyongyang Highway",
           "Success"
          ],
          [
           "Pyongyang Highway",
           "Failure"
          ],
          [
           "Pyongyang Highway",
           "Success"
          ],
          [
           "Pyongyang Highway",
           "Success"
          ],
          [
           "Pyongyang Highway",
           "Success"
          ]
         ],
         "geo": "geo",
         "hovertemplate": "<b>%{hovertext}</b><br><br>Facility Name=Hwangju<br>Facility Latitude=%{lat}<br>Facility Longitude=%{lon}<br>Other Name=%{customdata[0]}<br>Success=%{customdata[1]}<extra></extra>",
         "hovertext": [
          "Hwangju,  North Hwanghae province",
          "Hwangju,  North Hwanghae province",
          "Hwangju,  North Hwanghae province",
          "Hwangju,  North Hwanghae province",
          "Hwangju,  North Hwanghae province",
          "Hwangju,  North Hwanghae province",
          "Hwangju,  North Hwanghae province",
          "Hwangju,  North Hwanghae province",
          "Hwangju,  North Hwanghae province",
          "Hwangju,  North Hwanghae province",
          "Hwangju,  North Hwanghae province",
          "Hwangju,  North Hwanghae province"
         ],
         "lat": [
          "38.686834",
          "38.686834",
          "38.686834",
          "38.686834",
          "38.686834",
          "38.686834",
          "38.686834",
          "38.686834",
          "38.686834",
          "38.686834",
          "38.686834",
          "38.686834"
         ],
         "legendgroup": "Hwangju",
         "lon": [
          "125.702005",
          "125.702005",
          "125.702005",
          "125.702005",
          "125.702005",
          "125.702005",
          "125.702005",
          "125.702005",
          "125.702005",
          "125.702005",
          "125.702005",
          "125.702005"
         ],
         "marker": {
          "color": "#B6E880",
          "symbol": "circle"
         },
         "mode": "markers",
         "name": "Hwangju",
         "showlegend": true,
         "type": "scattergeo"
        },
        {
         "customdata": [
          [
           null,
           "Success"
          ],
          [
           null,
           "Success"
          ]
         ],
         "geo": "geo",
         "hovertemplate": "<b>%{hovertext}</b><br><br>Facility Name=Kaesong<br>Facility Latitude=%{lat}<br>Facility Longitude=%{lon}<br>Other Name=%{customdata[0]}<br>Success=%{customdata[1]}<extra></extra>",
         "hovertext": [
          "North Hwanghae Province",
          "North Hwanghae Province"
         ],
         "lat": [
          "37.9382",
          "37.9382"
         ],
         "legendgroup": "Kaesong",
         "lon": [
          "126.5878",
          "126.5878"
         ],
         "marker": {
          "color": "#FF97FF",
          "symbol": "circle"
         },
         "mode": "markers",
         "name": "Kaesong",
         "showlegend": true,
         "type": "scattergeo"
        },
        {
         "customdata": [
          [
           "Unknown",
           "Success"
          ]
         ],
         "geo": "geo",
         "hovertemplate": "<b>%{hovertext}</b><br><br>Facility Name=Unknown<br>Facility Latitude=%{lat}<br>Facility Longitude=%{lon}<br>Other Name=%{customdata[0]}<br>Success=%{customdata[1]}<extra></extra>",
         "hovertext": [
          "Unknown"
         ],
         "lat": [
          "Unknown"
         ],
         "legendgroup": "Unknown",
         "lon": [
          "Unknown"
         ],
         "marker": {
          "color": "#FECB52",
          "symbol": "circle"
         },
         "mode": "markers",
         "name": "Unknown",
         "showlegend": true,
         "type": "scattergeo"
        },
        {
         "customdata": [
          [
           null,
           "Success"
          ],
          [
           null,
           "Success"
          ]
         ],
         "geo": "geo",
         "hovertemplate": "<b>%{hovertext}</b><br><br>Facility Name=Nampo<br>Facility Latitude=%{lat}<br>Facility Longitude=%{lon}<br>Other Name=%{customdata[0]}<br>Success=%{customdata[1]}<extra></extra>",
         "hovertext": [
          "South Pyongan Province",
          "South Pyongan Province"
         ],
         "lat": [
          "38.7523",
          "38.7523"
         ],
         "legendgroup": "Nampo",
         "lon": [
          "125.3247",
          "125.3247"
         ],
         "marker": {
          "color": "#636efa",
          "symbol": "circle"
         },
         "mode": "markers",
         "name": "Nampo",
         "showlegend": true,
         "type": "scattergeo"
        },
        {
         "customdata": [
          [
           null,
           "Success"
          ],
          [
           null,
           "Failure"
          ],
          [
           null,
           "Failure"
          ],
          [
           null,
           "Success"
          ],
          [
           null,
           "Failure"
          ],
          [
           null,
           "Success"
          ],
          [
           null,
           "Failure"
          ],
          [
           null,
           "Failure"
          ]
         ],
         "geo": "geo",
         "hovertemplate": "<b>%{hovertext}</b><br><br>Facility Name=Sinpo Shipyard<br>Facility Latitude=%{lat}<br>Facility Longitude=%{lon}<br>Other Name=%{customdata[0]}<br>Success=%{customdata[1]}<extra></extra>",
         "hovertext": [
          "South Hamgyong province",
          "South Hamgyong province",
          "South Hamgyong province",
          "South Hamgyong province",
          "South Hamgyong province",
          "South Hamgyong province",
          "South Hamgyong province",
          "South Hamgyong province"
         ],
         "lat": [
          "40.0368",
          "40.0368",
          "40.0368",
          "40.0368",
          "40.0368",
          "40.0368",
          "40.0368",
          "40.0368"
         ],
         "legendgroup": "Sinpo Shipyard",
         "lon": [
          "128.1839",
          "128.1839",
          "128.1839",
          "128.1839",
          "128.1839",
          "128.1839",
          "128.1839",
          "128.1839"
         ],
         "marker": {
          "color": "#EF553B",
          "symbol": "circle"
         },
         "mode": "markers",
         "name": "Sinpo Shipyard",
         "showlegend": true,
         "type": "scattergeo"
        },
        {
         "customdata": [
          [
           "Panghyon Airport",
           "Failure"
          ],
          [
           "Panghyon Airport",
           "Failure"
          ]
         ],
         "geo": "geo",
         "hovertemplate": "<b>%{hovertext}</b><br><br>Facility Name=Panghyon Airbase<br>Facility Latitude=%{lat}<br>Facility Longitude=%{lon}<br>Other Name=%{customdata[0]}<br>Success=%{customdata[1]}<extra></extra>",
         "hovertext": [
          "Kusong, North Pyongan",
          "Kusong, North Pyongan"
         ],
         "lat": [
          "39.927472",
          "39.927472"
         ],
         "legendgroup": "Panghyon Airbase",
         "lon": [
          "125.207889",
          "125.207889"
         ],
         "marker": {
          "color": "#00cc96",
          "symbol": "circle"
         },
         "mode": "markers",
         "name": "Panghyon Airbase",
         "showlegend": true,
         "type": "scattergeo"
        },
        {
         "customdata": [
          [
           null,
           "Success"
          ]
         ],
         "geo": "geo",
         "hovertemplate": "<b>%{hovertext}</b><br><br>Facility Name=Kusong Testing Ground<br>Facility Latitude=%{lat}<br>Facility Longitude=%{lon}<br>Other Name=%{customdata[0]}<br>Success=%{customdata[1]}<extra></extra>",
         "hovertext": [
          "Kusong, North Pyongan"
         ],
         "lat": [
          "40.01325"
         ],
         "legendgroup": "Kusong Testing Ground",
         "lon": [
          "125.22302"
         ],
         "marker": {
          "color": "#ab63fa",
          "symbol": "circle"
         },
         "mode": "markers",
         "name": "Kusong Testing Ground",
         "showlegend": true,
         "type": "scattergeo"
        },
        {
         "customdata": [
          [
           null,
           "Failure"
          ]
         ],
         "geo": "geo",
         "hovertemplate": "<b>%{hovertext}</b><br><br>Facility Name=Pukchang Airfield<br>Facility Latitude=%{lat}<br>Facility Longitude=%{lon}<br>Other Name=%{customdata[0]}<br>Success=%{customdata[1]}<extra></extra>",
         "hovertext": [
          "South Pyongan Province"
         ],
         "lat": [
          "39.504417"
         ],
         "legendgroup": "Pukchang Airfield",
         "lon": [
          "125.964333"
         ],
         "marker": {
          "color": "#FFA15A",
          "symbol": "circle"
         },
         "mode": "markers",
         "name": "Pukchang Airfield",
         "showlegend": true,
         "type": "scattergeo"
        }
       ],
       "layout": {
        "geo": {
         "center": {},
         "domain": {
          "x": [
           0,
           1
          ],
          "y": [
           0,
           1
          ]
         }
        },
        "legend": {
         "title": {
          "text": "Facility Name"
         },
         "tracegroupgap": 0
        },
        "mapbox": {
         "style": "open-street-map"
        },
        "margin": {
         "t": 60
        },
        "template": {
         "data": {
          "bar": [
           {
            "error_x": {
             "color": "#2a3f5f"
            },
            "error_y": {
             "color": "#2a3f5f"
            },
            "marker": {
             "line": {
              "color": "#E5ECF6",
              "width": 0.5
             },
             "pattern": {
              "fillmode": "overlay",
              "size": 10,
              "solidity": 0.2
             }
            },
            "type": "bar"
           }
          ],
          "barpolar": [
           {
            "marker": {
             "line": {
              "color": "#E5ECF6",
              "width": 0.5
             },
             "pattern": {
              "fillmode": "overlay",
              "size": 10,
              "solidity": 0.2
             }
            },
            "type": "barpolar"
           }
          ],
          "carpet": [
           {
            "aaxis": {
             "endlinecolor": "#2a3f5f",
             "gridcolor": "white",
             "linecolor": "white",
             "minorgridcolor": "white",
             "startlinecolor": "#2a3f5f"
            },
            "baxis": {
             "endlinecolor": "#2a3f5f",
             "gridcolor": "white",
             "linecolor": "white",
             "minorgridcolor": "white",
             "startlinecolor": "#2a3f5f"
            },
            "type": "carpet"
           }
          ],
          "choropleth": [
           {
            "colorbar": {
             "outlinewidth": 0,
             "ticks": ""
            },
            "type": "choropleth"
           }
          ],
          "contour": [
           {
            "colorbar": {
             "outlinewidth": 0,
             "ticks": ""
            },
            "colorscale": [
             [
              0,
              "#0d0887"
             ],
             [
              0.1111111111111111,
              "#46039f"
             ],
             [
              0.2222222222222222,
              "#7201a8"
             ],
             [
              0.3333333333333333,
              "#9c179e"
             ],
             [
              0.4444444444444444,
              "#bd3786"
             ],
             [
              0.5555555555555556,
              "#d8576b"
             ],
             [
              0.6666666666666666,
              "#ed7953"
             ],
             [
              0.7777777777777778,
              "#fb9f3a"
             ],
             [
              0.8888888888888888,
              "#fdca26"
             ],
             [
              1,
              "#f0f921"
             ]
            ],
            "type": "contour"
           }
          ],
          "contourcarpet": [
           {
            "colorbar": {
             "outlinewidth": 0,
             "ticks": ""
            },
            "type": "contourcarpet"
           }
          ],
          "heatmap": [
           {
            "colorbar": {
             "outlinewidth": 0,
             "ticks": ""
            },
            "colorscale": [
             [
              0,
              "#0d0887"
             ],
             [
              0.1111111111111111,
              "#46039f"
             ],
             [
              0.2222222222222222,
              "#7201a8"
             ],
             [
              0.3333333333333333,
              "#9c179e"
             ],
             [
              0.4444444444444444,
              "#bd3786"
             ],
             [
              0.5555555555555556,
              "#d8576b"
             ],
             [
              0.6666666666666666,
              "#ed7953"
             ],
             [
              0.7777777777777778,
              "#fb9f3a"
             ],
             [
              0.8888888888888888,
              "#fdca26"
             ],
             [
              1,
              "#f0f921"
             ]
            ],
            "type": "heatmap"
           }
          ],
          "heatmapgl": [
           {
            "colorbar": {
             "outlinewidth": 0,
             "ticks": ""
            },
            "colorscale": [
             [
              0,
              "#0d0887"
             ],
             [
              0.1111111111111111,
              "#46039f"
             ],
             [
              0.2222222222222222,
              "#7201a8"
             ],
             [
              0.3333333333333333,
              "#9c179e"
             ],
             [
              0.4444444444444444,
              "#bd3786"
             ],
             [
              0.5555555555555556,
              "#d8576b"
             ],
             [
              0.6666666666666666,
              "#ed7953"
             ],
             [
              0.7777777777777778,
              "#fb9f3a"
             ],
             [
              0.8888888888888888,
              "#fdca26"
             ],
             [
              1,
              "#f0f921"
             ]
            ],
            "type": "heatmapgl"
           }
          ],
          "histogram": [
           {
            "marker": {
             "pattern": {
              "fillmode": "overlay",
              "size": 10,
              "solidity": 0.2
             }
            },
            "type": "histogram"
           }
          ],
          "histogram2d": [
           {
            "colorbar": {
             "outlinewidth": 0,
             "ticks": ""
            },
            "colorscale": [
             [
              0,
              "#0d0887"
             ],
             [
              0.1111111111111111,
              "#46039f"
             ],
             [
              0.2222222222222222,
              "#7201a8"
             ],
             [
              0.3333333333333333,
              "#9c179e"
             ],
             [
              0.4444444444444444,
              "#bd3786"
             ],
             [
              0.5555555555555556,
              "#d8576b"
             ],
             [
              0.6666666666666666,
              "#ed7953"
             ],
             [
              0.7777777777777778,
              "#fb9f3a"
             ],
             [
              0.8888888888888888,
              "#fdca26"
             ],
             [
              1,
              "#f0f921"
             ]
            ],
            "type": "histogram2d"
           }
          ],
          "histogram2dcontour": [
           {
            "colorbar": {
             "outlinewidth": 0,
             "ticks": ""
            },
            "colorscale": [
             [
              0,
              "#0d0887"
             ],
             [
              0.1111111111111111,
              "#46039f"
             ],
             [
              0.2222222222222222,
              "#7201a8"
             ],
             [
              0.3333333333333333,
              "#9c179e"
             ],
             [
              0.4444444444444444,
              "#bd3786"
             ],
             [
              0.5555555555555556,
              "#d8576b"
             ],
             [
              0.6666666666666666,
              "#ed7953"
             ],
             [
              0.7777777777777778,
              "#fb9f3a"
             ],
             [
              0.8888888888888888,
              "#fdca26"
             ],
             [
              1,
              "#f0f921"
             ]
            ],
            "type": "histogram2dcontour"
           }
          ],
          "mesh3d": [
           {
            "colorbar": {
             "outlinewidth": 0,
             "ticks": ""
            },
            "type": "mesh3d"
           }
          ],
          "parcoords": [
           {
            "line": {
             "colorbar": {
              "outlinewidth": 0,
              "ticks": ""
             }
            },
            "type": "parcoords"
           }
          ],
          "pie": [
           {
            "automargin": true,
            "type": "pie"
           }
          ],
          "scatter": [
           {
            "fillpattern": {
             "fillmode": "overlay",
             "size": 10,
             "solidity": 0.2
            },
            "type": "scatter"
           }
          ],
          "scatter3d": [
           {
            "line": {
             "colorbar": {
              "outlinewidth": 0,
              "ticks": ""
             }
            },
            "marker": {
             "colorbar": {
              "outlinewidth": 0,
              "ticks": ""
             }
            },
            "type": "scatter3d"
           }
          ],
          "scattercarpet": [
           {
            "marker": {
             "colorbar": {
              "outlinewidth": 0,
              "ticks": ""
             }
            },
            "type": "scattercarpet"
           }
          ],
          "scattergeo": [
           {
            "marker": {
             "colorbar": {
              "outlinewidth": 0,
              "ticks": ""
             }
            },
            "type": "scattergeo"
           }
          ],
          "scattergl": [
           {
            "marker": {
             "colorbar": {
              "outlinewidth": 0,
              "ticks": ""
             }
            },
            "type": "scattergl"
           }
          ],
          "scattermapbox": [
           {
            "marker": {
             "colorbar": {
              "outlinewidth": 0,
              "ticks": ""
             }
            },
            "type": "scattermapbox"
           }
          ],
          "scatterpolar": [
           {
            "marker": {
             "colorbar": {
              "outlinewidth": 0,
              "ticks": ""
             }
            },
            "type": "scatterpolar"
           }
          ],
          "scatterpolargl": [
           {
            "marker": {
             "colorbar": {
              "outlinewidth": 0,
              "ticks": ""
             }
            },
            "type": "scatterpolargl"
           }
          ],
          "scatterternary": [
           {
            "marker": {
             "colorbar": {
              "outlinewidth": 0,
              "ticks": ""
             }
            },
            "type": "scatterternary"
           }
          ],
          "surface": [
           {
            "colorbar": {
             "outlinewidth": 0,
             "ticks": ""
            },
            "colorscale": [
             [
              0,
              "#0d0887"
             ],
             [
              0.1111111111111111,
              "#46039f"
             ],
             [
              0.2222222222222222,
              "#7201a8"
             ],
             [
              0.3333333333333333,
              "#9c179e"
             ],
             [
              0.4444444444444444,
              "#bd3786"
             ],
             [
              0.5555555555555556,
              "#d8576b"
             ],
             [
              0.6666666666666666,
              "#ed7953"
             ],
             [
              0.7777777777777778,
              "#fb9f3a"
             ],
             [
              0.8888888888888888,
              "#fdca26"
             ],
             [
              1,
              "#f0f921"
             ]
            ],
            "type": "surface"
           }
          ],
          "table": [
           {
            "cells": {
             "fill": {
              "color": "#EBF0F8"
             },
             "line": {
              "color": "white"
             }
            },
            "header": {
             "fill": {
              "color": "#C8D4E3"
             },
             "line": {
              "color": "white"
             }
            },
            "type": "table"
           }
          ]
         },
         "layout": {
          "annotationdefaults": {
           "arrowcolor": "#2a3f5f",
           "arrowhead": 0,
           "arrowwidth": 1
          },
          "autotypenumbers": "strict",
          "coloraxis": {
           "colorbar": {
            "outlinewidth": 0,
            "ticks": ""
           }
          },
          "colorscale": {
           "diverging": [
            [
             0,
             "#8e0152"
            ],
            [
             0.1,
             "#c51b7d"
            ],
            [
             0.2,
             "#de77ae"
            ],
            [
             0.3,
             "#f1b6da"
            ],
            [
             0.4,
             "#fde0ef"
            ],
            [
             0.5,
             "#f7f7f7"
            ],
            [
             0.6,
             "#e6f5d0"
            ],
            [
             0.7,
             "#b8e186"
            ],
            [
             0.8,
             "#7fbc41"
            ],
            [
             0.9,
             "#4d9221"
            ],
            [
             1,
             "#276419"
            ]
           ],
           "sequential": [
            [
             0,
             "#0d0887"
            ],
            [
             0.1111111111111111,
             "#46039f"
            ],
            [
             0.2222222222222222,
             "#7201a8"
            ],
            [
             0.3333333333333333,
             "#9c179e"
            ],
            [
             0.4444444444444444,
             "#bd3786"
            ],
            [
             0.5555555555555556,
             "#d8576b"
            ],
            [
             0.6666666666666666,
             "#ed7953"
            ],
            [
             0.7777777777777778,
             "#fb9f3a"
            ],
            [
             0.8888888888888888,
             "#fdca26"
            ],
            [
             1,
             "#f0f921"
            ]
           ],
           "sequentialminus": [
            [
             0,
             "#0d0887"
            ],
            [
             0.1111111111111111,
             "#46039f"
            ],
            [
             0.2222222222222222,
             "#7201a8"
            ],
            [
             0.3333333333333333,
             "#9c179e"
            ],
            [
             0.4444444444444444,
             "#bd3786"
            ],
            [
             0.5555555555555556,
             "#d8576b"
            ],
            [
             0.6666666666666666,
             "#ed7953"
            ],
            [
             0.7777777777777778,
             "#fb9f3a"
            ],
            [
             0.8888888888888888,
             "#fdca26"
            ],
            [
             1,
             "#f0f921"
            ]
           ]
          },
          "colorway": [
           "#636efa",
           "#EF553B",
           "#00cc96",
           "#ab63fa",
           "#FFA15A",
           "#19d3f3",
           "#FF6692",
           "#B6E880",
           "#FF97FF",
           "#FECB52"
          ],
          "font": {
           "color": "#2a3f5f"
          },
          "geo": {
           "bgcolor": "white",
           "lakecolor": "white",
           "landcolor": "#E5ECF6",
           "showlakes": true,
           "showland": true,
           "subunitcolor": "white"
          },
          "hoverlabel": {
           "align": "left"
          },
          "hovermode": "closest",
          "mapbox": {
           "style": "light"
          },
          "paper_bgcolor": "white",
          "plot_bgcolor": "#E5ECF6",
          "polar": {
           "angularaxis": {
            "gridcolor": "white",
            "linecolor": "white",
            "ticks": ""
           },
           "bgcolor": "#E5ECF6",
           "radialaxis": {
            "gridcolor": "white",
            "linecolor": "white",
            "ticks": ""
           }
          },
          "scene": {
           "xaxis": {
            "backgroundcolor": "#E5ECF6",
            "gridcolor": "white",
            "gridwidth": 2,
            "linecolor": "white",
            "showbackground": true,
            "ticks": "",
            "zerolinecolor": "white"
           },
           "yaxis": {
            "backgroundcolor": "#E5ECF6",
            "gridcolor": "white",
            "gridwidth": 2,
            "linecolor": "white",
            "showbackground": true,
            "ticks": "",
            "zerolinecolor": "white"
           },
           "zaxis": {
            "backgroundcolor": "#E5ECF6",
            "gridcolor": "white",
            "gridwidth": 2,
            "linecolor": "white",
            "showbackground": true,
            "ticks": "",
            "zerolinecolor": "white"
           }
          },
          "shapedefaults": {
           "line": {
            "color": "#2a3f5f"
           }
          },
          "ternary": {
           "aaxis": {
            "gridcolor": "white",
            "linecolor": "white",
            "ticks": ""
           },
           "baxis": {
            "gridcolor": "white",
            "linecolor": "white",
            "ticks": ""
           },
           "bgcolor": "#E5ECF6",
           "caxis": {
            "gridcolor": "white",
            "linecolor": "white",
            "ticks": ""
           }
          },
          "title": {
           "x": 0.05
          },
          "xaxis": {
           "automargin": true,
           "gridcolor": "white",
           "linecolor": "white",
           "ticks": "",
           "title": {
            "standoff": 15
           },
           "zerolinecolor": "white",
           "zerolinewidth": 2
          },
          "yaxis": {
           "automargin": true,
           "gridcolor": "white",
           "linecolor": "white",
           "ticks": "",
           "title": {
            "standoff": 15
           },
           "zerolinecolor": "white",
           "zerolinewidth": 2
          }
         }
        }
       }
      }
     },
     "metadata": {},
     "output_type": "display_data"
    }
   ],
   "source": [
    "map_fig = px.scatter_geo(missile_stats, lat = \"Facility Latitude\", lon = \"Facility Longitude\", \n",
    "                         color = \"Facility Name\", hover_name=\"Facility Location\", \n",
    "                         hover_data=[\"Other Name\", \"Success\"])\n",
    "map_fig.update_layout(mapbox_style=\"open-street-map\")\n",
    "#map_fig.update_layout(margin={\"r\":0,\"t\":0,\"l\":0,\"b\":0}) This option allows to adjust figure. As you can see, the map is not oriented correctly.\n",
    "map_fig.show()\n"
   ]
  },
  {
   "cell_type": "markdown",
   "metadata": {},
   "source": [
    "# 3. Changing types of the data"
   ]
  },
  {
   "cell_type": "code",
   "execution_count": 11,
   "metadata": {},
   "outputs": [
    {
     "name": "stdout",
     "output_type": "stream",
     "text": [
      "object\n",
      "object\n"
     ]
    },
    {
     "data": {
      "text/html": [
       "<div>\n",
       "<style scoped>\n",
       "    .dataframe tbody tr th:only-of-type {\n",
       "        vertical-align: middle;\n",
       "    }\n",
       "\n",
       "    .dataframe tbody tr th {\n",
       "        vertical-align: top;\n",
       "    }\n",
       "\n",
       "    .dataframe thead th {\n",
       "        text-align: right;\n",
       "    }\n",
       "</style>\n",
       "<table border=\"1\" class=\"dataframe\">\n",
       "  <thead>\n",
       "    <tr style=\"text-align: right;\">\n",
       "      <th></th>\n",
       "      <th>F1</th>\n",
       "      <th>Date</th>\n",
       "      <th>Date Entered/Updated</th>\n",
       "      <th>Missile Name</th>\n",
       "      <th>Missile Type</th>\n",
       "      <th>Launch Agency/Authority</th>\n",
       "      <th>Facility Name</th>\n",
       "      <th>Facility Location</th>\n",
       "      <th>Other Name</th>\n",
       "      <th>Facility Latitude</th>\n",
       "      <th>Facility Longitude</th>\n",
       "      <th>Landing Location</th>\n",
       "      <th>Apogee (km)</th>\n",
       "      <th>Distance Travelled (km)</th>\n",
       "      <th>Confirmation Status</th>\n",
       "      <th>Success</th>\n",
       "      <th>Additional Information</th>\n",
       "      <th>Source(s)</th>\n",
       "    </tr>\n",
       "  </thead>\n",
       "  <tbody>\n",
       "    <tr>\n",
       "      <th>0</th>\n",
       "      <td>1</td>\n",
       "      <td>1984-04-09</td>\n",
       "      <td>2016-12-23</td>\n",
       "      <td>Scud-B</td>\n",
       "      <td>SRBM</td>\n",
       "      <td>NaN</td>\n",
       "      <td>Tonghae Satellite Launching Ground</td>\n",
       "      <td>Hwadae County, North Hamgyong Province</td>\n",
       "      <td>Musudan-ri</td>\n",
       "      <td>40.8499966</td>\n",
       "      <td>129.666664</td>\n",
       "      <td>Unknown</td>\n",
       "      <td>Unknown</td>\n",
       "      <td>Unknown</td>\n",
       "      <td>Confirmed</td>\n",
       "      <td>Success</td>\n",
       "      <td>The 1984 tests possibly took place over the co...</td>\n",
       "      <td>http://www.nti.org/media/pdfs/north_korea_miss...</td>\n",
       "    </tr>\n",
       "    <tr>\n",
       "      <th>1</th>\n",
       "      <td>2</td>\n",
       "      <td>1984-04-09</td>\n",
       "      <td>2016-12-23</td>\n",
       "      <td>Scud-B</td>\n",
       "      <td>SRBM</td>\n",
       "      <td>NaN</td>\n",
       "      <td>Tonghae Satellite Launching Ground</td>\n",
       "      <td>Hwadae County, North Hamgyong Province</td>\n",
       "      <td>Musudan-ri</td>\n",
       "      <td>40.8499966</td>\n",
       "      <td>129.666664</td>\n",
       "      <td>Unknown</td>\n",
       "      <td>Unknown</td>\n",
       "      <td>Unknown</td>\n",
       "      <td>Confirmed</td>\n",
       "      <td>Success</td>\n",
       "      <td>NaN</td>\n",
       "      <td>http://www.nti.org/media/pdfs/north_korea_miss...</td>\n",
       "    </tr>\n",
       "    <tr>\n",
       "      <th>2</th>\n",
       "      <td>3</td>\n",
       "      <td>1984-04-09</td>\n",
       "      <td>2016-12-23</td>\n",
       "      <td>Scud-B</td>\n",
       "      <td>SRBM</td>\n",
       "      <td>NaN</td>\n",
       "      <td>Tonghae Satellite Launching Ground</td>\n",
       "      <td>Hwadae County, North Hamgyong Province</td>\n",
       "      <td>Musudan-ri</td>\n",
       "      <td>40.8499966</td>\n",
       "      <td>129.666664</td>\n",
       "      <td>Unknown</td>\n",
       "      <td>200</td>\n",
       "      <td>Unknown</td>\n",
       "      <td>Confirmed</td>\n",
       "      <td>Success</td>\n",
       "      <td>NaN</td>\n",
       "      <td>http://www.astronautix.com/g/gitdaeryung.html;...</td>\n",
       "    </tr>\n",
       "    <tr>\n",
       "      <th>3</th>\n",
       "      <td>4</td>\n",
       "      <td>1984-09-01</td>\n",
       "      <td>2016-12-23</td>\n",
       "      <td>Scud-B</td>\n",
       "      <td>SRBM</td>\n",
       "      <td>NaN</td>\n",
       "      <td>Tonghae Satellite Launching Ground</td>\n",
       "      <td>Hwadae County, North Hamgyong Province</td>\n",
       "      <td>Musudan-ri</td>\n",
       "      <td>40.8499966</td>\n",
       "      <td>129.666664</td>\n",
       "      <td>Unknown</td>\n",
       "      <td>Unknown</td>\n",
       "      <td>Unknown</td>\n",
       "      <td>Confirmed</td>\n",
       "      <td>Failure</td>\n",
       "      <td>NaN</td>\n",
       "      <td>Joseph S. Bermudez, \"A History of Ballistic Mi...</td>\n",
       "    </tr>\n",
       "    <tr>\n",
       "      <th>4</th>\n",
       "      <td>5</td>\n",
       "      <td>1984-09-01</td>\n",
       "      <td>2016-12-23</td>\n",
       "      <td>Scud-B</td>\n",
       "      <td>SRBM</td>\n",
       "      <td>NaN</td>\n",
       "      <td>Tonghae Satellite Launching Ground</td>\n",
       "      <td>Hwadae County, North Hamgyong Province</td>\n",
       "      <td>Musudan-ri</td>\n",
       "      <td>40.8499966</td>\n",
       "      <td>129.666664</td>\n",
       "      <td>Unknown</td>\n",
       "      <td>200</td>\n",
       "      <td>Unknown</td>\n",
       "      <td>Confirmed</td>\n",
       "      <td>Failure</td>\n",
       "      <td>NaN</td>\n",
       "      <td>http://www.astronautix.com/g/gitdaeryung.html;...</td>\n",
       "    </tr>\n",
       "    <tr>\n",
       "      <th>...</th>\n",
       "      <td>...</td>\n",
       "      <td>...</td>\n",
       "      <td>...</td>\n",
       "      <td>...</td>\n",
       "      <td>...</td>\n",
       "      <td>...</td>\n",
       "      <td>...</td>\n",
       "      <td>...</td>\n",
       "      <td>...</td>\n",
       "      <td>...</td>\n",
       "      <td>...</td>\n",
       "      <td>...</td>\n",
       "      <td>...</td>\n",
       "      <td>...</td>\n",
       "      <td>...</td>\n",
       "      <td>...</td>\n",
       "      <td>...</td>\n",
       "      <td>...</td>\n",
       "    </tr>\n",
       "    <tr>\n",
       "      <th>101</th>\n",
       "      <td>102</td>\n",
       "      <td>2017-03-06</td>\n",
       "      <td>2017-03-07</td>\n",
       "      <td>ER Scud</td>\n",
       "      <td>MRBM</td>\n",
       "      <td>Hwasong Artillery Units of the KPA Strategic F...</td>\n",
       "      <td>Sohae Satellite Launching Station</td>\n",
       "      <td>Cholsan County, North Pyongan Province</td>\n",
       "      <td>NaN</td>\n",
       "      <td>39.6596</td>\n",
       "      <td>124.7057</td>\n",
       "      <td>Sea of Japan or East Sea</td>\n",
       "      <td>260</td>\n",
       "      <td>1000</td>\n",
       "      <td>Confirmed</td>\n",
       "      <td>Success</td>\n",
       "      <td>North Korea launched these 4 missiles almost s...</td>\n",
       "      <td>http://www.cnn.com/2017/03/06/asia/north-korea...</td>\n",
       "    </tr>\n",
       "    <tr>\n",
       "      <th>102</th>\n",
       "      <td>103</td>\n",
       "      <td>2017-03-22</td>\n",
       "      <td>2017-03-24</td>\n",
       "      <td>Unknown</td>\n",
       "      <td>Unknown</td>\n",
       "      <td>NaN</td>\n",
       "      <td>Wonsan Kalma International Airport</td>\n",
       "      <td>Kangwon Province, (North Korea)</td>\n",
       "      <td>Wonsan Airbase</td>\n",
       "      <td>39.1677</td>\n",
       "      <td>127.4817</td>\n",
       "      <td>NaN</td>\n",
       "      <td>0</td>\n",
       "      <td>NaN</td>\n",
       "      <td>Confirmed</td>\n",
       "      <td>Failure</td>\n",
       "      <td>Initial reports on this test were muddled with...</td>\n",
       "      <td>http://www.reuters.com/article/us-northkorea-m...</td>\n",
       "    </tr>\n",
       "    <tr>\n",
       "      <th>103</th>\n",
       "      <td>104</td>\n",
       "      <td>2017-04-05</td>\n",
       "      <td>2017-04-18</td>\n",
       "      <td>KN-17</td>\n",
       "      <td>SRBM</td>\n",
       "      <td>NaN</td>\n",
       "      <td>Sinpo Shipyard</td>\n",
       "      <td>South Hamgyong province</td>\n",
       "      <td>NaN</td>\n",
       "      <td>40.0368</td>\n",
       "      <td>128.1839</td>\n",
       "      <td>Sea of Japan or East Sea</td>\n",
       "      <td>189</td>\n",
       "      <td>60</td>\n",
       "      <td>Confirmed</td>\n",
       "      <td>Failure</td>\n",
       "      <td>The given trajectory of 60/190 is very strange...</td>\n",
       "      <td>https://www.nytimes.com/2017/04/04/world/asia/...</td>\n",
       "    </tr>\n",
       "    <tr>\n",
       "      <th>104</th>\n",
       "      <td>105</td>\n",
       "      <td>2017-04-16</td>\n",
       "      <td>2017-04-18</td>\n",
       "      <td>KN-17</td>\n",
       "      <td>SRBM</td>\n",
       "      <td>NaN</td>\n",
       "      <td>Sinpo Shipyard</td>\n",
       "      <td>South Hamgyong province</td>\n",
       "      <td>NaN</td>\n",
       "      <td>40.0368</td>\n",
       "      <td>128.1839</td>\n",
       "      <td>NaN</td>\n",
       "      <td>0</td>\n",
       "      <td>0</td>\n",
       "      <td>Confirmed</td>\n",
       "      <td>Failure</td>\n",
       "      <td>The missile appears to have blown up almost in...</td>\n",
       "      <td>http://www.cnn.com/2017/04/15/asia/north-korea...</td>\n",
       "    </tr>\n",
       "    <tr>\n",
       "      <th>105</th>\n",
       "      <td>106</td>\n",
       "      <td>2017-04-29</td>\n",
       "      <td>2017-05-02</td>\n",
       "      <td>Unknown</td>\n",
       "      <td>Unknown</td>\n",
       "      <td>NaN</td>\n",
       "      <td>Pukchang Airfield</td>\n",
       "      <td>South Pyongan Province</td>\n",
       "      <td>NaN</td>\n",
       "      <td>39.504417</td>\n",
       "      <td>125.964333</td>\n",
       "      <td>NaN</td>\n",
       "      <td>71</td>\n",
       "      <td>NaN</td>\n",
       "      <td>Confirmed</td>\n",
       "      <td>Failure</td>\n",
       "      <td>Initial reports were confusing and suggested m...</td>\n",
       "      <td>https://www.washingtonpost.com/world/north-kor...</td>\n",
       "    </tr>\n",
       "  </tbody>\n",
       "</table>\n",
       "<p>106 rows × 18 columns</p>\n",
       "</div>"
      ],
      "text/plain": [
       "      F1       Date Date Entered/Updated Missile Name Missile Type  \\\n",
       "0      1 1984-04-09           2016-12-23       Scud-B         SRBM   \n",
       "1      2 1984-04-09           2016-12-23       Scud-B         SRBM   \n",
       "2      3 1984-04-09           2016-12-23       Scud-B         SRBM   \n",
       "3      4 1984-09-01           2016-12-23       Scud-B         SRBM   \n",
       "4      5 1984-09-01           2016-12-23       Scud-B         SRBM   \n",
       "..   ...        ...                  ...          ...          ...   \n",
       "101  102 2017-03-06           2017-03-07      ER Scud         MRBM   \n",
       "102  103 2017-03-22           2017-03-24      Unknown      Unknown   \n",
       "103  104 2017-04-05           2017-04-18        KN-17         SRBM   \n",
       "104  105 2017-04-16           2017-04-18        KN-17         SRBM   \n",
       "105  106 2017-04-29           2017-05-02      Unknown      Unknown   \n",
       "\n",
       "                               Launch Agency/Authority  \\\n",
       "0                                                  NaN   \n",
       "1                                                  NaN   \n",
       "2                                                  NaN   \n",
       "3                                                  NaN   \n",
       "4                                                  NaN   \n",
       "..                                                 ...   \n",
       "101  Hwasong Artillery Units of the KPA Strategic F...   \n",
       "102                                                NaN   \n",
       "103                                                NaN   \n",
       "104                                                NaN   \n",
       "105                                                NaN   \n",
       "\n",
       "                          Facility Name  \\\n",
       "0    Tonghae Satellite Launching Ground   \n",
       "1    Tonghae Satellite Launching Ground   \n",
       "2    Tonghae Satellite Launching Ground   \n",
       "3    Tonghae Satellite Launching Ground   \n",
       "4    Tonghae Satellite Launching Ground   \n",
       "..                                  ...   \n",
       "101   Sohae Satellite Launching Station   \n",
       "102  Wonsan Kalma International Airport   \n",
       "103                      Sinpo Shipyard   \n",
       "104                      Sinpo Shipyard   \n",
       "105                   Pukchang Airfield   \n",
       "\n",
       "                          Facility Location      Other Name Facility Latitude  \\\n",
       "0    Hwadae County, North Hamgyong Province      Musudan-ri        40.8499966   \n",
       "1    Hwadae County, North Hamgyong Province      Musudan-ri        40.8499966   \n",
       "2    Hwadae County, North Hamgyong Province      Musudan-ri        40.8499966   \n",
       "3    Hwadae County, North Hamgyong Province      Musudan-ri        40.8499966   \n",
       "4    Hwadae County, North Hamgyong Province      Musudan-ri        40.8499966   \n",
       "..                                      ...             ...               ...   \n",
       "101  Cholsan County, North Pyongan Province             NaN           39.6596   \n",
       "102         Kangwon Province, (North Korea)  Wonsan Airbase           39.1677   \n",
       "103                 South Hamgyong province             NaN           40.0368   \n",
       "104                 South Hamgyong province             NaN           40.0368   \n",
       "105                  South Pyongan Province             NaN         39.504417   \n",
       "\n",
       "    Facility Longitude          Landing Location Apogee (km)  \\\n",
       "0           129.666664                   Unknown     Unknown   \n",
       "1           129.666664                   Unknown     Unknown   \n",
       "2           129.666664                   Unknown         200   \n",
       "3           129.666664                   Unknown     Unknown   \n",
       "4           129.666664                   Unknown         200   \n",
       "..                 ...                       ...         ...   \n",
       "101           124.7057  Sea of Japan or East Sea         260   \n",
       "102           127.4817                       NaN           0   \n",
       "103           128.1839  Sea of Japan or East Sea         189   \n",
       "104           128.1839                       NaN           0   \n",
       "105         125.964333                       NaN          71   \n",
       "\n",
       "    Distance Travelled (km) Confirmation Status  Success  \\\n",
       "0                   Unknown           Confirmed  Success   \n",
       "1                   Unknown           Confirmed  Success   \n",
       "2                   Unknown           Confirmed  Success   \n",
       "3                   Unknown           Confirmed  Failure   \n",
       "4                   Unknown           Confirmed  Failure   \n",
       "..                      ...                 ...      ...   \n",
       "101                    1000           Confirmed  Success   \n",
       "102                     NaN           Confirmed  Failure   \n",
       "103                      60           Confirmed  Failure   \n",
       "104                       0           Confirmed  Failure   \n",
       "105                     NaN           Confirmed  Failure   \n",
       "\n",
       "                                Additional Information  \\\n",
       "0    The 1984 tests possibly took place over the co...   \n",
       "1                                                  NaN   \n",
       "2                                                  NaN   \n",
       "3                                                  NaN   \n",
       "4                                                  NaN   \n",
       "..                                                 ...   \n",
       "101  North Korea launched these 4 missiles almost s...   \n",
       "102  Initial reports on this test were muddled with...   \n",
       "103  The given trajectory of 60/190 is very strange...   \n",
       "104  The missile appears to have blown up almost in...   \n",
       "105  Initial reports were confusing and suggested m...   \n",
       "\n",
       "                                             Source(s)  \n",
       "0    http://www.nti.org/media/pdfs/north_korea_miss...  \n",
       "1    http://www.nti.org/media/pdfs/north_korea_miss...  \n",
       "2    http://www.astronautix.com/g/gitdaeryung.html;...  \n",
       "3    Joseph S. Bermudez, \"A History of Ballistic Mi...  \n",
       "4    http://www.astronautix.com/g/gitdaeryung.html;...  \n",
       "..                                                 ...  \n",
       "101  http://www.cnn.com/2017/03/06/asia/north-korea...  \n",
       "102  http://www.reuters.com/article/us-northkorea-m...  \n",
       "103  https://www.nytimes.com/2017/04/04/world/asia/...  \n",
       "104  http://www.cnn.com/2017/04/15/asia/north-korea...  \n",
       "105  https://www.washingtonpost.com/world/north-kor...  \n",
       "\n",
       "[106 rows x 18 columns]"
      ]
     },
     "execution_count": 11,
     "metadata": {},
     "output_type": "execute_result"
    }
   ],
   "source": [
    "print(missile_stats['Facility Latitude'].dtype) \n",
    "print(missile_stats['Facility Longitude'].dtype) \n",
    "\n",
    "missile_stats\n",
    "\n",
    "# The result shows that location data is object. We must convert it to float to plot it on a map"
   ]
  },
  {
   "cell_type": "code",
   "execution_count": 16,
   "metadata": {},
   "outputs": [
    {
     "data": {
      "text/plain": [
       "North Wonsan                          20\n",
       "Tonghae Satellite Launching Ground    17\n",
       "Kittaeryong Missile Base              17\n",
       "Hwangju                               12\n",
       "Wonsan Kalma International Airport    11\n",
       "Sinpo Shipyard                         8\n",
       "Sohae Satellite Launching Station      7\n",
       "Sunchon Airbase                        4\n",
       "Kaesong                                2\n",
       "Nampo                                  2\n",
       "Panghyon Airbase                       2\n",
       "Chihari Missile Base                   1\n",
       "Unknown                                1\n",
       "Kusong Testing Ground                  1\n",
       "Pukchang Airfield                      1\n",
       "Name: Facility Name, dtype: int64"
      ]
     },
     "execution_count": 16,
     "metadata": {},
     "output_type": "execute_result"
    }
   ],
   "source": [
    "# I'm working on chart.\n",
    "\n",
    "facility_frequencies = missile_stats['Facility Name'].value_counts()\n",
    "facility_frequencies\n",
    "\n",
    "#missile_stats['Frequencies'].plot(kind=\"barh\")\n",
    "\n"
   ]
  },
  {
   "cell_type": "code",
   "execution_count": 38,
   "metadata": {},
   "outputs": [
    {
     "data": {
      "image/png": "[encoded data removed]",
      "text/plain": [
       "<Figure size 1600x1000 with 1 Axes>"
      ]
     },
     "metadata": {},
     "output_type": "display_data"
    }
   ],
   "source": [
    "plt.figure(figsize=(16, 10))\n",
    "\n",
    "plt.barh(facility_frequencies.index, facility_frequencies.values, color ='#00CED1')\n",
    "# Adding labels and title\n",
    "plt.xlabel('Number of Missile Tests', size=12)\n",
    "plt.ylabel('Facility Names', size = 12)\n",
    "plt.title('DPRK Missile Test Database by Number')\n",
    "plt.xticks(rotation=0)\n",
    "\n",
    "plt.show()\n"
   ]
  },
  {
   "cell_type": "code",
   "execution_count": 19,
   "metadata": {},
   "outputs": [
    {
     "ename": "TypeError",
     "evalue": "bar() missing 1 required positional argument: 'height'",
     "output_type": "error",
     "traceback": [
      "\u001b[1;31m---------------------------------------------------------------------------\u001b[0m",
      "\u001b[1;31mTypeError\u001b[0m                                 Traceback (most recent call last)",
      "Cell \u001b[1;32mIn[19], line 3\u001b[0m\n\u001b[0;32m      1\u001b[0m \u001b[39m#missile_stats['Frequencies'].plot(kind=\"barh\")\u001b[39;00m\n\u001b[1;32m----> 3\u001b[0m plt\u001b[39m.\u001b[39;49mbar(missile_stats[\u001b[39m'\u001b[39;49m\u001b[39mFrequencies\u001b[39;49m\u001b[39m'\u001b[39;49m], color \u001b[39m=\u001b[39;49m\u001b[39m'\u001b[39;49m\u001b[39mmaroon\u001b[39;49m\u001b[39m'\u001b[39;49m,\n\u001b[0;32m      4\u001b[0m         width \u001b[39m=\u001b[39;49m \u001b[39m0.4\u001b[39;49m)\n",
      "\u001b[1;31mTypeError\u001b[0m: bar() missing 1 required positional argument: 'height'"
     ]
    }
   ],
   "source": [
    "#missile_stats['Frequencies'].plot(kind=\"barh\")\n",
    "\n",
    "plt.bar(missile_stats['Frequencies'], color ='maroon',\n",
    "        width = 0.4)"
   ]
  },
  {
   "cell_type": "code",
   "execution_count": 17,
   "metadata": {},
   "outputs": [],
   "source": [
    "missile_stats['Frequencies'] = missile_stats['Facility Name'].map(facility_frequencies)\n",
    "\n",
    "\n",
    "# plt.xlabel('Number of Views (In Millions)')\n",
    "# plt.ylabel('Channel Names')\n",
    "# plt.title('The Most Viewed YouTube Channels (Nov 2017 - Jun 2018)')\n"
   ]
  },
  {
   "cell_type": "code",
   "execution_count": 16,
   "metadata": {},
   "outputs": [],
   "source": [
    "missile_stats['Facility Latitude'] = missile_stats['Facility Latitude'].replace('Unknown', None)\n",
    "missile_stats['Facility Longitude'] = missile_stats['Facility Longitude'].replace('Unknown', None)\n",
    "\n",
    "missile_stats['Facility Latitude'] = missile_stats['Facility Latitude'].astype(float)\n",
    "missile_stats['Facility Longitude'] = missile_stats['Facility Longitude'].astype(float)"
   ]
  },
  {
   "cell_type": "code",
   "execution_count": 17,
   "metadata": {},
   "outputs": [
    {
     "data": {
      "application/vnd.plotly.v1+json": {
       "config": {
        "plotlyServerURL": "https://plot.ly"
       },
       "data": [
        {
         "hovertemplate": "Facility Name=Tonghae Satellite Launching Ground<br>Frequencies=%{marker.size}<br>Facility Latitude=%{lat}<br>Facility Longitude=%{lon}<extra></extra>",
         "lat": [
          40.8499966,
          40.8499966,
          40.8499966,
          40.8499966,
          40.8499966,
          40.8499966,
          40.8499966,
          40.8499966,
          40.8499966,
          40.8499966,
          40.8499966,
          40.8499966,
          40.8499966,
          40.8499966,
          40.8499966,
          40.8499966,
          40.8499966
         ],
         "legendgroup": "Tonghae Satellite Launching Ground",
         "lon": [
          129.666664,
          129.666664,
          129.666664,
          129.666664,
          129.666664,
          129.666664,
          129.666664,
          129.666664,
          129.666664,
          129.666664,
          129.666664,
          129.666664,
          129.666664,
          129.666664,
          129.666664,
          129.666664,
          129.666664
         ],
         "marker": {
          "color": "#636efa",
          "size": [
           17,
           17,
           17,
           17,
           17,
           17,
           17,
           17,
           17,
           17,
           17,
           17,
           17,
           17,
           17,
           17,
           17
          ],
          "sizemode": "area",
          "sizeref": 0.05
         },
         "mode": "markers",
         "name": "Tonghae Satellite Launching Ground",
         "showlegend": true,
         "subplot": "mapbox",
         "type": "scattermapbox"
        },
        {
         "hovertemplate": "Facility Name=Chihari Missile Base<br>Frequencies=%{marker.size}<br>Facility Latitude=%{lat}<br>Facility Longitude=%{lon}<extra></extra>",
         "lat": [
          38.62333
         ],
         "legendgroup": "Chihari Missile Base",
         "lon": [
          126.6847
         ],
         "marker": {
          "color": "#EF553B",
          "size": [
           1
          ],
          "sizemode": "area",
          "sizeref": 0.05
         },
         "mode": "markers",
         "name": "Chihari Missile Base",
         "showlegend": true,
         "subplot": "mapbox",
         "type": "scattermapbox"
        },
        {
         "hovertemplate": "Facility Name=Kittaeryong Missile Base<br>Frequencies=%{marker.size}<br>Facility Latitude=%{lat}<br>Facility Longitude=%{lon}<extra></extra>",
         "lat": [
          38.99083,
          38.99083,
          38.99083,
          38.99083,
          38.99083,
          38.99083,
          38.99083,
          38.99083,
          38.99083,
          38.99083,
          38.99083,
          38.99083,
          38.99083,
          38.99083,
          38.99083,
          38.99083,
          38.99083
         ],
         "legendgroup": "Kittaeryong Missile Base",
         "lon": [
          127.6236,
          127.6236,
          127.6236,
          127.6236,
          127.6236,
          127.6236,
          127.6236,
          127.6236,
          127.6236,
          127.6236,
          127.6236,
          127.6236,
          127.6236,
          127.6236,
          127.6236,
          127.6236,
          127.6236
         ],
         "marker": {
          "color": "#00cc96",
          "size": [
           17,
           17,
           17,
           17,
           17,
           17,
           17,
           17,
           17,
           17,
           17,
           17,
           17,
           17,
           17,
           17,
           17
          ],
          "sizemode": "area",
          "sizeref": 0.05
         },
         "mode": "markers",
         "name": "Kittaeryong Missile Base",
         "showlegend": true,
         "subplot": "mapbox",
         "type": "scattermapbox"
        },
        {
         "hovertemplate": "Facility Name=Sohae Satellite Launching Station<br>Frequencies=%{marker.size}<br>Facility Latitude=%{lat}<br>Facility Longitude=%{lon}<extra></extra>",
         "lat": [
          39.6596,
          39.6596,
          39.6596,
          39.6596,
          39.6596,
          39.6596,
          39.6596
         ],
         "legendgroup": "Sohae Satellite Launching Station",
         "lon": [
          124.7057,
          124.7057,
          124.7057,
          124.7057,
          124.7057,
          124.7057,
          124.7057
         ],
         "marker": {
          "color": "#ab63fa",
          "size": [
           7,
           7,
           7,
           7,
           7,
           7,
           7
          ],
          "sizemode": "area",
          "sizeref": 0.05
         },
         "mode": "markers",
         "name": "Sohae Satellite Launching Station",
         "showlegend": true,
         "subplot": "mapbox",
         "type": "scattermapbox"
        },
        {
         "hovertemplate": "Facility Name=North Wonsan<br>Frequencies=%{marker.size}<br>Facility Latitude=%{lat}<br>Facility Longitude=%{lon}<extra></extra>",
         "lat": [
          39.40167,
          39.40167,
          39.40167,
          39.40167,
          39.40167,
          39.40167,
          39.40167,
          39.40167,
          39.40167,
          39.40167,
          39.40167,
          39.40167,
          39.40167,
          39.40167,
          39.40167,
          39.40167,
          39.40167,
          39.40167,
          39.40167,
          39.40167
         ],
         "legendgroup": "North Wonsan",
         "lon": [
          127.5369,
          127.5369,
          127.5369,
          127.5369,
          127.5369,
          127.5369,
          127.5369,
          127.5369,
          127.5369,
          127.5369,
          127.5369,
          127.5369,
          127.5369,
          127.5369,
          127.5369,
          127.5369,
          127.5369,
          127.5369,
          127.5369,
          127.5369
         ],
         "marker": {
          "color": "#FFA15A",
          "size": [
           20,
           20,
           20,
           20,
           20,
           20,
           20,
           20,
           20,
           20,
           20,
           20,
           20,
           20,
           20,
           20,
           20,
           20,
           20,
           20
          ],
          "sizemode": "area",
          "sizeref": 0.05
         },
         "mode": "markers",
         "name": "North Wonsan",
         "showlegend": true,
         "subplot": "mapbox",
         "type": "scattermapbox"
        },
        {
         "hovertemplate": "Facility Name=Wonsan Kalma International Airport<br>Frequencies=%{marker.size}<br>Facility Latitude=%{lat}<br>Facility Longitude=%{lon}<extra></extra>",
         "lat": [
          39.1677,
          39.1677,
          39.1677,
          39.1677,
          39.1677,
          39.1677,
          39.1677,
          39.1677,
          39.1677,
          39.1677,
          39.1677
         ],
         "legendgroup": "Wonsan Kalma International Airport",
         "lon": [
          127.4817,
          127.4817,
          127.4817,
          127.4817,
          127.4817,
          127.4817,
          127.4817,
          127.4817,
          127.4817,
          127.4817,
          127.4817
         ],
         "marker": {
          "color": "#19d3f3",
          "size": [
           11,
           11,
           11,
           11,
           11,
           11,
           11,
           11,
           11,
           11,
           11
          ],
          "sizemode": "area",
          "sizeref": 0.05
         },
         "mode": "markers",
         "name": "Wonsan Kalma International Airport",
         "showlegend": true,
         "subplot": "mapbox",
         "type": "scattermapbox"
        },
        {
         "hovertemplate": "Facility Name=Sunchon Airbase<br>Frequencies=%{marker.size}<br>Facility Latitude=%{lat}<br>Facility Longitude=%{lon}<extra></extra>",
         "lat": [
          39.412594,
          39.412594,
          39.412594,
          39.412594
         ],
         "legendgroup": "Sunchon Airbase",
         "lon": [
          125.89031,
          125.89031,
          125.89031,
          125.89031
         ],
         "marker": {
          "color": "#FF6692",
          "size": [
           4,
           4,
           4,
           4
          ],
          "sizemode": "area",
          "sizeref": 0.05
         },
         "mode": "markers",
         "name": "Sunchon Airbase",
         "showlegend": true,
         "subplot": "mapbox",
         "type": "scattermapbox"
        },
        {
         "hovertemplate": "Facility Name=Hwangju<br>Frequencies=%{marker.size}<br>Facility Latitude=%{lat}<br>Facility Longitude=%{lon}<extra></extra>",
         "lat": [
          38.686834,
          38.686834,
          38.686834,
          38.686834,
          38.686834,
          38.686834,
          38.686834,
          38.686834,
          38.686834,
          38.686834,
          38.686834,
          38.686834
         ],
         "legendgroup": "Hwangju",
         "lon": [
          125.702005,
          125.702005,
          125.702005,
          125.702005,
          125.702005,
          125.702005,
          125.702005,
          125.702005,
          125.702005,
          125.702005,
          125.702005,
          125.702005
         ],
         "marker": {
          "color": "#B6E880",
          "size": [
           12,
           12,
           12,
           12,
           12,
           12,
           12,
           12,
           12,
           12,
           12,
           12
          ],
          "sizemode": "area",
          "sizeref": 0.05
         },
         "mode": "markers",
         "name": "Hwangju",
         "showlegend": true,
         "subplot": "mapbox",
         "type": "scattermapbox"
        },
        {
         "hovertemplate": "Facility Name=Kaesong<br>Frequencies=%{marker.size}<br>Facility Latitude=%{lat}<br>Facility Longitude=%{lon}<extra></extra>",
         "lat": [
          37.9382,
          37.9382
         ],
         "legendgroup": "Kaesong",
         "lon": [
          126.5878,
          126.5878
         ],
         "marker": {
          "color": "#FF97FF",
          "size": [
           2,
           2
          ],
          "sizemode": "area",
          "sizeref": 0.05
         },
         "mode": "markers",
         "name": "Kaesong",
         "showlegend": true,
         "subplot": "mapbox",
         "type": "scattermapbox"
        },
        {
         "hovertemplate": "Facility Name=Unknown<br>Frequencies=%{marker.size}<br>Facility Latitude=%{lat}<br>Facility Longitude=%{lon}<extra></extra>",
         "lat": [
          null
         ],
         "legendgroup": "Unknown",
         "lon": [
          null
         ],
         "marker": {
          "color": "#FECB52",
          "size": [
           1
          ],
          "sizemode": "area",
          "sizeref": 0.05
         },
         "mode": "markers",
         "name": "Unknown",
         "showlegend": true,
         "subplot": "mapbox",
         "type": "scattermapbox"
        },
        {
         "hovertemplate": "Facility Name=Nampo<br>Frequencies=%{marker.size}<br>Facility Latitude=%{lat}<br>Facility Longitude=%{lon}<extra></extra>",
         "lat": [
          38.7523,
          38.7523
         ],
         "legendgroup": "Nampo",
         "lon": [
          125.3247,
          125.3247
         ],
         "marker": {
          "color": "#636efa",
          "size": [
           2,
           2
          ],
          "sizemode": "area",
          "sizeref": 0.05
         },
         "mode": "markers",
         "name": "Nampo",
         "showlegend": true,
         "subplot": "mapbox",
         "type": "scattermapbox"
        },
        {
         "hovertemplate": "Facility Name=Sinpo Shipyard<br>Frequencies=%{marker.size}<br>Facility Latitude=%{lat}<br>Facility Longitude=%{lon}<extra></extra>",
         "lat": [
          40.0368,
          40.0368,
          40.0368,
          40.0368,
          40.0368,
          40.0368,
          40.0368,
          40.0368
         ],
         "legendgroup": "Sinpo Shipyard",
         "lon": [
          128.1839,
          128.1839,
          128.1839,
          128.1839,
          128.1839,
          128.1839,
          128.1839,
          128.1839
         ],
         "marker": {
          "color": "#EF553B",
          "size": [
           8,
           8,
           8,
           8,
           8,
           8,
           8,
           8
          ],
          "sizemode": "area",
          "sizeref": 0.05
         },
         "mode": "markers",
         "name": "Sinpo Shipyard",
         "showlegend": true,
         "subplot": "mapbox",
         "type": "scattermapbox"
        },
        {
         "hovertemplate": "Facility Name=Panghyon Airbase<br>Frequencies=%{marker.size}<br>Facility Latitude=%{lat}<br>Facility Longitude=%{lon}<extra></extra>",
         "lat": [
          39.927472,
          39.927472
         ],
         "legendgroup": "Panghyon Airbase",
         "lon": [
          125.207889,
          125.207889
         ],
         "marker": {
          "color": "#00cc96",
          "size": [
           2,
           2
          ],
          "sizemode": "area",
          "sizeref": 0.05
         },
         "mode": "markers",
         "name": "Panghyon Airbase",
         "showlegend": true,
         "subplot": "mapbox",
         "type": "scattermapbox"
        },
        {
         "hovertemplate": "Facility Name=Kusong Testing Ground<br>Frequencies=%{marker.size}<br>Facility Latitude=%{lat}<br>Facility Longitude=%{lon}<extra></extra>",
         "lat": [
          40.01325
         ],
         "legendgroup": "Kusong Testing Ground",
         "lon": [
          125.22302
         ],
         "marker": {
          "color": "#ab63fa",
          "size": [
           1
          ],
          "sizemode": "area",
          "sizeref": 0.05
         },
         "mode": "markers",
         "name": "Kusong Testing Ground",
         "showlegend": true,
         "subplot": "mapbox",
         "type": "scattermapbox"
        },
        {
         "hovertemplate": "Facility Name=Pukchang Airfield<br>Frequencies=%{marker.size}<br>Facility Latitude=%{lat}<br>Facility Longitude=%{lon}<extra></extra>",
         "lat": [
          39.504417
         ],
         "legendgroup": "Pukchang Airfield",
         "lon": [
          125.964333
         ],
         "marker": {
          "color": "#FFA15A",
          "size": [
           1
          ],
          "sizemode": "area",
          "sizeref": 0.05
         },
         "mode": "markers",
         "name": "Pukchang Airfield",
         "showlegend": true,
         "subplot": "mapbox",
         "type": "scattermapbox"
        }
       ],
       "layout": {
        "height": 900,
        "legend": {
         "itemsizing": "constant",
         "title": {
          "text": "Facility Name"
         },
         "tracegroupgap": 0
        },
        "mapbox": {
         "center": {
          "lat": 39.17180415583127,
          "lon": 126.551952046587
         },
         "domain": {
          "x": [
           0,
           1
          ],
          "y": [
           0,
           1
          ]
         },
         "style": "carto-positron",
         "zoom": 6
        },
        "margin": {
         "autoexpand": true
        },
        "template": {
         "data": {
          "bar": [
           {
            "error_x": {
             "color": "#2a3f5f"
            },
            "error_y": {
             "color": "#2a3f5f"
            },
            "marker": {
             "line": {
              "color": "#E5ECF6",
              "width": 0.5
             },
             "pattern": {
              "fillmode": "overlay",
              "size": 10,
              "solidity": 0.2
             }
            },
            "type": "bar"
           }
          ],
          "barpolar": [
           {
            "marker": {
             "line": {
              "color": "#E5ECF6",
              "width": 0.5
             },
             "pattern": {
              "fillmode": "overlay",
              "size": 10,
              "solidity": 0.2
             }
            },
            "type": "barpolar"
           }
          ],
          "carpet": [
           {
            "aaxis": {
             "endlinecolor": "#2a3f5f",
             "gridcolor": "white",
             "linecolor": "white",
             "minorgridcolor": "white",
             "startlinecolor": "#2a3f5f"
            },
            "baxis": {
             "endlinecolor": "#2a3f5f",
             "gridcolor": "white",
             "linecolor": "white",
             "minorgridcolor": "white",
             "startlinecolor": "#2a3f5f"
            },
            "type": "carpet"
           }
          ],
          "choropleth": [
           {
            "colorbar": {
             "outlinewidth": 0,
             "ticks": ""
            },
            "type": "choropleth"
           }
          ],
          "contour": [
           {
            "colorbar": {
             "outlinewidth": 0,
             "ticks": ""
            },
            "colorscale": [
             [
              0,
              "#0d0887"
             ],
             [
              0.1111111111111111,
              "#46039f"
             ],
             [
              0.2222222222222222,
              "#7201a8"
             ],
             [
              0.3333333333333333,
              "#9c179e"
             ],
             [
              0.4444444444444444,
              "#bd3786"
             ],
             [
              0.5555555555555556,
              "#d8576b"
             ],
             [
              0.6666666666666666,
              "#ed7953"
             ],
             [
              0.7777777777777778,
              "#fb9f3a"
             ],
             [
              0.8888888888888888,
              "#fdca26"
             ],
             [
              1,
              "#f0f921"
             ]
            ],
            "type": "contour"
           }
          ],
          "contourcarpet": [
           {
            "colorbar": {
             "outlinewidth": 0,
             "ticks": ""
            },
            "type": "contourcarpet"
           }
          ],
          "heatmap": [
           {
            "colorbar": {
             "outlinewidth": 0,
             "ticks": ""
            },
            "colorscale": [
             [
              0,
              "#0d0887"
             ],
             [
              0.1111111111111111,
              "#46039f"
             ],
             [
              0.2222222222222222,
              "#7201a8"
             ],
             [
              0.3333333333333333,
              "#9c179e"
             ],
             [
              0.4444444444444444,
              "#bd3786"
             ],
             [
              0.5555555555555556,
              "#d8576b"
             ],
             [
              0.6666666666666666,
              "#ed7953"
             ],
             [
              0.7777777777777778,
              "#fb9f3a"
             ],
             [
              0.8888888888888888,
              "#fdca26"
             ],
             [
              1,
              "#f0f921"
             ]
            ],
            "type": "heatmap"
           }
          ],
          "heatmapgl": [
           {
            "colorbar": {
             "outlinewidth": 0,
             "ticks": ""
            },
            "colorscale": [
             [
              0,
              "#0d0887"
             ],
             [
              0.1111111111111111,
              "#46039f"
             ],
             [
              0.2222222222222222,
              "#7201a8"
             ],
             [
              0.3333333333333333,
              "#9c179e"
             ],
             [
              0.4444444444444444,
              "#bd3786"
             ],
             [
              0.5555555555555556,
              "#d8576b"
             ],
             [
              0.6666666666666666,
              "#ed7953"
             ],
             [
              0.7777777777777778,
              "#fb9f3a"
             ],
             [
              0.8888888888888888,
              "#fdca26"
             ],
             [
              1,
              "#f0f921"
             ]
            ],
            "type": "heatmapgl"
           }
          ],
          "histogram": [
           {
            "marker": {
             "pattern": {
              "fillmode": "overlay",
              "size": 10,
              "solidity": 0.2
             }
            },
            "type": "histogram"
           }
          ],
          "histogram2d": [
           {
            "colorbar": {
             "outlinewidth": 0,
             "ticks": ""
            },
            "colorscale": [
             [
              0,
              "#0d0887"
             ],
             [
              0.1111111111111111,
              "#46039f"
             ],
             [
              0.2222222222222222,
              "#7201a8"
             ],
             [
              0.3333333333333333,
              "#9c179e"
             ],
             [
              0.4444444444444444,
              "#bd3786"
             ],
             [
              0.5555555555555556,
              "#d8576b"
             ],
             [
              0.6666666666666666,
              "#ed7953"
             ],
             [
              0.7777777777777778,
              "#fb9f3a"
             ],
             [
              0.8888888888888888,
              "#fdca26"
             ],
             [
              1,
              "#f0f921"
             ]
            ],
            "type": "histogram2d"
           }
          ],
          "histogram2dcontour": [
           {
            "colorbar": {
             "outlinewidth": 0,
             "ticks": ""
            },
            "colorscale": [
             [
              0,
              "#0d0887"
             ],
             [
              0.1111111111111111,
              "#46039f"
             ],
             [
              0.2222222222222222,
              "#7201a8"
             ],
             [
              0.3333333333333333,
              "#9c179e"
             ],
             [
              0.4444444444444444,
              "#bd3786"
             ],
             [
              0.5555555555555556,
              "#d8576b"
             ],
             [
              0.6666666666666666,
              "#ed7953"
             ],
             [
              0.7777777777777778,
              "#fb9f3a"
             ],
             [
              0.8888888888888888,
              "#fdca26"
             ],
             [
              1,
              "#f0f921"
             ]
            ],
            "type": "histogram2dcontour"
           }
          ],
          "mesh3d": [
           {
            "colorbar": {
             "outlinewidth": 0,
             "ticks": ""
            },
            "type": "mesh3d"
           }
          ],
          "parcoords": [
           {
            "line": {
             "colorbar": {
              "outlinewidth": 0,
              "ticks": ""
             }
            },
            "type": "parcoords"
           }
          ],
          "pie": [
           {
            "automargin": true,
            "type": "pie"
           }
          ],
          "scatter": [
           {
            "fillpattern": {
             "fillmode": "overlay",
             "size": 10,
             "solidity": 0.2
            },
            "type": "scatter"
           }
          ],
          "scatter3d": [
           {
            "line": {
             "colorbar": {
              "outlinewidth": 0,
              "ticks": ""
             }
            },
            "marker": {
             "colorbar": {
              "outlinewidth": 0,
              "ticks": ""
             }
            },
            "type": "scatter3d"
           }
          ],
          "scattercarpet": [
           {
            "marker": {
             "colorbar": {
              "outlinewidth": 0,
              "ticks": ""
             }
            },
            "type": "scattercarpet"
           }
          ],
          "scattergeo": [
           {
            "marker": {
             "colorbar": {
              "outlinewidth": 0,
              "ticks": ""
             }
            },
            "type": "scattergeo"
           }
          ],
          "scattergl": [
           {
            "marker": {
             "colorbar": {
              "outlinewidth": 0,
              "ticks": ""
             }
            },
            "type": "scattergl"
           }
          ],
          "scattermapbox": [
           {
            "marker": {
             "colorbar": {
              "outlinewidth": 0,
              "ticks": ""
             }
            },
            "type": "scattermapbox"
           }
          ],
          "scatterpolar": [
           {
            "marker": {
             "colorbar": {
              "outlinewidth": 0,
              "ticks": ""
             }
            },
            "type": "scatterpolar"
           }
          ],
          "scatterpolargl": [
           {
            "marker": {
             "colorbar": {
              "outlinewidth": 0,
              "ticks": ""
             }
            },
            "type": "scatterpolargl"
           }
          ],
          "scatterternary": [
           {
            "marker": {
             "colorbar": {
              "outlinewidth": 0,
              "ticks": ""
             }
            },
            "type": "scatterternary"
           }
          ],
          "surface": [
           {
            "colorbar": {
             "outlinewidth": 0,
             "ticks": ""
            },
            "colorscale": [
             [
              0,
              "#0d0887"
             ],
             [
              0.1111111111111111,
              "#46039f"
             ],
             [
              0.2222222222222222,
              "#7201a8"
             ],
             [
              0.3333333333333333,
              "#9c179e"
             ],
             [
              0.4444444444444444,
              "#bd3786"
             ],
             [
              0.5555555555555556,
              "#d8576b"
             ],
             [
              0.6666666666666666,
              "#ed7953"
             ],
             [
              0.7777777777777778,
              "#fb9f3a"
             ],
             [
              0.8888888888888888,
              "#fdca26"
             ],
             [
              1,
              "#f0f921"
             ]
            ],
            "type": "surface"
           }
          ],
          "table": [
           {
            "cells": {
             "fill": {
              "color": "#EBF0F8"
             },
             "line": {
              "color": "white"
             }
            },
            "header": {
             "fill": {
              "color": "#C8D4E3"
             },
             "line": {
              "color": "white"
             }
            },
            "type": "table"
           }
          ]
         },
         "layout": {
          "annotationdefaults": {
           "arrowcolor": "#2a3f5f",
           "arrowhead": 0,
           "arrowwidth": 1
          },
          "autotypenumbers": "strict",
          "coloraxis": {
           "colorbar": {
            "outlinewidth": 0,
            "ticks": ""
           }
          },
          "colorscale": {
           "diverging": [
            [
             0,
             "#8e0152"
            ],
            [
             0.1,
             "#c51b7d"
            ],
            [
             0.2,
             "#de77ae"
            ],
            [
             0.3,
             "#f1b6da"
            ],
            [
             0.4,
             "#fde0ef"
            ],
            [
             0.5,
             "#f7f7f7"
            ],
            [
             0.6,
             "#e6f5d0"
            ],
            [
             0.7,
             "#b8e186"
            ],
            [
             0.8,
             "#7fbc41"
            ],
            [
             0.9,
             "#4d9221"
            ],
            [
             1,
             "#276419"
            ]
           ],
           "sequential": [
            [
             0,
             "#0d0887"
            ],
            [
             0.1111111111111111,
             "#46039f"
            ],
            [
             0.2222222222222222,
             "#7201a8"
            ],
            [
             0.3333333333333333,
             "#9c179e"
            ],
            [
             0.4444444444444444,
             "#bd3786"
            ],
            [
             0.5555555555555556,
             "#d8576b"
            ],
            [
             0.6666666666666666,
             "#ed7953"
            ],
            [
             0.7777777777777778,
             "#fb9f3a"
            ],
            [
             0.8888888888888888,
             "#fdca26"
            ],
            [
             1,
             "#f0f921"
            ]
           ],
           "sequentialminus": [
            [
             0,
             "#0d0887"
            ],
            [
             0.1111111111111111,
             "#46039f"
            ],
            [
             0.2222222222222222,
             "#7201a8"
            ],
            [
             0.3333333333333333,
             "#9c179e"
            ],
            [
             0.4444444444444444,
             "#bd3786"
            ],
            [
             0.5555555555555556,
             "#d8576b"
            ],
            [
             0.6666666666666666,
             "#ed7953"
            ],
            [
             0.7777777777777778,
             "#fb9f3a"
            ],
            [
             0.8888888888888888,
             "#fdca26"
            ],
            [
             1,
             "#f0f921"
            ]
           ]
          },
          "colorway": [
           "#636efa",
           "#EF553B",
           "#00cc96",
           "#ab63fa",
           "#FFA15A",
           "#19d3f3",
           "#FF6692",
           "#B6E880",
           "#FF97FF",
           "#FECB52"
          ],
          "font": {
           "color": "#2a3f5f"
          },
          "geo": {
           "bgcolor": "white",
           "lakecolor": "white",
           "landcolor": "#E5ECF6",
           "showlakes": true,
           "showland": true,
           "subunitcolor": "white"
          },
          "hoverlabel": {
           "align": "left"
          },
          "hovermode": "closest",
          "mapbox": {
           "style": "light"
          },
          "paper_bgcolor": "white",
          "plot_bgcolor": "#E5ECF6",
          "polar": {
           "angularaxis": {
            "gridcolor": "white",
            "linecolor": "white",
            "ticks": ""
           },
           "bgcolor": "#E5ECF6",
           "radialaxis": {
            "gridcolor": "white",
            "linecolor": "white",
            "ticks": ""
           }
          },
          "scene": {
           "xaxis": {
            "backgroundcolor": "#E5ECF6",
            "gridcolor": "white",
            "gridwidth": 2,
            "linecolor": "white",
            "showbackground": true,
            "ticks": "",
            "zerolinecolor": "white"
           },
           "yaxis": {
            "backgroundcolor": "#E5ECF6",
            "gridcolor": "white",
            "gridwidth": 2,
            "linecolor": "white",
            "showbackground": true,
            "ticks": "",
            "zerolinecolor": "white"
           },
           "zaxis": {
            "backgroundcolor": "#E5ECF6",
            "gridcolor": "white",
            "gridwidth": 2,
            "linecolor": "white",
            "showbackground": true,
            "ticks": "",
            "zerolinecolor": "white"
           }
          },
          "shapedefaults": {
           "line": {
            "color": "#2a3f5f"
           }
          },
          "ternary": {
           "aaxis": {
            "gridcolor": "white",
            "linecolor": "white",
            "ticks": ""
           },
           "baxis": {
            "gridcolor": "white",
            "linecolor": "white",
            "ticks": ""
           },
           "bgcolor": "#E5ECF6",
           "caxis": {
            "gridcolor": "white",
            "linecolor": "white",
            "ticks": ""
           }
          },
          "title": {
           "x": 0.05
          },
          "xaxis": {
           "automargin": true,
           "gridcolor": "white",
           "linecolor": "white",
           "ticks": "",
           "title": {
            "standoff": 15
           },
           "zerolinecolor": "white",
           "zerolinewidth": 2
          },
          "yaxis": {
           "automargin": true,
           "gridcolor": "white",
           "linecolor": "white",
           "ticks": "",
           "title": {
            "standoff": 15
           },
           "zerolinecolor": "white",
           "zerolinewidth": 2
          }
         }
        },
        "title": {
         "font": {
          "family": "Old Standard TT",
          "size": 25
         },
         "text": "DPRK Nuclear Facility Locations"
        },
        "width": 1200
       }
      }
     },
     "metadata": {},
     "output_type": "display_data"
    }
   ],
   "source": [
    "map_fig2 = px.scatter_mapbox(missile_stats, lat = 'Facility Latitude', lon = 'Facility Longitude', \n",
    "                             color = missile_stats[\"Facility Name\"],\n",
    "                             size = 'Frequencies',  # Column containing frequencies\n",
    "                             zoom = 6,\n",
    "                             center={'lat': 39.17180415583127, 'lon': 126.551952046587},\n",
    "                             width = 1200,\n",
    "                             height = 900,\n",
    "                             title = 'DPRK Nuclear Facility Locations')\n",
    "\n",
    "map_fig2.update_layout(mapbox_style=\"carto-positron\", title_font_size=25, title_font_family=\"Old Standard TT\")\n",
    "#map_fig2.update_layout(margin={\"r\":10, \"t\":50, \"l\":0, \"b\":10})\n",
    "map_fig2.update_layout(margin_autoexpand=True)\n"
   ]
  },
  {
   "cell_type": "code",
   "execution_count": 128,
   "metadata": {},
   "outputs": [
    {
     "data": {
      "text/plain": [
       "Scud-C         27\n",
       "KN-02          20\n",
       "Nodong         16\n",
       "Scud-B         10\n",
       "Musudan         8\n",
       "ER Scud         7\n",
       "Polaris-1       6\n",
       "Unknown         3\n",
       "Unha-3          3\n",
       "Unha            2\n",
       "KN-17           2\n",
       "Taepodong-1     1\n",
       "Polaris-2       1\n",
       "Name: Missile Name, dtype: int64"
      ]
     },
     "execution_count": 128,
     "metadata": {},
     "output_type": "execute_result"
    }
   ],
   "source": [
    "missile_names = missile_stats[\"Missile Name\"].value_counts()\n",
    "missile_names"
   ]
  },
  {
   "cell_type": "code",
   "execution_count": 129,
   "metadata": {},
   "outputs": [
    {
     "data": {
      "text/plain": [
       "SRBM       59\n",
       "MRBM       24\n",
       "IRBM        8\n",
       "SLV         6\n",
       "SLBM        6\n",
       "Unknown     3\n",
       "Name: Missile Type, dtype: int64"
      ]
     },
     "execution_count": 129,
     "metadata": {},
     "output_type": "execute_result"
    }
   ],
   "source": [
    "missile_types = missile_stats[\"Missile Type\"].value_counts()\n",
    "missile_types"
   ]
  },
  {
   "cell_type": "code",
   "execution_count": 136,
   "metadata": {},
   "outputs": [
    {
     "data": {
      "text/plain": [
       "North Wonsan                          20\n",
       "Tonghae Satellite Launching Ground    17\n",
       "Kittaeryong Missile Base              17\n",
       "Hwangju                               12\n",
       "Wonsan Kalma International Airport    11\n",
       "Sinpo Shipyard                         8\n",
       "Sohae Satellite Launching Station      7\n",
       "Sunchon Airbase                        4\n",
       "Kaesong                                2\n",
       "Nampo                                  2\n",
       "Panghyon Airbase                       2\n",
       "Chihari Missile Base                   1\n",
       "Unknown                                1\n",
       "Kusong Testing Ground                  1\n",
       "Pukchang Airfield                      1\n",
       "Name: Facility Name, dtype: int64"
      ]
     },
     "execution_count": 136,
     "metadata": {},
     "output_type": "execute_result"
    }
   ],
   "source": [
    "facility_names = missile_stats[\"Facility Name\"].value_counts()\n",
    "facility_names"
   ]
  },
  {
   "cell_type": "code",
   "execution_count": 135,
   "metadata": {},
   "outputs": [
    {
     "data": {
      "text/plain": [
       "Facility Name                       Missile Type\n",
       "Chihari Missile Base                SRBM             1\n",
       "Hwangju                             MRBM             6\n",
       "                                    SRBM             6\n",
       "Kaesong                             SRBM             2\n",
       "Kittaeryong Missile Base            SRBM            11\n",
       "                                    MRBM             6\n",
       "Kusong Testing Ground               MRBM             1\n",
       "Nampo                               SRBM             2\n",
       "North Wonsan                        SRBM            20\n",
       "Panghyon Airbase                    IRBM             2\n",
       "Pukchang Airfield                   Unknown          1\n",
       "Sinpo Shipyard                      SLBM             6\n",
       "                                    SRBM             2\n",
       "Sohae Satellite Launching Station   MRBM             4\n",
       "                                    SLV              3\n",
       "Sunchon Airbase                     MRBM             4\n",
       "Tonghae Satellite Launching Ground  SRBM            10\n",
       "                                    MRBM             3\n",
       "                                    SLV              3\n",
       "                                    Unknown          1\n",
       "Unknown                             SRBM             1\n",
       "Wonsan Kalma International Airport  IRBM             6\n",
       "                                    SRBM             4\n",
       "                                    Unknown          1\n",
       "Name: Missile Type, dtype: int64"
      ]
     },
     "execution_count": 135,
     "metadata": {},
     "output_type": "execute_result"
    }
   ],
   "source": [
    "most_tested_facility = missile_stats.groupby(\"Facility Name\")['Missile Type'].value_counts()\n",
    "\n",
    "#sort_values(by = 'Missile Type', ascending=False)\n",
    "\n",
    "#most_views_pd = most_views.head(10).sort_values(by = 'views', ascending=True)\n",
    "\n",
    "most_tested_facility"
   ]
  }
 ],
 "metadata": {
  "kernelspec": {
   "display_name": "base",
   "language": "python",
   "name": "python3"
  },
  "language_info": {
   "codemirror_mode": {
    "name": "ipython",
    "version": 3
   },
   "file_extension": ".py",
   "mimetype": "text/x-python",
   "name": "python",
   "nbconvert_exporter": "python",
   "pygments_lexer": "ipython3",
   "version": "3.10.11"
  },
  "orig_nbformat": 4
 },
 "nbformat": 4,
 "nbformat_minor": 2
}
