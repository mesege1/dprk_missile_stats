{
 "cells": [
  {
   "cell_type": "markdown",
   "metadata": {},
   "source": [
    "# Import libraries"
   ]
  },
  {
   "cell_type": "code",
   "execution_count": 8,
   "metadata": {},
   "outputs": [],
   "source": [
    "%matplotlib inline\n",
    "import numpy as np\n",
    "import plotly.express as px\n",
    "import pandas as pd\n",
    "import matplotlib.pyplot as plt\n",
    "import requests\n",
    "import descartes\n",
    "import calendar\n",
    "import seaborn as sns\n",
    "import matplotlib"
   ]
  },
  {
   "cell_type": "markdown",
   "metadata": {},
   "source": [
    "# Import data"
   ]
  },
  {
   "cell_type": "code",
   "execution_count": 9,
   "metadata": {},
   "outputs": [],
   "source": [
    "# Loading data (https://www.nti.org/analysis/articles/cns-north-korea-missile-test-database/). Encoding problem solved with 'unicode_escape'.\n",
    "df = pd.read_csv('data/north_korea_missile_test_database.csv', encoding= 'unicode_escape', index_col= \"F1\")\n",
    "df = df.drop(columns=['Launch Agency/Authority', 'Other Name', 'Additional Information', 'Source(s)'])"
   ]
  },
  {
   "cell_type": "markdown",
   "metadata": {},
   "source": [
    "# Cleaning data & formatting data"
   ]
  },
  {
   "cell_type": "code",
   "execution_count": 12,
   "metadata": {},
   "outputs": [],
   "source": [
    "# First data cleaning. Changing formats (str to int or float)\n",
    "df['Distance Travelled'] = df['Distance Travelled'].apply(lambda x: x.replace('km', '') if isinstance(x, str) else x)\n",
    "# And then, convert 'Unkown' values to numerics.\n",
    "df['Distance Travelled'] = df['Distance Travelled'].replace('Unknown', 'NaN') \n",
    "# Finally, I can change it to numeric pandas table.\n",
    "df['Distance Travelled'] = pd.to_numeric(df['Distance Travelled'], errors='coerce').fillna(0)"
   ]
  },
  {
   "cell_type": "code",
   "execution_count": 13,
   "metadata": {},
   "outputs": [
    {
     "data": {
      "text/html": [
       "<div>\n",
       "<style scoped>\n",
       "    .dataframe tbody tr th:only-of-type {\n",
       "        vertical-align: middle;\n",
       "    }\n",
       "\n",
       "    .dataframe tbody tr th {\n",
       "        vertical-align: top;\n",
       "    }\n",
       "\n",
       "    .dataframe thead th {\n",
       "        text-align: right;\n",
       "    }\n",
       "</style>\n",
       "<table border=\"1\" class=\"dataframe\">\n",
       "  <thead>\n",
       "    <tr style=\"text-align: right;\">\n",
       "      <th></th>\n",
       "      <th>Date</th>\n",
       "      <th>Date Entered/Updated</th>\n",
       "      <th>Launch Time (UTC)</th>\n",
       "      <th>Missile Name</th>\n",
       "      <th>Missile Type</th>\n",
       "      <th>Facility Name</th>\n",
       "      <th>Facility Location</th>\n",
       "      <th>Facility Latitude</th>\n",
       "      <th>Facility Longitude</th>\n",
       "      <th>Landing Location</th>\n",
       "      <th>Apogee</th>\n",
       "      <th>Distance Travelled</th>\n",
       "      <th>Confirmation Status</th>\n",
       "      <th>Test Outcome</th>\n",
       "      <th>Year</th>\n",
       "      <th>Month_Number</th>\n",
       "      <th>Month</th>\n",
       "      <th># of Test</th>\n",
       "      <th>YYYYMM</th>\n",
       "    </tr>\n",
       "    <tr>\n",
       "      <th>F1</th>\n",
       "      <th></th>\n",
       "      <th></th>\n",
       "      <th></th>\n",
       "      <th></th>\n",
       "      <th></th>\n",
       "      <th></th>\n",
       "      <th></th>\n",
       "      <th></th>\n",
       "      <th></th>\n",
       "      <th></th>\n",
       "      <th></th>\n",
       "      <th></th>\n",
       "      <th></th>\n",
       "      <th></th>\n",
       "      <th></th>\n",
       "      <th></th>\n",
       "      <th></th>\n",
       "      <th></th>\n",
       "      <th></th>\n",
       "    </tr>\n",
       "  </thead>\n",
       "  <tbody>\n",
       "    <tr>\n",
       "      <th>1</th>\n",
       "      <td>1984-04-09</td>\n",
       "      <td>2016-12-23</td>\n",
       "      <td>NaN</td>\n",
       "      <td>Scud-B</td>\n",
       "      <td>SRBM</td>\n",
       "      <td>Tonghae Satellite Launching Ground</td>\n",
       "      <td>Hwadae County, North Hamgyong Province</td>\n",
       "      <td>40.849997</td>\n",
       "      <td>129.666664</td>\n",
       "      <td>Unknown</td>\n",
       "      <td>0.0</td>\n",
       "      <td>0.0</td>\n",
       "      <td>Confirmed</td>\n",
       "      <td>Success</td>\n",
       "      <td>1984</td>\n",
       "      <td>4</td>\n",
       "      <td>Apr</td>\n",
       "      <td>1</td>\n",
       "      <td>198404</td>\n",
       "    </tr>\n",
       "  </tbody>\n",
       "</table>\n",
       "</div>"
      ],
      "text/plain": [
       "         Date Date Entered/Updated Launch Time (UTC) Missile Name  \\\n",
       "F1                                                                  \n",
       "1  1984-04-09           2016-12-23               NaN       Scud-B   \n",
       "\n",
       "   Missile Type                       Facility Name  \\\n",
       "F1                                                    \n",
       "1          SRBM  Tonghae Satellite Launching Ground   \n",
       "\n",
       "                         Facility Location  Facility Latitude  \\\n",
       "F1                                                              \n",
       "1   Hwadae County, North Hamgyong Province          40.849997   \n",
       "\n",
       "    Facility Longitude Landing Location  Apogee  Distance Travelled  \\\n",
       "F1                                                                    \n",
       "1           129.666664          Unknown     0.0                 0.0   \n",
       "\n",
       "   Confirmation Status Test Outcome  Year  Month_Number Month  # of Test  \\\n",
       "F1                                                                         \n",
       "1            Confirmed      Success  1984             4   Apr          1   \n",
       "\n",
       "    YYYYMM  \n",
       "F1          \n",
       "1   198404  "
      ]
     },
     "execution_count": 13,
     "metadata": {},
     "output_type": "execute_result"
    }
   ],
   "source": [
    "# Changing 'location' data\n",
    "df['Facility Latitude'] = pd.to_numeric(df['Facility Latitude'], errors='coerce')\n",
    "df['Facility Longitude'] = pd.to_numeric(df['Facility Longitude'], errors='coerce')\n",
    "# For 'Apogee', I need to remove 'km' from the data first.\n",
    "df['Apogee'] = df['Apogee'].apply(lambda x: x.replace('km', '') if isinstance(x, str) else x)\n",
    "# And then, convert 'Unkown' values to numerics.\n",
    "df['Apogee'] = df['Apogee'].replace('Unknown', '0') \n",
    "# Finally, I can change it to numeric pandas table.\n",
    "df['Apogee'] = pd.to_numeric(df['Apogee'], errors='coerce').fillna(0)\n",
    "# Same as the 'Apogee', changing 'Distance Travelled' column in pandas series for plotting better.\n",
    "df['Distance Travelled'] = df['Distance Travelled'].apply(lambda x: x.replace('km', '') if isinstance(x, str) else x)\n",
    "df['Distance Travelled'] = df['Distance Travelled'].replace('Unknown', 'NaN') \n",
    "# Come back to this line after trying to map later.\n",
    "df['Distance Travelled'] = pd.to_numeric(df['Distance Travelled'], errors='coerce')\n",
    "# Date changes\n",
    "df['Date'] = pd.to_datetime(df['Date'])\n",
    "# Date Entered/Updated changes\n",
    "df['Date Entered/Updated'] = pd.to_datetime(df['Date Entered/Updated'])\n",
    "# Creating a new column for separating the year values in numeric format.\n",
    "df['Year'] = df['Date'].dt.year\n",
    "# Another column for changing number values to string values.\n",
    "df['Month_Number'] = df['Date'].dt.month\n",
    "# Another column for separating values to month specifically.\n",
    "df['Month'] = df['Month_Number'].apply(lambda x: calendar.month_abbr[x])\n",
    "# Another column for counting test numbers.\n",
    "df[\"# of Test\"] = 1\n",
    "# Simplifying the Year/Month format.\n",
    "df['YYYYMM'] = pd.to_datetime(df['Date'], format='%Y%m', errors='coerce')\n",
    "df['YYYYMM'] = pd.to_datetime(df['Date']).dt.strftime('%Y%m')\n",
    "df.head(1)"
   ]
  },
  {
   "cell_type": "markdown",
   "metadata": {},
   "source": [
    "# First plot: mapbox of the testing facility locations (Overview)"
   ]
  },
  {
   "cell_type": "code",
   "execution_count": 14,
   "metadata": {},
   "outputs": [
    {
     "data": {
      "application/vnd.plotly.v1+json": {
       "config": {
        "plotlyServerURL": "https://plot.ly"
       },
       "data": [
        {
         "hovertemplate": "Facility Name=Hodo Peninsula<br>Frequencies=%{marker.size}<br>Facility Latitude=%{lat}<br>Facility Longitude=%{lon}<extra></extra>",
         "lat": [
          39.40167,
          39.40167,
          39.40167,
          39.40167,
          39.40167,
          39.40167,
          39.40167,
          39.40167,
          39.40167,
          39.40167,
          39.40167,
          39.40167,
          39.40167,
          39.40167,
          39.40167,
          39.40167,
          39.40167,
          39.40167,
          39.40167,
          39.40167,
          39.40167,
          39.40167,
          39.40167,
          39.40167,
          39.40167,
          39.40167
         ],
         "legendgroup": "Hodo Peninsula",
         "lon": [
          127.5369,
          127.5369,
          127.5369,
          127.5369,
          127.5369,
          127.5369,
          127.5369,
          127.5369,
          127.5369,
          127.5369,
          127.5369,
          127.5369,
          127.5369,
          127.5369,
          127.5369,
          127.5369,
          127.5369,
          127.5369,
          127.5369,
          127.5369,
          127.5369,
          127.5369,
          127.5369,
          127.5369,
          127.5369,
          127.5369
         ],
         "marker": {
          "color": "#636efa",
          "size": [
           26,
           26,
           26,
           26,
           26,
           26,
           26,
           26,
           26,
           26,
           26,
           26,
           26,
           26,
           26,
           26,
           26,
           26,
           26,
           26,
           26,
           26,
           26,
           26,
           26,
           26
          ],
          "sizemode": "area",
          "sizeref": 0.065
         },
         "mode": "markers",
         "name": "Hodo Peninsula",
         "showlegend": true,
         "subplot": "mapbox",
         "type": "scattermapbox"
        },
        {
         "hovertemplate": "Facility Name=Kittaeryong Missile Base<br>Frequencies=%{marker.size}<br>Facility Latitude=%{lat}<br>Facility Longitude=%{lon}<extra></extra>",
         "lat": [
          38.99083,
          38.99083,
          38.99083,
          38.99083,
          38.99083,
          38.99083,
          38.99083,
          38.99083,
          38.99083,
          38.99083,
          38.99083,
          38.99083,
          38.99083,
          38.99083,
          38.99083,
          38.99083,
          38.99083,
          38.99083,
          38.99083,
          38.99083
         ],
         "legendgroup": "Kittaeryong Missile Base",
         "lon": [
          127.6236,
          127.6236,
          127.6236,
          127.6236,
          127.6236,
          127.6236,
          127.6236,
          127.6236,
          127.6236,
          127.6236,
          127.6236,
          127.6236,
          127.6236,
          127.6236,
          127.6236,
          127.6236,
          127.6236,
          127.6236,
          127.6236,
          127.6236
         ],
         "marker": {
          "color": "#EF553B",
          "size": [
           20,
           20,
           20,
           20,
           20,
           20,
           20,
           20,
           20,
           20,
           20,
           20,
           20,
           20,
           20,
           20,
           20,
           20,
           20,
           20
          ],
          "sizemode": "area",
          "sizeref": 0.065
         },
         "mode": "markers",
         "name": "Kittaeryong Missile Base",
         "showlegend": true,
         "subplot": "mapbox",
         "type": "scattermapbox"
        },
        {
         "hovertemplate": "Facility Name=Pyongyang International Airport<br>Frequencies=%{marker.size}<br>Facility Latitude=%{lat}<br>Facility Longitude=%{lon}<extra></extra>",
         "lat": [
          39.200159,
          39.200159,
          39.200159,
          39.200159,
          39.200159,
          39.200159,
          39.200159,
          39.200159,
          39.200159,
          39.200159,
          39.200159,
          39.200159,
          39.200159,
          39.200159,
          39.200159,
          39.200159,
          39.200159,
          39.200159
         ],
         "legendgroup": "Pyongyang International Airport",
         "lon": [
          125.673256,
          125.673256,
          125.673256,
          125.673256,
          125.673256,
          125.673256,
          125.673256,
          125.673256,
          125.673256,
          125.673256,
          125.673256,
          125.673256,
          125.673256,
          125.673256,
          125.673256,
          125.673256,
          125.673256,
          125.673256
         ],
         "marker": {
          "color": "#00cc96",
          "size": [
           18,
           18,
           18,
           18,
           18,
           18,
           18,
           18,
           18,
           18,
           18,
           18,
           18,
           18,
           18,
           18,
           18,
           18
          ],
          "sizemode": "area",
          "sizeref": 0.065
         },
         "mode": "markers",
         "name": "Pyongyang International Airport",
         "showlegend": true,
         "subplot": "mapbox",
         "type": "scattermapbox"
        },
        {
         "hovertemplate": "Facility Name=Tonghae Satellite Launching Ground<br>Frequencies=%{marker.size}<br>Facility Latitude=%{lat}<br>Facility Longitude=%{lon}<extra></extra>",
         "lat": [
          40.8499966,
          40.8499966,
          40.8499966,
          40.8499966,
          40.8499966,
          40.8499966,
          40.8499966,
          40.8499966,
          40.8499966,
          40.8499966,
          40.8499966,
          40.8499966,
          40.8499966,
          40.8499966,
          40.8499966,
          40.8499966,
          40.8499966
         ],
         "legendgroup": "Tonghae Satellite Launching Ground",
         "lon": [
          129.666664,
          129.666664,
          129.666664,
          129.666664,
          129.666664,
          129.666664,
          129.666664,
          129.666664,
          129.666664,
          129.666664,
          129.666664,
          129.666664,
          129.666664,
          129.666664,
          129.666664,
          129.666664,
          129.666664
         ],
         "marker": {
          "color": "#ab63fa",
          "size": [
           17,
           17,
           17,
           17,
           17,
           17,
           17,
           17,
           17,
           17,
           17,
           17,
           17,
           17,
           17,
           17,
           17
          ],
          "sizemode": "area",
          "sizeref": 0.065
         },
         "mode": "markers",
         "name": "Tonghae Satellite Launching Ground",
         "showlegend": true,
         "subplot": "mapbox",
         "type": "scattermapbox"
        },
        {
         "hovertemplate": "Facility Name=Unknown<br>Frequencies=%{marker.size}<br>Facility Latitude=%{lat}<br>Facility Longitude=%{lon}<extra></extra>",
         "lat": [
          null,
          null,
          null,
          null,
          null,
          null,
          null,
          null,
          null,
          null,
          null,
          null,
          null,
          null
         ],
         "legendgroup": "Unknown",
         "lon": [
          null,
          null,
          null,
          null,
          null,
          null,
          null,
          null,
          null,
          null,
          null,
          null,
          null,
          null
         ],
         "marker": {
          "color": "#FFA15A",
          "size": [
           14,
           14,
           14,
           14,
           14,
           14,
           14,
           14,
           14,
           14,
           14,
           14,
           14,
           14
          ],
          "sizemode": "area",
          "sizeref": 0.065
         },
         "mode": "markers",
         "name": "Unknown",
         "showlegend": true,
         "subplot": "mapbox",
         "type": "scattermapbox"
        },
        {
         "hovertemplate": "Facility Name=Wonsan Kalma International Airport<br>Frequencies=%{marker.size}<br>Facility Latitude=%{lat}<br>Facility Longitude=%{lon}<extra></extra>",
         "lat": [
          39.1677,
          39.1677,
          39.1677,
          39.1677,
          39.1677,
          39.1677,
          39.1677,
          39.1677,
          39.1677,
          39.1677,
          39.1677,
          39.1677,
          39.1677,
          39.1677
         ],
         "legendgroup": "Wonsan Kalma International Airport",
         "lon": [
          127.4817,
          127.4817,
          127.4817,
          127.4817,
          127.4817,
          127.4817,
          127.4817,
          127.4817,
          127.4817,
          127.4817,
          127.4817,
          127.4817,
          127.4817,
          127.4817
         ],
         "marker": {
          "color": "#19d3f3",
          "size": [
           14,
           14,
           14,
           14,
           14,
           14,
           14,
           14,
           14,
           14,
           14,
           14,
           14,
           14
          ],
          "sizemode": "area",
          "sizeref": 0.065
         },
         "mode": "markers",
         "name": "Wonsan Kalma International Airport",
         "showlegend": true,
         "subplot": "mapbox",
         "type": "scattermapbox"
        },
        {
         "hovertemplate": "Facility Name=Hwangju<br>Frequencies=%{marker.size}<br>Facility Latitude=%{lat}<br>Facility Longitude=%{lon}<extra></extra>",
         "lat": [
          38.686834,
          38.686834,
          38.686834,
          38.686834,
          38.686834,
          38.686834,
          38.686834,
          38.686834,
          38.686834,
          38.686834,
          38.686834,
          38.686834
         ],
         "legendgroup": "Hwangju",
         "lon": [
          125.702005,
          125.702005,
          125.702005,
          125.702005,
          125.702005,
          125.702005,
          125.702005,
          125.702005,
          125.702005,
          125.702005,
          125.702005,
          125.702005
         ],
         "marker": {
          "color": "#FF6692",
          "size": [
           12,
           12,
           12,
           12,
           12,
           12,
           12,
           12,
           12,
           12,
           12,
           12
          ],
          "sizemode": "area",
          "sizeref": 0.065
         },
         "mode": "markers",
         "name": "Hwangju",
         "showlegend": true,
         "subplot": "mapbox",
         "type": "scattermapbox"
        },
        {
         "hovertemplate": "Facility Name=Sohae Satellite Launching Station<br>Frequencies=%{marker.size}<br>Facility Latitude=%{lat}<br>Facility Longitude=%{lon}<extra></extra>",
         "lat": [
          39.6596,
          39.6596,
          39.6596,
          39.6596,
          39.6596,
          39.6596,
          39.6596,
          39.6596,
          39.6596,
          39.6596,
          39.6596
         ],
         "legendgroup": "Sohae Satellite Launching Station",
         "lon": [
          124.7057,
          124.7057,
          124.7057,
          124.7057,
          124.7057,
          124.7057,
          124.7057,
          124.7057,
          124.7057,
          124.7057,
          124.7057
         ],
         "marker": {
          "color": "#B6E880",
          "size": [
           11,
           11,
           11,
           11,
           11,
           11,
           11,
           11,
           11,
           11,
           11
          ],
          "sizemode": "area",
          "sizeref": 0.065
         },
         "mode": "markers",
         "name": "Sohae Satellite Launching Station",
         "showlegend": true,
         "subplot": "mapbox",
         "type": "scattermapbox"
        },
        {
         "hovertemplate": "Facility Name=Sinpo Shipyard<br>Frequencies=%{marker.size}<br>Facility Latitude=%{lat}<br>Facility Longitude=%{lon}<extra></extra>",
         "lat": [
          40.0368,
          40.0368,
          40.0368,
          40.0368,
          40.0368,
          40.0368,
          40.0368,
          40.0368,
          40.0368,
          40.0368
         ],
         "legendgroup": "Sinpo Shipyard",
         "lon": [
          128.1839,
          128.1839,
          128.1839,
          128.1839,
          128.1839,
          128.1839,
          128.1839,
          128.1839,
          128.1839,
          128.1839
         ],
         "marker": {
          "color": "#FF97FF",
          "size": [
           10,
           10,
           10,
           10,
           10,
           10,
           10,
           10,
           10,
           10
          ],
          "sizemode": "area",
          "sizeref": 0.065
         },
         "mode": "markers",
         "name": "Sinpo Shipyard",
         "showlegend": true,
         "subplot": "mapbox",
         "type": "scattermapbox"
        },
        {
         "hovertemplate": "Facility Name=Lake Taesong<br>Frequencies=%{marker.size}<br>Facility Latitude=%{lat}<br>Facility Longitude=%{lon}<extra></extra>",
         "lat": [
          38.907,
          38.907,
          38.907,
          38.907,
          38.907,
          38.907
         ],
         "legendgroup": "Lake Taesong",
         "lon": [
          125.44,
          125.44,
          125.44,
          125.44,
          125.44,
          125.44
         ],
         "marker": {
          "color": "#FECB52",
          "size": [
           6,
           6,
           6,
           6,
           6,
           6
          ],
          "sizemode": "area",
          "sizeref": 0.065
         },
         "mode": "markers",
         "name": "Lake Taesong",
         "showlegend": true,
         "subplot": "mapbox",
         "type": "scattermapbox"
        },
        {
         "hovertemplate": "Facility Name=Hungnam<br>Frequencies=%{marker.size}<br>Facility Latitude=%{lat}<br>Facility Longitude=%{lon}<extra></extra>",
         "lat": [
          39.811611,
          39.811611,
          39.811611,
          39.811611,
          39.811611,
          39.811611
         ],
         "legendgroup": "Hungnam",
         "lon": [
          127.66375,
          127.66375,
          127.66375,
          127.66375,
          127.66375,
          127.66375
         ],
         "marker": {
          "color": "#636efa",
          "size": [
           6,
           6,
           6,
           6,
           6,
           6
          ],
          "sizemode": "area",
          "sizeref": 0.065
         },
         "mode": "markers",
         "name": "Hungnam",
         "showlegend": true,
         "subplot": "mapbox",
         "type": "scattermapbox"
        },
        {
         "hovertemplate": "Facility Name=Sunchon Airbase<br>Frequencies=%{marker.size}<br>Facility Latitude=%{lat}<br>Facility Longitude=%{lon}<extra></extra>",
         "lat": [
          39.412594,
          39.412594,
          39.412594,
          39.412594,
          39.412594,
          39.412594
         ],
         "legendgroup": "Sunchon Airbase",
         "lon": [
          125.89031,
          125.89031,
          125.89031,
          125.89031,
          125.89031,
          125.89031
         ],
         "marker": {
          "color": "#EF553B",
          "size": [
           6,
           6,
           6,
           6,
           6,
           6
          ],
          "sizemode": "area",
          "sizeref": 0.065
         },
         "mode": "markers",
         "name": "Sunchon Airbase",
         "showlegend": true,
         "subplot": "mapbox",
         "type": "scattermapbox"
        },
        {
         "hovertemplate": "Facility Name=Mupyong-ni Arms Plant<br>Frequencies=%{marker.size}<br>Facility Latitude=%{lat}<br>Facility Longitude=%{lon}<extra></extra>",
         "lat": [
          40.611208,
          40.611208,
          40.611208,
          40.611208,
          40.611208,
          40.611208
         ],
         "legendgroup": "Mupyong-ni Arms Plant",
         "lon": [
          126.425743,
          126.425743,
          126.425743,
          126.425743,
          126.425743,
          126.425743
         ],
         "marker": {
          "color": "#00cc96",
          "size": [
           6,
           6,
           6,
           6,
           6,
           6
          ],
          "sizemode": "area",
          "sizeref": 0.065
         },
         "mode": "markers",
         "name": "Mupyong-ni Arms Plant",
         "showlegend": true,
         "subplot": "mapbox",
         "type": "scattermapbox"
        },
        {
         "hovertemplate": "Facility Name=Sunan<br>Frequencies=%{marker.size}<br>Facility Latitude=%{lat}<br>Facility Longitude=%{lon}<extra></extra>",
         "lat": [
          39.20299,
          39.20299,
          39.20299,
          39.20299,
          39.20299,
          39.20299
         ],
         "legendgroup": "Sunan",
         "lon": [
          125.70926,
          125.70926,
          125.70926,
          125.70926,
          125.70926,
          125.70926
         ],
         "marker": {
          "color": "#ab63fa",
          "size": [
           6,
           6,
           6,
           6,
           6,
           6
          ],
          "sizemode": "area",
          "sizeref": 0.065
         },
         "mode": "markers",
         "name": "Sunan",
         "showlegend": true,
         "subplot": "mapbox",
         "type": "scattermapbox"
        },
        {
         "hovertemplate": "Facility Name=Uiju<br>Frequencies=%{marker.size}<br>Facility Latitude=%{lat}<br>Facility Longitude=%{lon}<extra></extra>",
         "lat": [
          40.025847,
          40.025847,
          40.025847,
          40.025847,
          40.025847,
          40.025847
         ],
         "legendgroup": "Uiju",
         "lon": [
          124.577936,
          124.577936,
          124.577936,
          124.577936,
          124.577936,
          124.577936
         ],
         "marker": {
          "color": "#FFA15A",
          "size": [
           6,
           6,
           6,
           6,
           6,
           6
          ],
          "sizemode": "area",
          "sizeref": 0.065
         },
         "mode": "markers",
         "name": "Uiju",
         "showlegend": true,
         "subplot": "mapbox",
         "type": "scattermapbox"
        },
        {
         "hovertemplate": "Facility Name=Kaechon Air Base<br>Frequencies=%{marker.size}<br>Facility Latitude=%{lat}<br>Facility Longitude=%{lon}<extra></extra>",
         "lat": [
          39.752321,
          39.752321,
          39.752321,
          39.752321,
          39.752321
         ],
         "legendgroup": "Kaechon Air Base",
         "lon": [
          125.899905,
          125.899905,
          125.899905,
          125.899905,
          125.899905
         ],
         "marker": {
          "color": "#19d3f3",
          "size": [
           5,
           5,
           5,
           5,
           5
          ],
          "sizemode": "area",
          "sizeref": 0.065
         },
         "mode": "markers",
         "name": "Kaechon Air Base",
         "showlegend": true,
         "subplot": "mapbox",
         "type": "scattermapbox"
        },
        {
         "hovertemplate": "Facility Name=Chunghwa County<br>Frequencies=%{marker.size}<br>Facility Latitude=%{lat}<br>Facility Longitude=%{lon}<extra></extra>",
         "lat": [
          38.875,
          38.875,
          38.875,
          38.875,
          38.875
         ],
         "legendgroup": "Chunghwa County",
         "lon": [
          125.926,
          125.926,
          125.926,
          125.926,
          125.926
         ],
         "marker": {
          "color": "#FF6692",
          "size": [
           5,
           5,
           5,
           5,
           5
          ],
          "sizemode": "area",
          "sizeref": 0.065
         },
         "mode": "markers",
         "name": "Chunghwa County",
         "showlegend": true,
         "subplot": "mapbox",
         "type": "scattermapbox"
        },
        {
         "hovertemplate": "Facility Name=Sunchon<br>Frequencies=%{marker.size}<br>Facility Latitude=%{lat}<br>Facility Longitude=%{lon}<extra></extra>",
         "lat": [
          39.4163,
          39.4163,
          39.4163,
          39.4163
         ],
         "legendgroup": "Sunchon",
         "lon": [
          125.8907,
          125.8907,
          125.8907,
          125.8907
         ],
         "marker": {
          "color": "#B6E880",
          "size": [
           4,
           4,
           4,
           4
          ],
          "sizemode": "area",
          "sizeref": 0.065
         },
         "mode": "markers",
         "name": "Sunchon",
         "showlegend": true,
         "subplot": "mapbox",
         "type": "scattermapbox"
        },
        {
         "hovertemplate": "Facility Name=Tongchan<br>Frequencies=%{marker.size}<br>Facility Latitude=%{lat}<br>Facility Longitude=%{lon}<extra></extra>",
         "lat": [
          38.953797,
          38.953797,
          38.953797,
          38.953797
         ],
         "legendgroup": "Tongchan",
         "lon": [
          127.891882,
          127.891882,
          127.891882,
          127.891882
         ],
         "marker": {
          "color": "#FF97FF",
          "size": [
           4,
           4,
           4,
           4
          ],
          "sizemode": "area",
          "sizeref": 0.065
         },
         "mode": "markers",
         "name": "Tongchan",
         "showlegend": true,
         "subplot": "mapbox",
         "type": "scattermapbox"
        },
        {
         "hovertemplate": "Facility Name=Yonpo Airport<br>Frequencies=%{marker.size}<br>Facility Latitude=%{lat}<br>Facility Longitude=%{lon}<extra></extra>",
         "lat": [
          39.78938,
          39.78938,
          39.78938
         ],
         "legendgroup": "Yonpo Airport",
         "lon": [
          127.53993,
          127.53993,
          127.53993
         ],
         "marker": {
          "color": "#FECB52",
          "size": [
           3,
           3,
           3
          ],
          "sizemode": "area",
          "sizeref": 0.065
         },
         "mode": "markers",
         "name": "Yonpo Airport",
         "showlegend": true,
         "subplot": "mapbox",
         "type": "scattermapbox"
        },
        {
         "hovertemplate": "Facility Name=Sondok<br>Frequencies=%{marker.size}<br>Facility Latitude=%{lat}<br>Facility Longitude=%{lon}<extra></extra>",
         "lat": [
          39.743,
          39.743,
          39.743
         ],
         "legendgroup": "Sondok",
         "lon": [
          127.499,
          127.499,
          127.499
         ],
         "marker": {
          "color": "#636efa",
          "size": [
           3,
           3,
           3
          ],
          "sizemode": "area",
          "sizeref": 0.065
         },
         "mode": "markers",
         "name": "Sondok",
         "showlegend": true,
         "subplot": "mapbox",
         "type": "scattermapbox"
        },
        {
         "hovertemplate": "Facility Name=Sondok Airbase<br>Frequencies=%{marker.size}<br>Facility Latitude=%{lat}<br>Facility Longitude=%{lon}<extra></extra>",
         "lat": [
          39.7437,
          39.7437,
          39.7437
         ],
         "legendgroup": "Sondok Airbase",
         "lon": [
          127.4732,
          127.4732,
          127.4732
         ],
         "marker": {
          "color": "#EF553B",
          "size": [
           3,
           3,
           3
          ],
          "sizemode": "area",
          "sizeref": 0.065
         },
         "mode": "markers",
         "name": "Sondok Airbase",
         "showlegend": true,
         "subplot": "mapbox",
         "type": "scattermapbox"
        },
        {
         "hovertemplate": "Facility Name=Koksan<br>Frequencies=%{marker.size}<br>Facility Latitude=%{lat}<br>Facility Longitude=%{lon}<extra></extra>",
         "lat": [
          38.78,
          38.78,
          38.78
         ],
         "legendgroup": "Koksan",
         "lon": [
          126.67,
          126.67,
          126.67
         ],
         "marker": {
          "color": "#00cc96",
          "size": [
           3,
           3,
           3
          ],
          "sizemode": "area",
          "sizeref": 0.065
         },
         "mode": "markers",
         "name": "Koksan",
         "showlegend": true,
         "subplot": "mapbox",
         "type": "scattermapbox"
        },
        {
         "hovertemplate": "Facility Name=Sukchon<br>Frequencies=%{marker.size}<br>Facility Latitude=%{lat}<br>Facility Longitude=%{lon}<extra></extra>",
         "lat": [
          39.42,
          39.42,
          39.42
         ],
         "legendgroup": "Sukchon",
         "lon": [
          125.63,
          125.63,
          125.63
         ],
         "marker": {
          "color": "#ab63fa",
          "size": [
           3,
           3,
           3
          ],
          "sizemode": "area",
          "sizeref": 0.065
         },
         "mode": "markers",
         "name": "Sukchon",
         "showlegend": true,
         "subplot": "mapbox",
         "type": "scattermapbox"
        },
        {
         "hovertemplate": "Facility Name=Jangyon<br>Frequencies=%{marker.size}<br>Facility Latitude=%{lat}<br>Facility Longitude=%{lon}<extra></extra>",
         "lat": [
          38.275,
          38.275
         ],
         "legendgroup": "Jangyon",
         "lon": [
          125.071,
          125.071
         ],
         "marker": {
          "color": "#FFA15A",
          "size": [
           2,
           2
          ],
          "sizemode": "area",
          "sizeref": 0.065
         },
         "mode": "markers",
         "name": "Jangyon",
         "showlegend": true,
         "subplot": "mapbox",
         "type": "scattermapbox"
        },
        {
         "hovertemplate": "Facility Name=Baegun<br>Frequencies=%{marker.size}<br>Facility Latitude=%{lat}<br>Facility Longitude=%{lon}<extra></extra>",
         "lat": [
          40.029678,
          40.029678
         ],
         "legendgroup": "Baegun",
         "lon": [
          125.227326,
          125.227326
         ],
         "marker": {
          "color": "#19d3f3",
          "size": [
           2,
           2
          ],
          "sizemode": "area",
          "sizeref": 0.065
         },
         "mode": "markers",
         "name": "Baegun",
         "showlegend": true,
         "subplot": "mapbox",
         "type": "scattermapbox"
        },
        {
         "hovertemplate": "Facility Name=Munchon<br>Frequencies=%{marker.size}<br>Facility Latitude=%{lat}<br>Facility Longitude=%{lon}<extra></extra>",
         "lat": [
          39.2815,
          39.2815
         ],
         "legendgroup": "Munchon",
         "lon": [
          127.377,
          127.377
         ],
         "marker": {
          "color": "#FF6692",
          "size": [
           2,
           2
          ],
          "sizemode": "area",
          "sizeref": 0.065
         },
         "mode": "markers",
         "name": "Munchon",
         "showlegend": true,
         "subplot": "mapbox",
         "type": "scattermapbox"
        },
        {
         "hovertemplate": "Facility Name=Panghyon Airbase<br>Frequencies=%{marker.size}<br>Facility Latitude=%{lat}<br>Facility Longitude=%{lon}<extra></extra>",
         "lat": [
          39.927472,
          39.927472
         ],
         "legendgroup": "Panghyon Airbase",
         "lon": [
          125.207889,
          125.207889
         ],
         "marker": {
          "color": "#B6E880",
          "size": [
           2,
           2
          ],
          "sizemode": "area",
          "sizeref": 0.065
         },
         "mode": "markers",
         "name": "Panghyon Airbase",
         "showlegend": true,
         "subplot": "mapbox",
         "type": "scattermapbox"
        },
        {
         "hovertemplate": "Facility Name=Nampo<br>Frequencies=%{marker.size}<br>Facility Latitude=%{lat}<br>Facility Longitude=%{lon}<extra></extra>",
         "lat": [
          38.7523,
          38.7523
         ],
         "legendgroup": "Nampo",
         "lon": [
          125.3247,
          125.3247
         ],
         "marker": {
          "color": "#FF97FF",
          "size": [
           2,
           2
          ],
          "sizemode": "area",
          "sizeref": 0.065
         },
         "mode": "markers",
         "name": "Nampo",
         "showlegend": true,
         "subplot": "mapbox",
         "type": "scattermapbox"
        },
        {
         "hovertemplate": "Facility Name=Kaesong<br>Frequencies=%{marker.size}<br>Facility Latitude=%{lat}<br>Facility Longitude=%{lon}<extra></extra>",
         "lat": [
          37.9382,
          37.9382
         ],
         "legendgroup": "Kaesong",
         "lon": [
          126.5878,
          126.5878
         ],
         "marker": {
          "color": "#FECB52",
          "size": [
           2,
           2
          ],
          "sizemode": "area",
          "sizeref": 0.065
         },
         "mode": "markers",
         "name": "Kaesong",
         "showlegend": true,
         "subplot": "mapbox",
         "type": "scattermapbox"
        },
        {
         "hovertemplate": "Facility Name=Masikryong<br>Frequencies=%{marker.size}<br>Facility Latitude=%{lat}<br>Facility Longitude=%{lon}<extra></extra>",
         "lat": [
          39.065962,
          39.065962
         ],
         "legendgroup": "Masikryong",
         "lon": [
          127.250257,
          127.250257
         ],
         "marker": {
          "color": "#636efa",
          "size": [
           2,
           2
          ],
          "sizemode": "area",
          "sizeref": 0.065
         },
         "mode": "markers",
         "name": "Masikryong",
         "showlegend": true,
         "subplot": "mapbox",
         "type": "scattermapbox"
        },
        {
         "hovertemplate": "Facility Name=Kwail Airbase<br>Frequencies=%{marker.size}<br>Facility Latitude=%{lat}<br>Facility Longitude=%{lon}<extra></extra>",
         "lat": [
          38.421522,
          38.421522
         ],
         "legendgroup": "Kwail Airbase",
         "lon": [
          125.024421,
          125.024421
         ],
         "marker": {
          "color": "#EF553B",
          "size": [
           2,
           2
          ],
          "sizemode": "area",
          "sizeref": 0.065
         },
         "mode": "markers",
         "name": "Kwail Airbase",
         "showlegend": true,
         "subplot": "mapbox",
         "type": "scattermapbox"
        },
        {
         "hovertemplate": "Facility Name=Sangum-ri<br>Frequencies=%{marker.size}<br>Facility Latitude=%{lat}<br>Facility Longitude=%{lon}<extra></extra>",
         "lat": [
          39.141,
          39.141
         ],
         "legendgroup": "Sangum-ri",
         "lon": [
          127.616,
          127.616
         ],
         "marker": {
          "color": "#00cc96",
          "size": [
           2,
           2
          ],
          "sizemode": "area",
          "sizeref": 0.065
         },
         "mode": "markers",
         "name": "Sangum-ri",
         "showlegend": true,
         "subplot": "mapbox",
         "type": "scattermapbox"
        },
        {
         "hovertemplate": "Facility Name=Yangdok<br>Frequencies=%{marker.size}<br>Facility Latitude=%{lat}<br>Facility Longitude=%{lon}<extra></extra>",
         "lat": [
          39.275721,
          39.275721
         ],
         "legendgroup": "Yangdok",
         "lon": [
          126.804867,
          126.804867
         ],
         "marker": {
          "color": "#ab63fa",
          "size": [
           2,
           2
          ],
          "sizemode": "area",
          "sizeref": 0.065
         },
         "mode": "markers",
         "name": "Yangdok",
         "showlegend": true,
         "subplot": "mapbox",
         "type": "scattermapbox"
        },
        {
         "hovertemplate": "Facility Name=West Sunan<br>Frequencies=%{marker.size}<br>Facility Latitude=%{lat}<br>Facility Longitude=%{lon}<extra></extra>",
         "lat": [
          39.3942,
          39.3942
         ],
         "legendgroup": "West Sunan",
         "lon": [
          125.6773,
          125.6773
         ],
         "marker": {
          "color": "#FFA15A",
          "size": [
           2,
           2
          ],
          "sizemode": "area",
          "sizeref": 0.065
         },
         "mode": "markers",
         "name": "West Sunan",
         "showlegend": true,
         "subplot": "mapbox",
         "type": "scattermapbox"
        },
        {
         "hovertemplate": "Facility Name=Samsok<br>Frequencies=%{marker.size}<br>Facility Latitude=%{lat}<br>Facility Longitude=%{lon}<extra></extra>",
         "lat": [
          39.1268,
          39.1268
         ],
         "legendgroup": "Samsok",
         "lon": [
          125.9579,
          125.9579
         ],
         "marker": {
          "color": "#19d3f3",
          "size": [
           2,
           2
          ],
          "sizemode": "area",
          "sizeref": 0.065
         },
         "mode": "markers",
         "name": "Samsok",
         "showlegend": true,
         "subplot": "mapbox",
         "type": "scattermapbox"
        },
        {
         "hovertemplate": "Facility Name=Chihari Missile Base<br>Frequencies=%{marker.size}<br>Facility Latitude=%{lat}<br>Facility Longitude=%{lon}<extra></extra>",
         "lat": [
          38.62333
         ],
         "legendgroup": "Chihari Missile Base",
         "lon": [
          126.6847
         ],
         "marker": {
          "color": "#FF6692",
          "size": [
           1
          ],
          "sizemode": "area",
          "sizeref": 0.065
         },
         "mode": "markers",
         "name": "Chihari Missile Base",
         "showlegend": true,
         "subplot": "mapbox",
         "type": "scattermapbox"
        },
        {
         "hovertemplate": "Facility Name=Pyongsong Field<br>Frequencies=%{marker.size}<br>Facility Latitude=%{lat}<br>Facility Longitude=%{lon}<extra></extra>",
         "lat": [
          39.282
         ],
         "legendgroup": "Pyongsong Field",
         "lon": [
          125.869
         ],
         "marker": {
          "color": "#B6E880",
          "size": [
           1
          ],
          "sizemode": "area",
          "sizeref": 0.065
         },
         "mode": "markers",
         "name": "Pyongsong Field",
         "showlegend": true,
         "subplot": "mapbox",
         "type": "scattermapbox"
        },
        {
         "hovertemplate": "Facility Name=Kusong Testing Ground<br>Frequencies=%{marker.size}<br>Facility Latitude=%{lat}<br>Facility Longitude=%{lon}<extra></extra>",
         "lat": [
          40.01325
         ],
         "legendgroup": "Kusong Testing Ground",
         "lon": [
          125.22302
         ],
         "marker": {
          "color": "#FF97FF",
          "size": [
           1
          ],
          "sizemode": "area",
          "sizeref": 0.065
         },
         "mode": "markers",
         "name": "Kusong Testing Ground",
         "showlegend": true,
         "subplot": "mapbox",
         "type": "scattermapbox"
        },
        {
         "hovertemplate": "Facility Name=Pukchang Airfield<br>Frequencies=%{marker.size}<br>Facility Latitude=%{lat}<br>Facility Longitude=%{lon}<extra></extra>",
         "lat": [
          39.504417
         ],
         "legendgroup": "Pukchang Airfield",
         "lon": [
          125.964333
         ],
         "marker": {
          "color": "#FECB52",
          "size": [
           1
          ],
          "sizemode": "area",
          "sizeref": 0.065
         },
         "mode": "markers",
         "name": "Pukchang Airfield",
         "showlegend": true,
         "subplot": "mapbox",
         "type": "scattermapbox"
        },
        {
         "hovertemplate": "Facility Name=North Kusong Testing Ground<br>Frequencies=%{marker.size}<br>Facility Latitude=%{lat}<br>Facility Longitude=%{lon}<extra></extra>",
         "lat": [
          40.0659
         ],
         "legendgroup": "North Kusong Testing Ground",
         "lon": [
          125.2099
         ],
         "marker": {
          "color": "#636efa",
          "size": [
           1
          ],
          "sizemode": "area",
          "sizeref": 0.065
         },
         "mode": "markers",
         "name": "North Kusong Testing Ground",
         "showlegend": true,
         "subplot": "mapbox",
         "type": "scattermapbox"
        },
        {
         "hovertemplate": "Facility Name=Lake Yonpung<br>Frequencies=%{marker.size}<br>Facility Latitude=%{lat}<br>Facility Longitude=%{lon}<extra></extra>",
         "lat": [
          39.618283
         ],
         "legendgroup": "Lake Yonpung",
         "lon": [
          125.8035851
         ],
         "marker": {
          "color": "#EF553B",
          "size": [
           1
          ],
          "sizemode": "area",
          "sizeref": 0.065
         },
         "mode": "markers",
         "name": "Lake Yonpung",
         "showlegend": true,
         "subplot": "mapbox",
         "type": "scattermapbox"
        },
        {
         "hovertemplate": "Facility Name=Panghyon<br>Frequencies=%{marker.size}<br>Facility Latitude=%{lat}<br>Facility Longitude=%{lon}<extra></extra>",
         "lat": [
          39.872153
         ],
         "legendgroup": "Panghyon",
         "lon": [
          125.269192
         ],
         "marker": {
          "color": "#00cc96",
          "size": [
           1
          ],
          "sizemode": "area",
          "sizeref": 0.065
         },
         "mode": "markers",
         "name": "Panghyon",
         "showlegend": true,
         "subplot": "mapbox",
         "type": "scattermapbox"
        },
        {
         "hovertemplate": "Facility Name=Yonghung Bay<br>Frequencies=%{marker.size}<br>Facility Latitude=%{lat}<br>Facility Longitude=%{lon}<extra></extra>",
         "lat": [
          39.26
         ],
         "legendgroup": "Yonghung Bay",
         "lon": [
          127.58
         ],
         "marker": {
          "color": "#ab63fa",
          "size": [
           1
          ],
          "sizemode": "area",
          "sizeref": 0.065
         },
         "mode": "markers",
         "name": "Yonghung Bay",
         "showlegend": true,
         "subplot": "mapbox",
         "type": "scattermapbox"
        },
        {
         "hovertemplate": "Facility Name=Taechon Reservoir<br>Frequencies=%{marker.size}<br>Facility Latitude=%{lat}<br>Facility Longitude=%{lon}<extra></extra>",
         "lat": [
          39.9857
         ],
         "legendgroup": "Taechon Reservoir",
         "lon": [
          125.5186
         ],
         "marker": {
          "color": "#FFA15A",
          "size": [
           1
          ],
          "sizemode": "area",
          "sizeref": 0.065
         },
         "mode": "markers",
         "name": "Taechon Reservoir",
         "showlegend": true,
         "subplot": "mapbox",
         "type": "scattermapbox"
        },
        {
         "hovertemplate": "Facility Name=Samsok ICBM test site<br>Frequencies=%{marker.size}<br>Facility Latitude=%{lat}<br>Facility Longitude=%{lon}<extra></extra>",
         "lat": [
          39.112
         ],
         "legendgroup": "Samsok ICBM test site",
         "lon": [
          125.998
         ],
         "marker": {
          "color": "#19d3f3",
          "size": [
           1
          ],
          "sizemode": "area",
          "sizeref": 0.065
         },
         "mode": "markers",
         "name": "Samsok ICBM test site",
         "showlegend": true,
         "subplot": "mapbox",
         "type": "scattermapbox"
        }
       ],
       "layout": {
        "height": 700,
        "legend": {
         "itemsizing": "constant",
         "title": {
          "text": "Facility Name"
         },
         "tracegroupgap": 0
        },
        "mapbox": {
         "center": {
          "lat": 39.17180415583127,
          "lon": 126.551952046587
         },
         "domain": {
          "x": [
           0,
           1
          ],
          "y": [
           0,
           1
          ]
         },
         "style": "carto-positron",
         "zoom": 6
        },
        "margin": {
         "autoexpand": true,
         "b": 5,
         "l": 0,
         "r": 0,
         "t": 45
        },
        "template": {
         "data": {
          "bar": [
           {
            "error_x": {
             "color": "#2a3f5f"
            },
            "error_y": {
             "color": "#2a3f5f"
            },
            "marker": {
             "line": {
              "color": "#E5ECF6",
              "width": 0.5
             },
             "pattern": {
              "fillmode": "overlay",
              "size": 10,
              "solidity": 0.2
             }
            },
            "type": "bar"
           }
          ],
          "barpolar": [
           {
            "marker": {
             "line": {
              "color": "#E5ECF6",
              "width": 0.5
             },
             "pattern": {
              "fillmode": "overlay",
              "size": 10,
              "solidity": 0.2
             }
            },
            "type": "barpolar"
           }
          ],
          "carpet": [
           {
            "aaxis": {
             "endlinecolor": "#2a3f5f",
             "gridcolor": "white",
             "linecolor": "white",
             "minorgridcolor": "white",
             "startlinecolor": "#2a3f5f"
            },
            "baxis": {
             "endlinecolor": "#2a3f5f",
             "gridcolor": "white",
             "linecolor": "white",
             "minorgridcolor": "white",
             "startlinecolor": "#2a3f5f"
            },
            "type": "carpet"
           }
          ],
          "choropleth": [
           {
            "colorbar": {
             "outlinewidth": 0,
             "ticks": ""
            },
            "type": "choropleth"
           }
          ],
          "contour": [
           {
            "colorbar": {
             "outlinewidth": 0,
             "ticks": ""
            },
            "colorscale": [
             [
              0,
              "#0d0887"
             ],
             [
              0.1111111111111111,
              "#46039f"
             ],
             [
              0.2222222222222222,
              "#7201a8"
             ],
             [
              0.3333333333333333,
              "#9c179e"
             ],
             [
              0.4444444444444444,
              "#bd3786"
             ],
             [
              0.5555555555555556,
              "#d8576b"
             ],
             [
              0.6666666666666666,
              "#ed7953"
             ],
             [
              0.7777777777777778,
              "#fb9f3a"
             ],
             [
              0.8888888888888888,
              "#fdca26"
             ],
             [
              1,
              "#f0f921"
             ]
            ],
            "type": "contour"
           }
          ],
          "contourcarpet": [
           {
            "colorbar": {
             "outlinewidth": 0,
             "ticks": ""
            },
            "type": "contourcarpet"
           }
          ],
          "heatmap": [
           {
            "colorbar": {
             "outlinewidth": 0,
             "ticks": ""
            },
            "colorscale": [
             [
              0,
              "#0d0887"
             ],
             [
              0.1111111111111111,
              "#46039f"
             ],
             [
              0.2222222222222222,
              "#7201a8"
             ],
             [
              0.3333333333333333,
              "#9c179e"
             ],
             [
              0.4444444444444444,
              "#bd3786"
             ],
             [
              0.5555555555555556,
              "#d8576b"
             ],
             [
              0.6666666666666666,
              "#ed7953"
             ],
             [
              0.7777777777777778,
              "#fb9f3a"
             ],
             [
              0.8888888888888888,
              "#fdca26"
             ],
             [
              1,
              "#f0f921"
             ]
            ],
            "type": "heatmap"
           }
          ],
          "heatmapgl": [
           {
            "colorbar": {
             "outlinewidth": 0,
             "ticks": ""
            },
            "colorscale": [
             [
              0,
              "#0d0887"
             ],
             [
              0.1111111111111111,
              "#46039f"
             ],
             [
              0.2222222222222222,
              "#7201a8"
             ],
             [
              0.3333333333333333,
              "#9c179e"
             ],
             [
              0.4444444444444444,
              "#bd3786"
             ],
             [
              0.5555555555555556,
              "#d8576b"
             ],
             [
              0.6666666666666666,
              "#ed7953"
             ],
             [
              0.7777777777777778,
              "#fb9f3a"
             ],
             [
              0.8888888888888888,
              "#fdca26"
             ],
             [
              1,
              "#f0f921"
             ]
            ],
            "type": "heatmapgl"
           }
          ],
          "histogram": [
           {
            "marker": {
             "pattern": {
              "fillmode": "overlay",
              "size": 10,
              "solidity": 0.2
             }
            },
            "type": "histogram"
           }
          ],
          "histogram2d": [
           {
            "colorbar": {
             "outlinewidth": 0,
             "ticks": ""
            },
            "colorscale": [
             [
              0,
              "#0d0887"
             ],
             [
              0.1111111111111111,
              "#46039f"
             ],
             [
              0.2222222222222222,
              "#7201a8"
             ],
             [
              0.3333333333333333,
              "#9c179e"
             ],
             [
              0.4444444444444444,
              "#bd3786"
             ],
             [
              0.5555555555555556,
              "#d8576b"
             ],
             [
              0.6666666666666666,
              "#ed7953"
             ],
             [
              0.7777777777777778,
              "#fb9f3a"
             ],
             [
              0.8888888888888888,
              "#fdca26"
             ],
             [
              1,
              "#f0f921"
             ]
            ],
            "type": "histogram2d"
           }
          ],
          "histogram2dcontour": [
           {
            "colorbar": {
             "outlinewidth": 0,
             "ticks": ""
            },
            "colorscale": [
             [
              0,
              "#0d0887"
             ],
             [
              0.1111111111111111,
              "#46039f"
             ],
             [
              0.2222222222222222,
              "#7201a8"
             ],
             [
              0.3333333333333333,
              "#9c179e"
             ],
             [
              0.4444444444444444,
              "#bd3786"
             ],
             [
              0.5555555555555556,
              "#d8576b"
             ],
             [
              0.6666666666666666,
              "#ed7953"
             ],
             [
              0.7777777777777778,
              "#fb9f3a"
             ],
             [
              0.8888888888888888,
              "#fdca26"
             ],
             [
              1,
              "#f0f921"
             ]
            ],
            "type": "histogram2dcontour"
           }
          ],
          "mesh3d": [
           {
            "colorbar": {
             "outlinewidth": 0,
             "ticks": ""
            },
            "type": "mesh3d"
           }
          ],
          "parcoords": [
           {
            "line": {
             "colorbar": {
              "outlinewidth": 0,
              "ticks": ""
             }
            },
            "type": "parcoords"
           }
          ],
          "pie": [
           {
            "automargin": true,
            "type": "pie"
           }
          ],
          "scatter": [
           {
            "fillpattern": {
             "fillmode": "overlay",
             "size": 10,
             "solidity": 0.2
            },
            "type": "scatter"
           }
          ],
          "scatter3d": [
           {
            "line": {
             "colorbar": {
              "outlinewidth": 0,
              "ticks": ""
             }
            },
            "marker": {
             "colorbar": {
              "outlinewidth": 0,
              "ticks": ""
             }
            },
            "type": "scatter3d"
           }
          ],
          "scattercarpet": [
           {
            "marker": {
             "colorbar": {
              "outlinewidth": 0,
              "ticks": ""
             }
            },
            "type": "scattercarpet"
           }
          ],
          "scattergeo": [
           {
            "marker": {
             "colorbar": {
              "outlinewidth": 0,
              "ticks": ""
             }
            },
            "type": "scattergeo"
           }
          ],
          "scattergl": [
           {
            "marker": {
             "colorbar": {
              "outlinewidth": 0,
              "ticks": ""
             }
            },
            "type": "scattergl"
           }
          ],
          "scattermapbox": [
           {
            "marker": {
             "colorbar": {
              "outlinewidth": 0,
              "ticks": ""
             }
            },
            "type": "scattermapbox"
           }
          ],
          "scatterpolar": [
           {
            "marker": {
             "colorbar": {
              "outlinewidth": 0,
              "ticks": ""
             }
            },
            "type": "scatterpolar"
           }
          ],
          "scatterpolargl": [
           {
            "marker": {
             "colorbar": {
              "outlinewidth": 0,
              "ticks": ""
             }
            },
            "type": "scatterpolargl"
           }
          ],
          "scatterternary": [
           {
            "marker": {
             "colorbar": {
              "outlinewidth": 0,
              "ticks": ""
             }
            },
            "type": "scatterternary"
           }
          ],
          "surface": [
           {
            "colorbar": {
             "outlinewidth": 0,
             "ticks": ""
            },
            "colorscale": [
             [
              0,
              "#0d0887"
             ],
             [
              0.1111111111111111,
              "#46039f"
             ],
             [
              0.2222222222222222,
              "#7201a8"
             ],
             [
              0.3333333333333333,
              "#9c179e"
             ],
             [
              0.4444444444444444,
              "#bd3786"
             ],
             [
              0.5555555555555556,
              "#d8576b"
             ],
             [
              0.6666666666666666,
              "#ed7953"
             ],
             [
              0.7777777777777778,
              "#fb9f3a"
             ],
             [
              0.8888888888888888,
              "#fdca26"
             ],
             [
              1,
              "#f0f921"
             ]
            ],
            "type": "surface"
           }
          ],
          "table": [
           {
            "cells": {
             "fill": {
              "color": "#EBF0F8"
             },
             "line": {
              "color": "white"
             }
            },
            "header": {
             "fill": {
              "color": "#C8D4E3"
             },
             "line": {
              "color": "white"
             }
            },
            "type": "table"
           }
          ]
         },
         "layout": {
          "annotationdefaults": {
           "arrowcolor": "#2a3f5f",
           "arrowhead": 0,
           "arrowwidth": 1
          },
          "autotypenumbers": "strict",
          "coloraxis": {
           "colorbar": {
            "outlinewidth": 0,
            "ticks": ""
           }
          },
          "colorscale": {
           "diverging": [
            [
             0,
             "#8e0152"
            ],
            [
             0.1,
             "#c51b7d"
            ],
            [
             0.2,
             "#de77ae"
            ],
            [
             0.3,
             "#f1b6da"
            ],
            [
             0.4,
             "#fde0ef"
            ],
            [
             0.5,
             "#f7f7f7"
            ],
            [
             0.6,
             "#e6f5d0"
            ],
            [
             0.7,
             "#b8e186"
            ],
            [
             0.8,
             "#7fbc41"
            ],
            [
             0.9,
             "#4d9221"
            ],
            [
             1,
             "#276419"
            ]
           ],
           "sequential": [
            [
             0,
             "#0d0887"
            ],
            [
             0.1111111111111111,
             "#46039f"
            ],
            [
             0.2222222222222222,
             "#7201a8"
            ],
            [
             0.3333333333333333,
             "#9c179e"
            ],
            [
             0.4444444444444444,
             "#bd3786"
            ],
            [
             0.5555555555555556,
             "#d8576b"
            ],
            [
             0.6666666666666666,
             "#ed7953"
            ],
            [
             0.7777777777777778,
             "#fb9f3a"
            ],
            [
             0.8888888888888888,
             "#fdca26"
            ],
            [
             1,
             "#f0f921"
            ]
           ],
           "sequentialminus": [
            [
             0,
             "#0d0887"
            ],
            [
             0.1111111111111111,
             "#46039f"
            ],
            [
             0.2222222222222222,
             "#7201a8"
            ],
            [
             0.3333333333333333,
             "#9c179e"
            ],
            [
             0.4444444444444444,
             "#bd3786"
            ],
            [
             0.5555555555555556,
             "#d8576b"
            ],
            [
             0.6666666666666666,
             "#ed7953"
            ],
            [
             0.7777777777777778,
             "#fb9f3a"
            ],
            [
             0.8888888888888888,
             "#fdca26"
            ],
            [
             1,
             "#f0f921"
            ]
           ]
          },
          "colorway": [
           "#636efa",
           "#EF553B",
           "#00cc96",
           "#ab63fa",
           "#FFA15A",
           "#19d3f3",
           "#FF6692",
           "#B6E880",
           "#FF97FF",
           "#FECB52"
          ],
          "font": {
           "color": "#2a3f5f"
          },
          "geo": {
           "bgcolor": "white",
           "lakecolor": "white",
           "landcolor": "#E5ECF6",
           "showlakes": true,
           "showland": true,
           "subunitcolor": "white"
          },
          "hoverlabel": {
           "align": "left"
          },
          "hovermode": "closest",
          "mapbox": {
           "style": "light"
          },
          "paper_bgcolor": "white",
          "plot_bgcolor": "#E5ECF6",
          "polar": {
           "angularaxis": {
            "gridcolor": "white",
            "linecolor": "white",
            "ticks": ""
           },
           "bgcolor": "#E5ECF6",
           "radialaxis": {
            "gridcolor": "white",
            "linecolor": "white",
            "ticks": ""
           }
          },
          "scene": {
           "xaxis": {
            "backgroundcolor": "#E5ECF6",
            "gridcolor": "white",
            "gridwidth": 2,
            "linecolor": "white",
            "showbackground": true,
            "ticks": "",
            "zerolinecolor": "white"
           },
           "yaxis": {
            "backgroundcolor": "#E5ECF6",
            "gridcolor": "white",
            "gridwidth": 2,
            "linecolor": "white",
            "showbackground": true,
            "ticks": "",
            "zerolinecolor": "white"
           },
           "zaxis": {
            "backgroundcolor": "#E5ECF6",
            "gridcolor": "white",
            "gridwidth": 2,
            "linecolor": "white",
            "showbackground": true,
            "ticks": "",
            "zerolinecolor": "white"
           }
          },
          "shapedefaults": {
           "line": {
            "color": "#2a3f5f"
           }
          },
          "ternary": {
           "aaxis": {
            "gridcolor": "white",
            "linecolor": "white",
            "ticks": ""
           },
           "baxis": {
            "gridcolor": "white",
            "linecolor": "white",
            "ticks": ""
           },
           "bgcolor": "#E5ECF6",
           "caxis": {
            "gridcolor": "white",
            "linecolor": "white",
            "ticks": ""
           }
          },
          "title": {
           "x": 0.05
          },
          "xaxis": {
           "automargin": true,
           "gridcolor": "white",
           "linecolor": "white",
           "ticks": "",
           "title": {
            "standoff": 15
           },
           "zerolinecolor": "white",
           "zerolinewidth": 2
          },
          "yaxis": {
           "automargin": true,
           "gridcolor": "white",
           "linecolor": "white",
           "ticks": "",
           "title": {
            "standoff": 15
           },
           "zerolinecolor": "white",
           "zerolinewidth": 2
          }
         }
        },
        "title": {
         "font": {
          "family": "Courier New",
          "size": 25
         },
         "text": "DPRK Missile Facility Locations",
         "x": 0.5,
         "xanchor": "center"
        },
        "width": 1000
       }
      }
     },
     "metadata": {},
     "output_type": "display_data"
    }
   ],
   "source": [
    "test_frequencies = df['Facility Name'].value_counts()\n",
    "df['Frequencies'] = df['Facility Name'].map(test_frequencies)\n",
    "sorted_df = df.sort_values(by='Frequencies', ascending=False)\n",
    "\n",
    "# Create the scatter map plot\n",
    "map_fig2 = px.scatter_mapbox(sorted_df, lat='Facility Latitude', lon='Facility Longitude',\n",
    "                             color='Facility Name', size='Frequencies',\n",
    "                             zoom=6, center={'lat': 39.17180415583127, 'lon': 126.551952046587},\n",
    "                             width=1000, height=700, title='DPRK Missile Facility Locations')\n",
    "\n",
    "map_fig2.update_layout(mapbox_style=\"carto-positron\", title_font_size=25, title_font_family=\"Courier New\")\n",
    "map_fig2.update_layout(margin_autoexpand=True)\n",
    "\n",
    "# Modify the legend position\n",
    "map_fig2.update_layout(title=dict(x=0.5, xanchor='center'))\n",
    "map_fig2.update_layout(margin=dict(t=45, l=0, r=0, b=5))\n",
    "# Display the scatter map plot\n",
    "map_fig2.show()"
   ]
  },
  {
   "cell_type": "markdown",
   "metadata": {},
   "source": [
    "# Second plot: Number of missile testings by timeline"
   ]
  },
  {
   "cell_type": "code",
   "execution_count": 15,
   "metadata": {},
   "outputs": [
    {
     "data": {
      "image/png": "[encoded data removed]",
      "text/plain": [
       "<Figure size 1600x900 with 1 Axes>"
      ]
     },
     "metadata": {},
     "output_type": "display_data"
    }
   ],
   "source": [
    "grouped_total_num = df.groupby('Year').sum(numeric_only=True).reset_index()\n",
    "\n",
    "# Create a range of years from the minimum to maximum years in the data\n",
    "year_chart = range(df['Year'].min(), df['Year'].max() + 1)\n",
    "\n",
    "# Create a DataFrame with all years\n",
    "year_chart_df = pd.DataFrame({'Year': year_chart})\n",
    "\n",
    "# Merge the all_years_df with the grouped DataFrame to fill missing years with 0 test counts\n",
    "merged_df = pd.merge(year_chart_df, grouped_total_num, how='left', on='Year')\n",
    "merged_df['# of Test'] = merged_df['# of Test'].fillna(0)\n",
    "\n",
    "# Create a gradient color palette using seaborn's light_palette()\n",
    "n_colors = len(merged_df)  # Number of colors in the palette (one for each year)\n",
    "gradient_palette = sns.dark_palette(\"red\", n_colors=n_colors)\n",
    "\n",
    "# Create the bar chart with the gradient color palette\n",
    "plt.figure(figsize=(16, 9))\n",
    "sns.barplot(x='Year', y='# of Test', data=merged_df, palette=gradient_palette)\n",
    "\n",
    "# Customize the plot\n",
    "plt.gca().spines['right'].set_visible(False)\n",
    "plt.gca().spines['top'].set_visible(False)\n",
    "plt.gca().spines['left'].set_visible(True)\n",
    "plt.gca().spines['bottom'].set_visible(True)\n",
    "plt.xticks(rotation=45)\n",
    "\n",
    "plt.axvline(10, 0, 15, color='lightgray', linestyle='-', linewidth='2')\n",
    "plt.axvline(27, 0, 15, color='lightgray', linestyle='-', linewidth='2')\n",
    "\n",
    "plt.text(0.1, 65,'Kim, Il-sung\\nDPRK Founder\\n1966-1994', fontsize=12, color='black')\n",
    "plt.text(10.5, 65, 'Kim, Jong-il\\n1st Successor\\n1994-2011', fontsize=12, color='black')\n",
    "plt.text(27.5, 65, 'Kim, Jong-un\\n2nd Successor\\n2011-Today', fontsize=12, color='black')\n",
    "\n",
    "# Set x-axis label and title\n",
    "plt.xlabel('Year', fontsize=15)\n",
    "plt.ylabel('Number of Test', fontsize=15)\n",
    "plt.title('DPRK Missile Test Count by Year', fontsize=15)\n",
    "\n",
    "#First comment & line descriptions\n",
    "x1 = 0\n",
    "y1 = merged_df.loc[0, '# of Test']\n",
    "comment1 = 'First Scud-B missile test firing'\n",
    "line_length1 = 24.5  # Extend the line by 5 points\n",
    "plt.text(x1 + 4, y1 + 24, comment1, ha='center', va='bottom')\n",
    "plt.plot([x1, x1], [y1, y1 + line_length1], color='black', linewidth=1, linestyle='--')\n",
    "#First star\n",
    "star_x1 = x1\n",
    "star_y1 = y1 + 25  # Adjust the vertical position of the star\n",
    "plt.plot(star_x1, star_y1, marker='*', color='red', markersize=12)\n",
    "\n",
    "#Second comment & line descriptions\n",
    "x2 = 9\n",
    "y2 = merged_df.loc[9, '# of Test']\n",
    "comment2 = 'Missile launched to Sea of Japan\\n& Sold missiles to Iran'\n",
    "#x_line2 = 14\n",
    "line_length2 = 10\n",
    "plt.text(x2 - 3.5, y2 + 10, comment2, ha='center', va='bottom')\n",
    "plt.plot([x2, x2], [y2, y2 + line_length2], color='black', linewidth=1, linestyle='--')\n",
    "line_length2 = 24.5  # Extend the line by 5 points\n",
    "#Second star\n",
    "star_x2 = x2\n",
    "star_y2 = y2 + 10.5  # Adjust the vertical position of the star\n",
    "plt.plot(star_x2, star_y2, marker='*', color='red', markersize=12)\n",
    "\n",
    "#Third comment & line descriptions\n",
    "x3 = 10\n",
    "y3 = merged_df.loc[10, '# of Test']\n",
    "comment3 = 'DPRK and the US signed the Agreed Framework'\n",
    "#x_line3 = 40\n",
    "line_length3 = 60\n",
    "plt.text(x3 + 7, y3 + 59, comment3, ha='center', va='bottom')\n",
    "plt.plot([x3, x3], [y3, y3 + line_length3], color='black', linewidth=1, linestyle='--')\n",
    "\n",
    "#Third star\n",
    "star_x3 = x3\n",
    "star_y3 = y3 + 60  # Adjust the vertical position of the star\n",
    "plt.plot(star_x3, star_y3, marker='*', color='red', markersize=12)\n",
    "\n",
    "#Forth comment & line descriptions\n",
    "x4 = 14\n",
    "y4 = merged_df.loc[14, '# of Test']\n",
    "comment4 = 'First ballistic missile test'\n",
    "#x_line3 = 40\n",
    "line_length4 = 48\n",
    "plt.text(x4 + 3.5, y4 + 47.3, comment4, ha='center', va='bottom')\n",
    "plt.plot([x4, x4], [y4, y4 + line_length4], color='black', linewidth=1, linestyle='--')\n",
    "line_length4 = 48.5  # Extend the line by 5 points\n",
    "#Fourth star\n",
    "star_x4 = x4\n",
    "star_y4 = y4 + 48  # Adjust the vertical position of the star\n",
    "plt.plot(star_x4, star_y4, marker='*', color='red', markersize=12)\n",
    "\n",
    "#Fifth comment & line descriptions\n",
    "x5 = 15\n",
    "y5 = merged_df.loc[15, '# of Test']\n",
    "comment5 = 'DPRK agrees to a moratorium\\n on long-range missile tests'\n",
    "line_length5 = 35\n",
    "plt.text(x5 + 4, y5 + 34, comment5, ha='center', va='bottom')\n",
    "plt.plot([x5, x5], [y5, y5 + line_length5], color='black', linewidth=1, linestyle='--')\n",
    "#Fourth star\n",
    "star_x5 = x5\n",
    "star_y5 = y5 + 35  # Adjust the vertical position of the star\n",
    "plt.plot(star_x5, star_y5, marker='*', color='red', markersize=12)\n",
    "\n",
    "#Sixth comment & line descriptions\n",
    "x6 = 34\n",
    "y6 = merged_df.loc[34, '# of Test']\n",
    "comment6 = '2018 DPRK-US Singapore Summit'\n",
    "line_length6 = 35\n",
    "plt.text(x6 - 2, y6 + 36, comment6, ha='center', va='bottom')\n",
    "plt.plot([x6, x6], [y6, y6 + line_length6], color='black', linewidth=1, linestyle='--')\n",
    "#Fourth star\n",
    "star_x6 = x6\n",
    "star_y6 = y6 + 35  # Adjust the vertical position of the star\n",
    "plt.plot(star_x6, star_y6, marker='*', color='red', markersize=12)\n",
    "\n",
    "#Seventh comment & line descriptions\n",
    "x7 = 38\n",
    "y7 = merged_df.loc[38, '# of Test']\n",
    "comment7 = 'IRBM reached\\n4500km'\n",
    "line_length7 = 30\n",
    "plt.text(x7 - 2, y7 + 0, comment7, ha='center', va='bottom')\n",
    "#plt.plot([x7, x7], [y7, y7 + line_length7], color='black', linewidth=1, linestyle='--')\n",
    "#Fourth star\n",
    "star_x7 = x7\n",
    "star_y7 = y7 + 1  # Adjust the vertical position of the star\n",
    "plt.plot(star_x7, star_y7, marker='*', color='red', markersize=12)\n",
    "\n",
    "#Eight comment & line descriptions\n",
    "x8 = 22\n",
    "y8 = merged_df.loc[22, '# of Test']\n",
    "comment8 = '1st Nuclear test\\nand sacntioned'\n",
    "line_length8 = 9\n",
    "plt.text(x8 - 2.5, y8 + 9, comment8, ha='center', va='bottom')\n",
    "plt.plot([x8, x8], [y8, y8 + line_length8], color='black', linewidth=1, linestyle='--')\n",
    "#Eight star\n",
    "star_x8 = x8\n",
    "star_y8 = y8 + 10  # Adjust the vertical position of the star\n",
    "plt.plot(star_x8, star_y8, marker='*', color='red', markersize=12)\n",
    "\n",
    "#Nineth comment & line descriptions\n",
    "x9 = 25\n",
    "y9 = merged_df.loc[25, '# of Test']\n",
    "comment9 = '2nd Nuclear test\\n\"Escalated tensions\"'\n",
    "line_length9 = 14\n",
    "plt.text(x9 - 2, y9 + 14, comment9, ha='center', va='bottom')\n",
    "plt.plot([x9, x9], [y9, y9 + line_length9], color='black', linewidth=1, linestyle='--')\n",
    "#Nineth star\n",
    "star_x9 = x9\n",
    "star_y9 = y9 + 13  # Adjust the vertical position of the star\n",
    "plt.plot(star_x9, star_y9, marker='*', color='red', markersize=12)\n",
    "\n",
    "# Display the bar chart\n",
    "#plt.tight_layout()\n",
    "plt.show()"
   ]
  },
  {
   "cell_type": "markdown",
   "metadata": {},
   "source": [
    "# Third plot: Number of success and fail by facility names"
   ]
  },
  {
   "cell_type": "code",
   "execution_count": 16,
   "metadata": {},
   "outputs": [
    {
     "data": {
      "image/png": "[encoded data removed]",
      "text/plain": [
       "<Figure size 1000x800 with 1 Axes>"
      ]
     },
     "metadata": {},
     "output_type": "display_data"
    }
   ],
   "source": [
    "# Counting of total number\n",
    "test_frequencies = df['Facility Name'].value_counts()\n",
    "facility_names_reversed = test_frequencies.index[::-1]\n",
    "facility_counts_reversed = test_frequencies.values[::-1]\n",
    "\n",
    "# Counting Success and Failure numbers by facility name\n",
    "facility_success = df.groupby('Facility Name')['Test Outcome'].apply(lambda x: (x == 'Success').sum())\n",
    "facility_failure = df.groupby('Facility Name')['Test Outcome'].apply(lambda x: (x == 'Failure').sum())\n",
    "\n",
    "\n",
    "success_counts = facility_success.reindex(facility_names_reversed).values\n",
    "failure_counts = facility_failure.reindex(facility_names_reversed).values\n",
    "\n",
    "# Determine the figure size\n",
    "plt.figure(figsize=(10, 8))\n",
    "# Chart layout - I used [::-1] because otherwise, the highest number goes to the bottom.\n",
    "\n",
    "# Configuring the bar colors\n",
    "success_color = 'red' \n",
    "failure_color = 'gray' \n",
    "# Starting to define what goes into the chart\n",
    "bar_positions = np.arange(len(facility_names_reversed))\n",
    "# Setting the bar\n",
    "\n",
    "\n",
    "plt.barh(bar_positions, success_counts, color=success_color)\n",
    "plt.barh(bar_positions, failure_counts, left=success_counts, color=failure_color)\n",
    "# Additional visualization\n",
    "plt.yticks(bar_positions, facility_names_reversed)\n",
    "plt.tick_params(axis='x', labelsize=13)\n",
    "plt.tick_params(axis='y', labelsize=9)\n",
    "plt.xlabel('Number of Missile Tests (Maximum: 26)', size=12)\n",
    "plt.ylabel('Facility Names', size=12)\n",
    "plt.title('DPRK Missile Testing Facilities by Number of Testing', size=15)\n",
    "plt.xticks(rotation=0)\n",
    "# Set the legend\n",
    "legend_font_size = 12\n",
    "plt.legend(['Success', 'Failure'], loc='center', prop={'size': legend_font_size})\n",
    "\n",
    "#for i, v in enumerate(facility_counts_reversed):\n",
    "#    plt.text(v, i, str(v), color='black', va='center', size=9)\n",
    "    \n",
    "# Additional chart configuration\n",
    "plt.gca().spines['right'].set_visible(False)\n",
    "plt.gca().spines['top'].set_visible(False)\n",
    "plt.gca().spines['left'].set_visible(True)\n",
    "plt.gca().spines['bottom'].set_visible(True)\n",
    "\n",
    "plt.ylim(bar_positions[0]-1, bar_positions[-1]+0.5)\n",
    "\n",
    "#plt.tight_layout()\n",
    "plt.show()"
   ]
  },
  {
   "cell_type": "code",
   "execution_count": 18,
   "metadata": {},
   "outputs": [
    {
     "data": {
      "text/plain": [
       "Text(0.5, 1.0, 'DPRK missile distance changes over the years')"
      ]
     },
     "execution_count": 18,
     "metadata": {},
     "output_type": "execute_result"
    },
    {
     "data": {
      "image/png": "[encoded data removed]",
      "text/plain": [
       "<Figure size 1000x700 with 1 Axes>"
      ]
     },
     "metadata": {},
     "output_type": "display_data"
    }
   ],
   "source": [
    "# This chart requires two different values (max & mean). Therefore, the following lines defines both max range and mean range.\n",
    "df_distance = df[['Year','Distance Travelled']]\n",
    "grouped_distance = df_distance.groupby('Year')\n",
    "df_range_max = grouped_distance.max().reset_index()\n",
    "df_range_max = df_range_max.dropna()\n",
    "df_range_max.rename(columns = {\"Distance Travelled\": \"Reach (km)\"}, inplace=True)\n",
    "df_range_max['Category'] = \"Maximum\"\n",
    "# Here starts mean range\n",
    "df_distance = df[['Year','Distance Travelled']]\n",
    "grouped_distance = df_distance.groupby('Year')\n",
    "df_range_mean = grouped_distance.mean().reset_index()\n",
    "df_range_mean = df_range_mean.dropna()\n",
    "df_range_mean.rename(columns = {\"Distance Travelled\": \"Reach (km)\"}, inplace=True)\n",
    "df_range_mean['Category'] = \"Average\"\n",
    "# Now, concatenate two data (max & mean), so it can be plotted together.\n",
    "df_reach = pd.concat([df_range_mean,df_range_max])\n",
    "df_reach = df_reach[df_reach['Reach (km)'] != 0.0]\n",
    "# Creating a figure\n",
    "fig = plt.figure(figsize=(10, 7))\n",
    "# Creating a plot\n",
    "ax1 = sns.barplot(x='Reach (km)', y='Year', hue=\"Category\", data=df_reach, orient=\"h\", palette=\"cubehelix\")\n",
    "\n",
    "ax1 = sns.set_theme(style=\"white\")\n",
    "#ax1 = plt.gca().spines['right'].set_visible(False)\n",
    "# ax1 = plt.gca().spines['top'].set_visible(True)\n",
    "# ax1 = plt.gca().spines['left'].set_visible(True)\n",
    "# ax1 = plt.gca().spines['bottom'].set_visible(True)\n",
    "\n",
    "ax1 = plt.gca().spines['left'].set_color('black')\n",
    "ax1 = plt.gca().spines['bottom'].set_color('black')\n",
    "# xticks by 250 km\n",
    "xticks = np.arange(0, df_reach['Reach (km)'].max()+250, 250)\n",
    "plt.xticks(xticks, xticks.astype(int))\n",
    "# xticks lines\n",
    "for xtick in xticks:\n",
    "    plt.axvline(xtick, -1, 5, color='lightgray', linestyle='--', linewidth='1')\n",
    "# ax1 = plt.text(312, 5.3, 'Seoul\\n(312km)', fontsize=10, color='red', horizontalalignment='center')\n",
    "# ax1 = plt.text(595, 5.3, 'Busan\\n(590km)', fontsize=10, color='red', horizontalalignment='center')\n",
    "# ax1 = plt.text(988, 5.3, 'Beijing\\n(994km)', fontsize=10, color='red', horizontalalignment='center')\n",
    "# ax1 = plt.text(1040, 5.3, 'Tokyo\\n(1040km)', fontsize=10, color='red', horizontalalignment='center')\n",
    "\n",
    "ax1 = plt.legend(loc='upper right')\n",
    "\n",
    "plt.title('DPRK missile distance changes over the years', fontsize = 16, loc='center')"
   ]
  },
  {
   "cell_type": "code",
   "execution_count": 20,
   "metadata": {},
   "outputs": [
    {
     "data": {
      "text/plain": [
       "Sea of Japan or East Sea                                      196\n",
       "Unknown                                                        19\n",
       "Yellow Sea or West Sea                                         10\n",
       "Pacific Ocean                                                   5\n",
       "330km east of Hachinohe and 4000 km out into Pacific Ocean      1\n",
       "Name: Landing Location, dtype: int64"
      ]
     },
     "execution_count": 20,
     "metadata": {},
     "output_type": "execute_result"
    }
   ],
   "source": [
    "df['Landing Location'].value_counts()"
   ]
  },
  {
   "cell_type": "code",
   "execution_count": 23,
   "metadata": {},
   "outputs": [
    {
     "data": {
      "application/vnd.plotly.v1+json": {
       "config": {
        "plotlyServerURL": "https://plot.ly"
       },
       "data": [
        {
         "hovertemplate": "<b>%{hovertext}</b><br><br>Location=Sea of Japan or East Sea<br>Count=%{marker.size}<br>Latitude=%{lat}<br>Longitude=%{lon}<extra></extra>",
         "hovertext": [
          "Sea of Japan or East Sea"
         ],
         "lat": [
          39.955235648894956
         ],
         "legendgroup": "Sea of Japan or East Sea",
         "lon": [
          134.61977359260942
         ],
         "marker": {
          "color": "#636efa",
          "size": [
           196
          ],
          "sizemode": "area",
          "sizeref": 0.21777777777777776
         },
         "mode": "markers",
         "name": "Sea of Japan or East Sea",
         "showlegend": true,
         "subplot": "mapbox",
         "type": "scattermapbox"
        },
        {
         "hovertemplate": "<b>%{hovertext}</b><br><br>Location=Yellow Sea or West Sea<br>Count=%{marker.size}<br>Latitude=%{lat}<br>Longitude=%{lon}<extra></extra>",
         "hovertext": [
          "Yellow Sea or West Sea"
         ],
         "lat": [
          37.59154703499678
         ],
         "legendgroup": "Yellow Sea or West Sea",
         "lon": [
          124.86670024925259
         ],
         "marker": {
          "color": "#EF553B",
          "size": [
           10
          ],
          "sizemode": "area",
          "sizeref": 0.21777777777777776
         },
         "mode": "markers",
         "name": "Yellow Sea or West Sea",
         "showlegend": true,
         "subplot": "mapbox",
         "type": "scattermapbox"
        },
        {
         "hovertemplate": "<b>%{hovertext}</b><br><br>Location=Pacific Ocean<br>Count=%{marker.size}<br>Latitude=%{lat}<br>Longitude=%{lon}<extra></extra>",
         "hovertext": [
          "Pacific Ocean"
         ],
         "lat": [
          32.03899252565651
         ],
         "legendgroup": "Pacific Ocean",
         "lon": [
          175.45833648092025
         ],
         "marker": {
          "color": "#00cc96",
          "size": [
           5
          ],
          "sizemode": "area",
          "sizeref": 0.21777777777777776
         },
         "mode": "markers",
         "name": "Pacific Ocean",
         "showlegend": true,
         "subplot": "mapbox",
         "type": "scattermapbox"
        },
        {
         "hovertemplate": "<b>%{hovertext}</b><br><br>Location=330km east of Hachinohe and 4000 km out into Pacific Ocean<br>Count=%{marker.size}<br>Latitude=%{lat}<br>Longitude=%{lon}<extra></extra>",
         "hovertext": [
          "330km east of Hachinohe and 4000 km out into Pacific Ocean"
         ],
         "lat": [
          41.27280362125239
         ],
         "legendgroup": "330km east of Hachinohe and 4000 km out into Pacific Ocean",
         "lon": [
          148.20008702447393
         ],
         "marker": {
          "color": "#ab63fa",
          "size": [
           1
          ],
          "sizemode": "area",
          "sizeref": 0.21777777777777776
         },
         "mode": "markers",
         "name": "330km east of Hachinohe and 4000 km out into Pacific Ocean",
         "showlegend": true,
         "subplot": "mapbox",
         "type": "scattermapbox"
        },
        {
         "hovertemplate": "<b>%{hovertext}</b><br><br>Location=Unknown<br>Count=%{marker.size}<br>Latitude=%{lat}<br>Longitude=%{lon}<extra></extra>",
         "hovertext": [
          "Unknown"
         ],
         "lat": [
          0
         ],
         "legendgroup": "Unknown",
         "lon": [
          0
         ],
         "marker": {
          "color": "#FFA15A",
          "size": [
           19
          ],
          "sizemode": "area",
          "sizeref": 0.21777777777777776
         },
         "mode": "markers",
         "name": "Unknown",
         "showlegend": true,
         "subplot": "mapbox",
         "type": "scattermapbox"
        }
       ],
       "layout": {
        "height": 500,
        "legend": {
         "itemsizing": "constant",
         "title": {
          "text": "Location"
         },
         "tracegroupgap": 0
        },
        "mapbox": {
         "center": {
          "lat": 37.10179958267497,
          "lon": 149.44271388582095
         },
         "domain": {
          "x": [
           0,
           1
          ],
          "y": [
           0,
           1
          ]
         },
         "style": "carto-darkmatter",
         "zoom": 2.7
        },
        "margin": {
         "b": 0,
         "l": 0,
         "r": 0,
         "t": 45
        },
        "template": {
         "data": {
          "bar": [
           {
            "error_x": {
             "color": "#2a3f5f"
            },
            "error_y": {
             "color": "#2a3f5f"
            },
            "marker": {
             "line": {
              "color": "#E5ECF6",
              "width": 0.5
             },
             "pattern": {
              "fillmode": "overlay",
              "size": 10,
              "solidity": 0.2
             }
            },
            "type": "bar"
           }
          ],
          "barpolar": [
           {
            "marker": {
             "line": {
              "color": "#E5ECF6",
              "width": 0.5
             },
             "pattern": {
              "fillmode": "overlay",
              "size": 10,
              "solidity": 0.2
             }
            },
            "type": "barpolar"
           }
          ],
          "carpet": [
           {
            "aaxis": {
             "endlinecolor": "#2a3f5f",
             "gridcolor": "white",
             "linecolor": "white",
             "minorgridcolor": "white",
             "startlinecolor": "#2a3f5f"
            },
            "baxis": {
             "endlinecolor": "#2a3f5f",
             "gridcolor": "white",
             "linecolor": "white",
             "minorgridcolor": "white",
             "startlinecolor": "#2a3f5f"
            },
            "type": "carpet"
           }
          ],
          "choropleth": [
           {
            "colorbar": {
             "outlinewidth": 0,
             "ticks": ""
            },
            "type": "choropleth"
           }
          ],
          "contour": [
           {
            "colorbar": {
             "outlinewidth": 0,
             "ticks": ""
            },
            "colorscale": [
             [
              0,
              "#0d0887"
             ],
             [
              0.1111111111111111,
              "#46039f"
             ],
             [
              0.2222222222222222,
              "#7201a8"
             ],
             [
              0.3333333333333333,
              "#9c179e"
             ],
             [
              0.4444444444444444,
              "#bd3786"
             ],
             [
              0.5555555555555556,
              "#d8576b"
             ],
             [
              0.6666666666666666,
              "#ed7953"
             ],
             [
              0.7777777777777778,
              "#fb9f3a"
             ],
             [
              0.8888888888888888,
              "#fdca26"
             ],
             [
              1,
              "#f0f921"
             ]
            ],
            "type": "contour"
           }
          ],
          "contourcarpet": [
           {
            "colorbar": {
             "outlinewidth": 0,
             "ticks": ""
            },
            "type": "contourcarpet"
           }
          ],
          "heatmap": [
           {
            "colorbar": {
             "outlinewidth": 0,
             "ticks": ""
            },
            "colorscale": [
             [
              0,
              "#0d0887"
             ],
             [
              0.1111111111111111,
              "#46039f"
             ],
             [
              0.2222222222222222,
              "#7201a8"
             ],
             [
              0.3333333333333333,
              "#9c179e"
             ],
             [
              0.4444444444444444,
              "#bd3786"
             ],
             [
              0.5555555555555556,
              "#d8576b"
             ],
             [
              0.6666666666666666,
              "#ed7953"
             ],
             [
              0.7777777777777778,
              "#fb9f3a"
             ],
             [
              0.8888888888888888,
              "#fdca26"
             ],
             [
              1,
              "#f0f921"
             ]
            ],
            "type": "heatmap"
           }
          ],
          "heatmapgl": [
           {
            "colorbar": {
             "outlinewidth": 0,
             "ticks": ""
            },
            "colorscale": [
             [
              0,
              "#0d0887"
             ],
             [
              0.1111111111111111,
              "#46039f"
             ],
             [
              0.2222222222222222,
              "#7201a8"
             ],
             [
              0.3333333333333333,
              "#9c179e"
             ],
             [
              0.4444444444444444,
              "#bd3786"
             ],
             [
              0.5555555555555556,
              "#d8576b"
             ],
             [
              0.6666666666666666,
              "#ed7953"
             ],
             [
              0.7777777777777778,
              "#fb9f3a"
             ],
             [
              0.8888888888888888,
              "#fdca26"
             ],
             [
              1,
              "#f0f921"
             ]
            ],
            "type": "heatmapgl"
           }
          ],
          "histogram": [
           {
            "marker": {
             "pattern": {
              "fillmode": "overlay",
              "size": 10,
              "solidity": 0.2
             }
            },
            "type": "histogram"
           }
          ],
          "histogram2d": [
           {
            "colorbar": {
             "outlinewidth": 0,
             "ticks": ""
            },
            "colorscale": [
             [
              0,
              "#0d0887"
             ],
             [
              0.1111111111111111,
              "#46039f"
             ],
             [
              0.2222222222222222,
              "#7201a8"
             ],
             [
              0.3333333333333333,
              "#9c179e"
             ],
             [
              0.4444444444444444,
              "#bd3786"
             ],
             [
              0.5555555555555556,
              "#d8576b"
             ],
             [
              0.6666666666666666,
              "#ed7953"
             ],
             [
              0.7777777777777778,
              "#fb9f3a"
             ],
             [
              0.8888888888888888,
              "#fdca26"
             ],
             [
              1,
              "#f0f921"
             ]
            ],
            "type": "histogram2d"
           }
          ],
          "histogram2dcontour": [
           {
            "colorbar": {
             "outlinewidth": 0,
             "ticks": ""
            },
            "colorscale": [
             [
              0,
              "#0d0887"
             ],
             [
              0.1111111111111111,
              "#46039f"
             ],
             [
              0.2222222222222222,
              "#7201a8"
             ],
             [
              0.3333333333333333,
              "#9c179e"
             ],
             [
              0.4444444444444444,
              "#bd3786"
             ],
             [
              0.5555555555555556,
              "#d8576b"
             ],
             [
              0.6666666666666666,
              "#ed7953"
             ],
             [
              0.7777777777777778,
              "#fb9f3a"
             ],
             [
              0.8888888888888888,
              "#fdca26"
             ],
             [
              1,
              "#f0f921"
             ]
            ],
            "type": "histogram2dcontour"
           }
          ],
          "mesh3d": [
           {
            "colorbar": {
             "outlinewidth": 0,
             "ticks": ""
            },
            "type": "mesh3d"
           }
          ],
          "parcoords": [
           {
            "line": {
             "colorbar": {
              "outlinewidth": 0,
              "ticks": ""
             }
            },
            "type": "parcoords"
           }
          ],
          "pie": [
           {
            "automargin": true,
            "type": "pie"
           }
          ],
          "scatter": [
           {
            "fillpattern": {
             "fillmode": "overlay",
             "size": 10,
             "solidity": 0.2
            },
            "type": "scatter"
           }
          ],
          "scatter3d": [
           {
            "line": {
             "colorbar": {
              "outlinewidth": 0,
              "ticks": ""
             }
            },
            "marker": {
             "colorbar": {
              "outlinewidth": 0,
              "ticks": ""
             }
            },
            "type": "scatter3d"
           }
          ],
          "scattercarpet": [
           {
            "marker": {
             "colorbar": {
              "outlinewidth": 0,
              "ticks": ""
             }
            },
            "type": "scattercarpet"
           }
          ],
          "scattergeo": [
           {
            "marker": {
             "colorbar": {
              "outlinewidth": 0,
              "ticks": ""
             }
            },
            "type": "scattergeo"
           }
          ],
          "scattergl": [
           {
            "marker": {
             "colorbar": {
              "outlinewidth": 0,
              "ticks": ""
             }
            },
            "type": "scattergl"
           }
          ],
          "scattermapbox": [
           {
            "marker": {
             "colorbar": {
              "outlinewidth": 0,
              "ticks": ""
             }
            },
            "type": "scattermapbox"
           }
          ],
          "scatterpolar": [
           {
            "marker": {
             "colorbar": {
              "outlinewidth": 0,
              "ticks": ""
             }
            },
            "type": "scatterpolar"
           }
          ],
          "scatterpolargl": [
           {
            "marker": {
             "colorbar": {
              "outlinewidth": 0,
              "ticks": ""
             }
            },
            "type": "scatterpolargl"
           }
          ],
          "scatterternary": [
           {
            "marker": {
             "colorbar": {
              "outlinewidth": 0,
              "ticks": ""
             }
            },
            "type": "scatterternary"
           }
          ],
          "surface": [
           {
            "colorbar": {
             "outlinewidth": 0,
             "ticks": ""
            },
            "colorscale": [
             [
              0,
              "#0d0887"
             ],
             [
              0.1111111111111111,
              "#46039f"
             ],
             [
              0.2222222222222222,
              "#7201a8"
             ],
             [
              0.3333333333333333,
              "#9c179e"
             ],
             [
              0.4444444444444444,
              "#bd3786"
             ],
             [
              0.5555555555555556,
              "#d8576b"
             ],
             [
              0.6666666666666666,
              "#ed7953"
             ],
             [
              0.7777777777777778,
              "#fb9f3a"
             ],
             [
              0.8888888888888888,
              "#fdca26"
             ],
             [
              1,
              "#f0f921"
             ]
            ],
            "type": "surface"
           }
          ],
          "table": [
           {
            "cells": {
             "fill": {
              "color": "#EBF0F8"
             },
             "line": {
              "color": "white"
             }
            },
            "header": {
             "fill": {
              "color": "#C8D4E3"
             },
             "line": {
              "color": "white"
             }
            },
            "type": "table"
           }
          ]
         },
         "layout": {
          "annotationdefaults": {
           "arrowcolor": "#2a3f5f",
           "arrowhead": 0,
           "arrowwidth": 1
          },
          "autotypenumbers": "strict",
          "coloraxis": {
           "colorbar": {
            "outlinewidth": 0,
            "ticks": ""
           }
          },
          "colorscale": {
           "diverging": [
            [
             0,
             "#8e0152"
            ],
            [
             0.1,
             "#c51b7d"
            ],
            [
             0.2,
             "#de77ae"
            ],
            [
             0.3,
             "#f1b6da"
            ],
            [
             0.4,
             "#fde0ef"
            ],
            [
             0.5,
             "#f7f7f7"
            ],
            [
             0.6,
             "#e6f5d0"
            ],
            [
             0.7,
             "#b8e186"
            ],
            [
             0.8,
             "#7fbc41"
            ],
            [
             0.9,
             "#4d9221"
            ],
            [
             1,
             "#276419"
            ]
           ],
           "sequential": [
            [
             0,
             "#0d0887"
            ],
            [
             0.1111111111111111,
             "#46039f"
            ],
            [
             0.2222222222222222,
             "#7201a8"
            ],
            [
             0.3333333333333333,
             "#9c179e"
            ],
            [
             0.4444444444444444,
             "#bd3786"
            ],
            [
             0.5555555555555556,
             "#d8576b"
            ],
            [
             0.6666666666666666,
             "#ed7953"
            ],
            [
             0.7777777777777778,
             "#fb9f3a"
            ],
            [
             0.8888888888888888,
             "#fdca26"
            ],
            [
             1,
             "#f0f921"
            ]
           ],
           "sequentialminus": [
            [
             0,
             "#0d0887"
            ],
            [
             0.1111111111111111,
             "#46039f"
            ],
            [
             0.2222222222222222,
             "#7201a8"
            ],
            [
             0.3333333333333333,
             "#9c179e"
            ],
            [
             0.4444444444444444,
             "#bd3786"
            ],
            [
             0.5555555555555556,
             "#d8576b"
            ],
            [
             0.6666666666666666,
             "#ed7953"
            ],
            [
             0.7777777777777778,
             "#fb9f3a"
            ],
            [
             0.8888888888888888,
             "#fdca26"
            ],
            [
             1,
             "#f0f921"
            ]
           ]
          },
          "colorway": [
           "#636efa",
           "#EF553B",
           "#00cc96",
           "#ab63fa",
           "#FFA15A",
           "#19d3f3",
           "#FF6692",
           "#B6E880",
           "#FF97FF",
           "#FECB52"
          ],
          "font": {
           "color": "#2a3f5f"
          },
          "geo": {
           "bgcolor": "white",
           "lakecolor": "white",
           "landcolor": "#E5ECF6",
           "showlakes": true,
           "showland": true,
           "subunitcolor": "white"
          },
          "hoverlabel": {
           "align": "left"
          },
          "hovermode": "closest",
          "mapbox": {
           "style": "light"
          },
          "paper_bgcolor": "white",
          "plot_bgcolor": "#E5ECF6",
          "polar": {
           "angularaxis": {
            "gridcolor": "white",
            "linecolor": "white",
            "ticks": ""
           },
           "bgcolor": "#E5ECF6",
           "radialaxis": {
            "gridcolor": "white",
            "linecolor": "white",
            "ticks": ""
           }
          },
          "scene": {
           "xaxis": {
            "backgroundcolor": "#E5ECF6",
            "gridcolor": "white",
            "gridwidth": 2,
            "linecolor": "white",
            "showbackground": true,
            "ticks": "",
            "zerolinecolor": "white"
           },
           "yaxis": {
            "backgroundcolor": "#E5ECF6",
            "gridcolor": "white",
            "gridwidth": 2,
            "linecolor": "white",
            "showbackground": true,
            "ticks": "",
            "zerolinecolor": "white"
           },
           "zaxis": {
            "backgroundcolor": "#E5ECF6",
            "gridcolor": "white",
            "gridwidth": 2,
            "linecolor": "white",
            "showbackground": true,
            "ticks": "",
            "zerolinecolor": "white"
           }
          },
          "shapedefaults": {
           "line": {
            "color": "#2a3f5f"
           }
          },
          "ternary": {
           "aaxis": {
            "gridcolor": "white",
            "linecolor": "white",
            "ticks": ""
           },
           "baxis": {
            "gridcolor": "white",
            "linecolor": "white",
            "ticks": ""
           },
           "bgcolor": "#E5ECF6",
           "caxis": {
            "gridcolor": "white",
            "linecolor": "white",
            "ticks": ""
           }
          },
          "title": {
           "x": 0.05
          },
          "xaxis": {
           "automargin": true,
           "gridcolor": "white",
           "linecolor": "white",
           "ticks": "",
           "title": {
            "standoff": 15
           },
           "zerolinecolor": "white",
           "zerolinewidth": 2
          },
          "yaxis": {
           "automargin": true,
           "gridcolor": "white",
           "linecolor": "white",
           "ticks": "",
           "title": {
            "standoff": 15
           },
           "zerolinecolor": "white",
           "zerolinewidth": 2
          }
         }
        },
        "title": {
         "font": {
          "family": "Courier New",
          "size": 25
         },
         "text": "DPRK Missile Landing Locations",
         "x": 0.5,
         "xanchor": "center"
        },
        "width": 1000
       }
      }
     },
     "metadata": {},
     "output_type": "display_data"
    }
   ],
   "source": [
    "landing_location_counts = df['Landing Location'].value_counts().reset_index()\n",
    "landing_location_counts.columns = ['Location', 'Count']\n",
    "\n",
    "landing_locations = {\n",
    "    'Sea of Japan or East Sea': (39.955235648894956, 134.61977359260942),\n",
    "    'Yellow Sea or West Sea': (37.59154703499678, 124.86670024925259),\n",
    "    'Pacific Ocean': (32.03899252565651, 175.45833648092025),  # Replace with the actual coordinates for 'Pacific Ocean'\n",
    "    '330km east of Hachinohe and 4000 km out into Pacific Ocean': (41.27280362125239, 148.20008702447393),\n",
    "    'Unknown' : (0,0)\n",
    "}\n",
    "\n",
    "df_locations = pd.DataFrame(landing_locations.items(), columns=['Location', 'Coordinates'])\n",
    "df_locations = pd.merge(df_locations, landing_location_counts, on='Location', how='left')\n",
    "df_locations[['Latitude', 'Longitude']] = pd.DataFrame(df_locations['Coordinates'].tolist(), index=df_locations.index)\n",
    "\n",
    "map_fig2 = px.scatter_mapbox(df_locations, lat='Latitude', lon='Longitude', hover_name='Location',\n",
    "                             color='Location', size='Count', size_max=30,  # Adjust the size_max value as needed\n",
    "                             zoom=2.7, center={'lat': 37.10179958267497, 'lon': 149.44271388582095},\n",
    "                             width=1000, height=500, title='DPRK Missile Landing Locations')\n",
    "\n",
    "map_fig2.update_layout(title=dict(x=0.5, xanchor='center'))\n",
    "map_fig2.update_layout(mapbox_style=\"carto-darkmatter\", title_font_size=25, title_font_family=\"Courier New\")\n",
    "map_fig2.update_layout(margin=dict(t=45, l=0, r=0, b=0))  # Set all margins to 0\n",
    "\n",
    "map_fig2.show()"
   ]
  },
  {
   "cell_type": "code",
   "execution_count": 362,
   "metadata": {},
   "outputs": [
    {
     "data": {
      "text/html": [
       "<div>\n",
       "<style scoped>\n",
       "    .dataframe tbody tr th:only-of-type {\n",
       "        vertical-align: middle;\n",
       "    }\n",
       "\n",
       "    .dataframe tbody tr th {\n",
       "        vertical-align: top;\n",
       "    }\n",
       "\n",
       "    .dataframe thead th {\n",
       "        text-align: right;\n",
       "    }\n",
       "</style>\n",
       "<table border=\"1\" class=\"dataframe\">\n",
       "  <thead>\n",
       "    <tr style=\"text-align: right;\">\n",
       "      <th></th>\n",
       "      <th>Location</th>\n",
       "      <th>Coordinates</th>\n",
       "      <th>Count</th>\n",
       "      <th>Latitude</th>\n",
       "      <th>Longitude</th>\n",
       "    </tr>\n",
       "  </thead>\n",
       "  <tbody>\n",
       "    <tr>\n",
       "      <th>0</th>\n",
       "      <td>Sea of Japan or East Sea</td>\n",
       "      <td>(39.955235648894956, 134.61977359260942)</td>\n",
       "      <td>196</td>\n",
       "      <td>39.955236</td>\n",
       "      <td>134.619774</td>\n",
       "    </tr>\n",
       "    <tr>\n",
       "      <th>1</th>\n",
       "      <td>Yellow Sea or West Sea</td>\n",
       "      <td>(37.59154703499678, 124.86670024925259)</td>\n",
       "      <td>10</td>\n",
       "      <td>37.591547</td>\n",
       "      <td>124.866700</td>\n",
       "    </tr>\n",
       "    <tr>\n",
       "      <th>2</th>\n",
       "      <td>Pacific Ocean</td>\n",
       "      <td>(32.03899252565651, 175.45833648092025)</td>\n",
       "      <td>5</td>\n",
       "      <td>32.038993</td>\n",
       "      <td>175.458336</td>\n",
       "    </tr>\n",
       "    <tr>\n",
       "      <th>3</th>\n",
       "      <td>330km east of Hachinohe and 4000 km out into P...</td>\n",
       "      <td>(41.27280362125239, 148.20008702447393)</td>\n",
       "      <td>1</td>\n",
       "      <td>41.272804</td>\n",
       "      <td>148.200087</td>\n",
       "    </tr>\n",
       "    <tr>\n",
       "      <th>4</th>\n",
       "      <td>Unknown</td>\n",
       "      <td>(0, 0)</td>\n",
       "      <td>19</td>\n",
       "      <td>0.000000</td>\n",
       "      <td>0.000000</td>\n",
       "    </tr>\n",
       "  </tbody>\n",
       "</table>\n",
       "</div>"
      ],
      "text/plain": [
       "                                            Location  \\\n",
       "0                           Sea of Japan or East Sea   \n",
       "1                             Yellow Sea or West Sea   \n",
       "2                                      Pacific Ocean   \n",
       "3  330km east of Hachinohe and 4000 km out into P...   \n",
       "4                                            Unknown   \n",
       "\n",
       "                                Coordinates  Count   Latitude   Longitude  \n",
       "0  (39.955235648894956, 134.61977359260942)    196  39.955236  134.619774  \n",
       "1   (37.59154703499678, 124.86670024925259)     10  37.591547  124.866700  \n",
       "2   (32.03899252565651, 175.45833648092025)      5  32.038993  175.458336  \n",
       "3   (41.27280362125239, 148.20008702447393)      1  41.272804  148.200087  \n",
       "4                                    (0, 0)     19   0.000000    0.000000  "
      ]
     },
     "execution_count": 362,
     "metadata": {},
     "output_type": "execute_result"
    }
   ],
   "source": [
    "df_locations.head(10)"
   ]
  },
  {
   "cell_type": "code",
   "execution_count": 24,
   "metadata": {},
   "outputs": [
    {
     "data": {
      "application/vnd.plotly.v1+json": {
       "config": {
        "plotlyServerURL": "https://plot.ly"
       },
       "data": [
        {
         "coloraxis": "coloraxis",
         "hovertemplate": "Count=%{z}<br>Latitude=%{lat}<br>Longitude=%{lon}<extra></extra>",
         "lat": [
          39.955235648894956,
          37.59154703499678,
          32.03899252565651,
          41.27280362125239,
          0
         ],
         "lon": [
          134.61977359260942,
          124.86670024925259,
          175.45833648092025,
          148.20008702447393,
          0
         ],
         "name": "",
         "radius": 35,
         "subplot": "mapbox",
         "type": "densitymapbox",
         "z": [
          196,
          10,
          5,
          1,
          19
         ]
        }
       ],
       "layout": {
        "coloraxis": {
         "colorbar": {
          "title": {
           "text": "Count"
          }
         },
         "colorscale": [
          [
           0,
           "#0d0887"
          ],
          [
           0.1111111111111111,
           "#46039f"
          ],
          [
           0.2222222222222222,
           "#7201a8"
          ],
          [
           0.3333333333333333,
           "#9c179e"
          ],
          [
           0.4444444444444444,
           "#bd3786"
          ],
          [
           0.5555555555555556,
           "#d8576b"
          ],
          [
           0.6666666666666666,
           "#ed7953"
          ],
          [
           0.7777777777777778,
           "#fb9f3a"
          ],
          [
           0.8888888888888888,
           "#fdca26"
          ],
          [
           1,
           "#f0f921"
          ]
         ]
        },
        "height": 500,
        "legend": {
         "tracegroupgap": 0
        },
        "mapbox": {
         "center": {
          "lat": 37.10179958267497,
          "lon": 149.44271388582095
         },
         "domain": {
          "x": [
           0,
           1
          ],
          "y": [
           0,
           1
          ]
         },
         "style": "stamen-terrain",
         "zoom": 2.7
        },
        "margin": {
         "b": 0,
         "l": 0,
         "r": 0,
         "t": 45
        },
        "template": {
         "data": {
          "bar": [
           {
            "error_x": {
             "color": "#2a3f5f"
            },
            "error_y": {
             "color": "#2a3f5f"
            },
            "marker": {
             "line": {
              "color": "#E5ECF6",
              "width": 0.5
             },
             "pattern": {
              "fillmode": "overlay",
              "size": 10,
              "solidity": 0.2
             }
            },
            "type": "bar"
           }
          ],
          "barpolar": [
           {
            "marker": {
             "line": {
              "color": "#E5ECF6",
              "width": 0.5
             },
             "pattern": {
              "fillmode": "overlay",
              "size": 10,
              "solidity": 0.2
             }
            },
            "type": "barpolar"
           }
          ],
          "carpet": [
           {
            "aaxis": {
             "endlinecolor": "#2a3f5f",
             "gridcolor": "white",
             "linecolor": "white",
             "minorgridcolor": "white",
             "startlinecolor": "#2a3f5f"
            },
            "baxis": {
             "endlinecolor": "#2a3f5f",
             "gridcolor": "white",
             "linecolor": "white",
             "minorgridcolor": "white",
             "startlinecolor": "#2a3f5f"
            },
            "type": "carpet"
           }
          ],
          "choropleth": [
           {
            "colorbar": {
             "outlinewidth": 0,
             "ticks": ""
            },
            "type": "choropleth"
           }
          ],
          "contour": [
           {
            "colorbar": {
             "outlinewidth": 0,
             "ticks": ""
            },
            "colorscale": [
             [
              0,
              "#0d0887"
             ],
             [
              0.1111111111111111,
              "#46039f"
             ],
             [
              0.2222222222222222,
              "#7201a8"
             ],
             [
              0.3333333333333333,
              "#9c179e"
             ],
             [
              0.4444444444444444,
              "#bd3786"
             ],
             [
              0.5555555555555556,
              "#d8576b"
             ],
             [
              0.6666666666666666,
              "#ed7953"
             ],
             [
              0.7777777777777778,
              "#fb9f3a"
             ],
             [
              0.8888888888888888,
              "#fdca26"
             ],
             [
              1,
              "#f0f921"
             ]
            ],
            "type": "contour"
           }
          ],
          "contourcarpet": [
           {
            "colorbar": {
             "outlinewidth": 0,
             "ticks": ""
            },
            "type": "contourcarpet"
           }
          ],
          "heatmap": [
           {
            "colorbar": {
             "outlinewidth": 0,
             "ticks": ""
            },
            "colorscale": [
             [
              0,
              "#0d0887"
             ],
             [
              0.1111111111111111,
              "#46039f"
             ],
             [
              0.2222222222222222,
              "#7201a8"
             ],
             [
              0.3333333333333333,
              "#9c179e"
             ],
             [
              0.4444444444444444,
              "#bd3786"
             ],
             [
              0.5555555555555556,
              "#d8576b"
             ],
             [
              0.6666666666666666,
              "#ed7953"
             ],
             [
              0.7777777777777778,
              "#fb9f3a"
             ],
             [
              0.8888888888888888,
              "#fdca26"
             ],
             [
              1,
              "#f0f921"
             ]
            ],
            "type": "heatmap"
           }
          ],
          "heatmapgl": [
           {
            "colorbar": {
             "outlinewidth": 0,
             "ticks": ""
            },
            "colorscale": [
             [
              0,
              "#0d0887"
             ],
             [
              0.1111111111111111,
              "#46039f"
             ],
             [
              0.2222222222222222,
              "#7201a8"
             ],
             [
              0.3333333333333333,
              "#9c179e"
             ],
             [
              0.4444444444444444,
              "#bd3786"
             ],
             [
              0.5555555555555556,
              "#d8576b"
             ],
             [
              0.6666666666666666,
              "#ed7953"
             ],
             [
              0.7777777777777778,
              "#fb9f3a"
             ],
             [
              0.8888888888888888,
              "#fdca26"
             ],
             [
              1,
              "#f0f921"
             ]
            ],
            "type": "heatmapgl"
           }
          ],
          "histogram": [
           {
            "marker": {
             "pattern": {
              "fillmode": "overlay",
              "size": 10,
              "solidity": 0.2
             }
            },
            "type": "histogram"
           }
          ],
          "histogram2d": [
           {
            "colorbar": {
             "outlinewidth": 0,
             "ticks": ""
            },
            "colorscale": [
             [
              0,
              "#0d0887"
             ],
             [
              0.1111111111111111,
              "#46039f"
             ],
             [
              0.2222222222222222,
              "#7201a8"
             ],
             [
              0.3333333333333333,
              "#9c179e"
             ],
             [
              0.4444444444444444,
              "#bd3786"
             ],
             [
              0.5555555555555556,
              "#d8576b"
             ],
             [
              0.6666666666666666,
              "#ed7953"
             ],
             [
              0.7777777777777778,
              "#fb9f3a"
             ],
             [
              0.8888888888888888,
              "#fdca26"
             ],
             [
              1,
              "#f0f921"
             ]
            ],
            "type": "histogram2d"
           }
          ],
          "histogram2dcontour": [
           {
            "colorbar": {
             "outlinewidth": 0,
             "ticks": ""
            },
            "colorscale": [
             [
              0,
              "#0d0887"
             ],
             [
              0.1111111111111111,
              "#46039f"
             ],
             [
              0.2222222222222222,
              "#7201a8"
             ],
             [
              0.3333333333333333,
              "#9c179e"
             ],
             [
              0.4444444444444444,
              "#bd3786"
             ],
             [
              0.5555555555555556,
              "#d8576b"
             ],
             [
              0.6666666666666666,
              "#ed7953"
             ],
             [
              0.7777777777777778,
              "#fb9f3a"
             ],
             [
              0.8888888888888888,
              "#fdca26"
             ],
             [
              1,
              "#f0f921"
             ]
            ],
            "type": "histogram2dcontour"
           }
          ],
          "mesh3d": [
           {
            "colorbar": {
             "outlinewidth": 0,
             "ticks": ""
            },
            "type": "mesh3d"
           }
          ],
          "parcoords": [
           {
            "line": {
             "colorbar": {
              "outlinewidth": 0,
              "ticks": ""
             }
            },
            "type": "parcoords"
           }
          ],
          "pie": [
           {
            "automargin": true,
            "type": "pie"
           }
          ],
          "scatter": [
           {
            "fillpattern": {
             "fillmode": "overlay",
             "size": 10,
             "solidity": 0.2
            },
            "type": "scatter"
           }
          ],
          "scatter3d": [
           {
            "line": {
             "colorbar": {
              "outlinewidth": 0,
              "ticks": ""
             }
            },
            "marker": {
             "colorbar": {
              "outlinewidth": 0,
              "ticks": ""
             }
            },
            "type": "scatter3d"
           }
          ],
          "scattercarpet": [
           {
            "marker": {
             "colorbar": {
              "outlinewidth": 0,
              "ticks": ""
             }
            },
            "type": "scattercarpet"
           }
          ],
          "scattergeo": [
           {
            "marker": {
             "colorbar": {
              "outlinewidth": 0,
              "ticks": ""
             }
            },
            "type": "scattergeo"
           }
          ],
          "scattergl": [
           {
            "marker": {
             "colorbar": {
              "outlinewidth": 0,
              "ticks": ""
             }
            },
            "type": "scattergl"
           }
          ],
          "scattermapbox": [
           {
            "marker": {
             "colorbar": {
              "outlinewidth": 0,
              "ticks": ""
             }
            },
            "type": "scattermapbox"
           }
          ],
          "scatterpolar": [
           {
            "marker": {
             "colorbar": {
              "outlinewidth": 0,
              "ticks": ""
             }
            },
            "type": "scatterpolar"
           }
          ],
          "scatterpolargl": [
           {
            "marker": {
             "colorbar": {
              "outlinewidth": 0,
              "ticks": ""
             }
            },
            "type": "scatterpolargl"
           }
          ],
          "scatterternary": [
           {
            "marker": {
             "colorbar": {
              "outlinewidth": 0,
              "ticks": ""
             }
            },
            "type": "scatterternary"
           }
          ],
          "surface": [
           {
            "colorbar": {
             "outlinewidth": 0,
             "ticks": ""
            },
            "colorscale": [
             [
              0,
              "#0d0887"
             ],
             [
              0.1111111111111111,
              "#46039f"
             ],
             [
              0.2222222222222222,
              "#7201a8"
             ],
             [
              0.3333333333333333,
              "#9c179e"
             ],
             [
              0.4444444444444444,
              "#bd3786"
             ],
             [
              0.5555555555555556,
              "#d8576b"
             ],
             [
              0.6666666666666666,
              "#ed7953"
             ],
             [
              0.7777777777777778,
              "#fb9f3a"
             ],
             [
              0.8888888888888888,
              "#fdca26"
             ],
             [
              1,
              "#f0f921"
             ]
            ],
            "type": "surface"
           }
          ],
          "table": [
           {
            "cells": {
             "fill": {
              "color": "#EBF0F8"
             },
             "line": {
              "color": "white"
             }
            },
            "header": {
             "fill": {
              "color": "#C8D4E3"
             },
             "line": {
              "color": "white"
             }
            },
            "type": "table"
           }
          ]
         },
         "layout": {
          "annotationdefaults": {
           "arrowcolor": "#2a3f5f",
           "arrowhead": 0,
           "arrowwidth": 1
          },
          "autotypenumbers": "strict",
          "coloraxis": {
           "colorbar": {
            "outlinewidth": 0,
            "ticks": ""
           }
          },
          "colorscale": {
           "diverging": [
            [
             0,
             "#8e0152"
            ],
            [
             0.1,
             "#c51b7d"
            ],
            [
             0.2,
             "#de77ae"
            ],
            [
             0.3,
             "#f1b6da"
            ],
            [
             0.4,
             "#fde0ef"
            ],
            [
             0.5,
             "#f7f7f7"
            ],
            [
             0.6,
             "#e6f5d0"
            ],
            [
             0.7,
             "#b8e186"
            ],
            [
             0.8,
             "#7fbc41"
            ],
            [
             0.9,
             "#4d9221"
            ],
            [
             1,
             "#276419"
            ]
           ],
           "sequential": [
            [
             0,
             "#0d0887"
            ],
            [
             0.1111111111111111,
             "#46039f"
            ],
            [
             0.2222222222222222,
             "#7201a8"
            ],
            [
             0.3333333333333333,
             "#9c179e"
            ],
            [
             0.4444444444444444,
             "#bd3786"
            ],
            [
             0.5555555555555556,
             "#d8576b"
            ],
            [
             0.6666666666666666,
             "#ed7953"
            ],
            [
             0.7777777777777778,
             "#fb9f3a"
            ],
            [
             0.8888888888888888,
             "#fdca26"
            ],
            [
             1,
             "#f0f921"
            ]
           ],
           "sequentialminus": [
            [
             0,
             "#0d0887"
            ],
            [
             0.1111111111111111,
             "#46039f"
            ],
            [
             0.2222222222222222,
             "#7201a8"
            ],
            [
             0.3333333333333333,
             "#9c179e"
            ],
            [
             0.4444444444444444,
             "#bd3786"
            ],
            [
             0.5555555555555556,
             "#d8576b"
            ],
            [
             0.6666666666666666,
             "#ed7953"
            ],
            [
             0.7777777777777778,
             "#fb9f3a"
            ],
            [
             0.8888888888888888,
             "#fdca26"
            ],
            [
             1,
             "#f0f921"
            ]
           ]
          },
          "colorway": [
           "#636efa",
           "#EF553B",
           "#00cc96",
           "#ab63fa",
           "#FFA15A",
           "#19d3f3",
           "#FF6692",
           "#B6E880",
           "#FF97FF",
           "#FECB52"
          ],
          "font": {
           "color": "#2a3f5f"
          },
          "geo": {
           "bgcolor": "white",
           "lakecolor": "white",
           "landcolor": "#E5ECF6",
           "showlakes": true,
           "showland": true,
           "subunitcolor": "white"
          },
          "hoverlabel": {
           "align": "left"
          },
          "hovermode": "closest",
          "mapbox": {
           "style": "light"
          },
          "paper_bgcolor": "white",
          "plot_bgcolor": "#E5ECF6",
          "polar": {
           "angularaxis": {
            "gridcolor": "white",
            "linecolor": "white",
            "ticks": ""
           },
           "bgcolor": "#E5ECF6",
           "radialaxis": {
            "gridcolor": "white",
            "linecolor": "white",
            "ticks": ""
           }
          },
          "scene": {
           "xaxis": {
            "backgroundcolor": "#E5ECF6",
            "gridcolor": "white",
            "gridwidth": 2,
            "linecolor": "white",
            "showbackground": true,
            "ticks": "",
            "zerolinecolor": "white"
           },
           "yaxis": {
            "backgroundcolor": "#E5ECF6",
            "gridcolor": "white",
            "gridwidth": 2,
            "linecolor": "white",
            "showbackground": true,
            "ticks": "",
            "zerolinecolor": "white"
           },
           "zaxis": {
            "backgroundcolor": "#E5ECF6",
            "gridcolor": "white",
            "gridwidth": 2,
            "linecolor": "white",
            "showbackground": true,
            "ticks": "",
            "zerolinecolor": "white"
           }
          },
          "shapedefaults": {
           "line": {
            "color": "#2a3f5f"
           }
          },
          "ternary": {
           "aaxis": {
            "gridcolor": "white",
            "linecolor": "white",
            "ticks": ""
           },
           "baxis": {
            "gridcolor": "white",
            "linecolor": "white",
            "ticks": ""
           },
           "bgcolor": "#E5ECF6",
           "caxis": {
            "gridcolor": "white",
            "linecolor": "white",
            "ticks": ""
           }
          },
          "title": {
           "x": 0.05
          },
          "xaxis": {
           "automargin": true,
           "gridcolor": "white",
           "linecolor": "white",
           "ticks": "",
           "title": {
            "standoff": 15
           },
           "zerolinecolor": "white",
           "zerolinewidth": 2
          },
          "yaxis": {
           "automargin": true,
           "gridcolor": "white",
           "linecolor": "white",
           "ticks": "",
           "title": {
            "standoff": 15
           },
           "zerolinecolor": "white",
           "zerolinewidth": 2
          }
         }
        },
        "title": {
         "text": "DPRK Missile Landing Locations Heatmap",
         "x": 0.5,
         "xanchor": "center"
        },
        "width": 1000
       }
      }
     },
     "metadata": {},
     "output_type": "display_data"
    }
   ],
   "source": [
    "# Creating new columns\n",
    "landing_location_counts = df['Landing Location'].value_counts().reset_index()\n",
    "landing_location_counts.columns = ['Location', 'Count']\n",
    "# Define the list of landing locations - Grid coordinances are from Google Maps.\n",
    "landing_locations = {\n",
    "    'Sea of Japan or East Sea': (39.955235648894956, 134.61977359260942),\n",
    "    'Yellow Sea or West Sea': (37.59154703499678, 124.86670024925259),\n",
    "    'Pacific Ocean': (32.03899252565651, 175.45833648092025), \n",
    "    '330km east of Hachinohe and 4000 km out into Pacific Ocean': (41.27280362125239, 148.20008702447393),\n",
    "    'Unknown': (0, 0)\n",
    "}\n",
    "# making a new dataframe for specifically this map. Columns includes Location, Cordinates (where to plot), Count, Lat/Lon.\n",
    "df_locations = pd.DataFrame(landing_locations.items(), columns=['Location', 'Coordinates'])\n",
    "df_locations = pd.merge(df_locations, landing_location_counts, on='Location', how='left')\n",
    "df_locations[['Latitude', 'Longitude']] = pd.DataFrame(df_locations['Coordinates'].tolist(), index=df_locations.index)\n",
    "\n",
    "# Now, create a map\n",
    "fig = px.density_mapbox(df_locations, lat='Latitude', lon='Longitude', z='Count',\n",
    "                        radius=35, center={'lat': 37.10179958267497, 'lon': 149.44271388582095},\n",
    "                        zoom=2.7, mapbox_style=\"stamen-terrain\", width=1000, height=500,\n",
    "                        title='DPRK Missile Landing Locations Heatmap')\n",
    "\n",
    "fig.update_layout(title=dict(x=0.5, xanchor='center'))\n",
    "fig.update_layout(coloraxis_colorbar=dict(title='Count'))\n",
    "fig.update_layout(margin=dict(t=45, l=0, r=0, b=0))  # Set all margins to 0\n",
    "\n",
    "fig.show()"
   ]
  },
  {
   "cell_type": "code",
   "execution_count": 25,
   "metadata": {},
   "outputs": [
    {
     "data": {
      "application/vnd.plotly.v1+json": {
       "config": {
        "plotlyServerURL": "https://plot.ly"
       },
       "data": [
        {
         "coloraxis": "coloraxis",
         "hovertemplate": "Count: %{z}<extra></extra>",
         "lat": [
          39.955235648894956,
          37.59154703499678,
          32.03899252565651,
          41.27280362125239,
          0
         ],
         "lon": [
          134.61977359260942,
          124.86670024925259,
          175.45833648092025,
          148.20008702447393,
          0
         ],
         "name": "",
         "radius": 50,
         "subplot": "mapbox",
         "type": "densitymapbox",
         "z": [
          196,
          10,
          5,
          1,
          19
         ],
         "zmid": 0,
         "zmin": 0
        }
       ],
       "layout": {
        "coloraxis": {
         "colorbar": {
          "title": {
           "text": "Count"
          }
         },
         "colorscale": [
          [
           0,
           "#0d0887"
          ],
          [
           0.1111111111111111,
           "#46039f"
          ],
          [
           0.2222222222222222,
           "#7201a8"
          ],
          [
           0.3333333333333333,
           "#9c179e"
          ],
          [
           0.4444444444444444,
           "#bd3786"
          ],
          [
           0.5555555555555556,
           "#d8576b"
          ],
          [
           0.6666666666666666,
           "#ed7953"
          ],
          [
           0.7777777777777778,
           "#fb9f3a"
          ],
          [
           0.8888888888888888,
           "#fdca26"
          ],
          [
           1,
           "#f0f921"
          ]
         ]
        },
        "height": 500,
        "legend": {
         "tracegroupgap": 0
        },
        "mapbox": {
         "center": {
          "lat": 37.10179958267497,
          "lon": 149.44271388582095
         },
         "domain": {
          "x": [
           0,
           1
          ],
          "y": [
           0,
           1
          ]
         },
         "style": "stamen-terrain",
         "zoom": 2.7
        },
        "margin": {
         "b": 0,
         "l": 0,
         "r": 0,
         "t": 45
        },
        "template": {
         "data": {
          "bar": [
           {
            "error_x": {
             "color": "#2a3f5f"
            },
            "error_y": {
             "color": "#2a3f5f"
            },
            "marker": {
             "line": {
              "color": "#E5ECF6",
              "width": 0.5
             },
             "pattern": {
              "fillmode": "overlay",
              "size": 10,
              "solidity": 0.2
             }
            },
            "type": "bar"
           }
          ],
          "barpolar": [
           {
            "marker": {
             "line": {
              "color": "#E5ECF6",
              "width": 0.5
             },
             "pattern": {
              "fillmode": "overlay",
              "size": 10,
              "solidity": 0.2
             }
            },
            "type": "barpolar"
           }
          ],
          "carpet": [
           {
            "aaxis": {
             "endlinecolor": "#2a3f5f",
             "gridcolor": "white",
             "linecolor": "white",
             "minorgridcolor": "white",
             "startlinecolor": "#2a3f5f"
            },
            "baxis": {
             "endlinecolor": "#2a3f5f",
             "gridcolor": "white",
             "linecolor": "white",
             "minorgridcolor": "white",
             "startlinecolor": "#2a3f5f"
            },
            "type": "carpet"
           }
          ],
          "choropleth": [
           {
            "colorbar": {
             "outlinewidth": 0,
             "ticks": ""
            },
            "type": "choropleth"
           }
          ],
          "contour": [
           {
            "colorbar": {
             "outlinewidth": 0,
             "ticks": ""
            },
            "colorscale": [
             [
              0,
              "#0d0887"
             ],
             [
              0.1111111111111111,
              "#46039f"
             ],
             [
              0.2222222222222222,
              "#7201a8"
             ],
             [
              0.3333333333333333,
              "#9c179e"
             ],
             [
              0.4444444444444444,
              "#bd3786"
             ],
             [
              0.5555555555555556,
              "#d8576b"
             ],
             [
              0.6666666666666666,
              "#ed7953"
             ],
             [
              0.7777777777777778,
              "#fb9f3a"
             ],
             [
              0.8888888888888888,
              "#fdca26"
             ],
             [
              1,
              "#f0f921"
             ]
            ],
            "type": "contour"
           }
          ],
          "contourcarpet": [
           {
            "colorbar": {
             "outlinewidth": 0,
             "ticks": ""
            },
            "type": "contourcarpet"
           }
          ],
          "heatmap": [
           {
            "colorbar": {
             "outlinewidth": 0,
             "ticks": ""
            },
            "colorscale": [
             [
              0,
              "#0d0887"
             ],
             [
              0.1111111111111111,
              "#46039f"
             ],
             [
              0.2222222222222222,
              "#7201a8"
             ],
             [
              0.3333333333333333,
              "#9c179e"
             ],
             [
              0.4444444444444444,
              "#bd3786"
             ],
             [
              0.5555555555555556,
              "#d8576b"
             ],
             [
              0.6666666666666666,
              "#ed7953"
             ],
             [
              0.7777777777777778,
              "#fb9f3a"
             ],
             [
              0.8888888888888888,
              "#fdca26"
             ],
             [
              1,
              "#f0f921"
             ]
            ],
            "type": "heatmap"
           }
          ],
          "heatmapgl": [
           {
            "colorbar": {
             "outlinewidth": 0,
             "ticks": ""
            },
            "colorscale": [
             [
              0,
              "#0d0887"
             ],
             [
              0.1111111111111111,
              "#46039f"
             ],
             [
              0.2222222222222222,
              "#7201a8"
             ],
             [
              0.3333333333333333,
              "#9c179e"
             ],
             [
              0.4444444444444444,
              "#bd3786"
             ],
             [
              0.5555555555555556,
              "#d8576b"
             ],
             [
              0.6666666666666666,
              "#ed7953"
             ],
             [
              0.7777777777777778,
              "#fb9f3a"
             ],
             [
              0.8888888888888888,
              "#fdca26"
             ],
             [
              1,
              "#f0f921"
             ]
            ],
            "type": "heatmapgl"
           }
          ],
          "histogram": [
           {
            "marker": {
             "pattern": {
              "fillmode": "overlay",
              "size": 10,
              "solidity": 0.2
             }
            },
            "type": "histogram"
           }
          ],
          "histogram2d": [
           {
            "colorbar": {
             "outlinewidth": 0,
             "ticks": ""
            },
            "colorscale": [
             [
              0,
              "#0d0887"
             ],
             [
              0.1111111111111111,
              "#46039f"
             ],
             [
              0.2222222222222222,
              "#7201a8"
             ],
             [
              0.3333333333333333,
              "#9c179e"
             ],
             [
              0.4444444444444444,
              "#bd3786"
             ],
             [
              0.5555555555555556,
              "#d8576b"
             ],
             [
              0.6666666666666666,
              "#ed7953"
             ],
             [
              0.7777777777777778,
              "#fb9f3a"
             ],
             [
              0.8888888888888888,
              "#fdca26"
             ],
             [
              1,
              "#f0f921"
             ]
            ],
            "type": "histogram2d"
           }
          ],
          "histogram2dcontour": [
           {
            "colorbar": {
             "outlinewidth": 0,
             "ticks": ""
            },
            "colorscale": [
             [
              0,
              "#0d0887"
             ],
             [
              0.1111111111111111,
              "#46039f"
             ],
             [
              0.2222222222222222,
              "#7201a8"
             ],
             [
              0.3333333333333333,
              "#9c179e"
             ],
             [
              0.4444444444444444,
              "#bd3786"
             ],
             [
              0.5555555555555556,
              "#d8576b"
             ],
             [
              0.6666666666666666,
              "#ed7953"
             ],
             [
              0.7777777777777778,
              "#fb9f3a"
             ],
             [
              0.8888888888888888,
              "#fdca26"
             ],
             [
              1,
              "#f0f921"
             ]
            ],
            "type": "histogram2dcontour"
           }
          ],
          "mesh3d": [
           {
            "colorbar": {
             "outlinewidth": 0,
             "ticks": ""
            },
            "type": "mesh3d"
           }
          ],
          "parcoords": [
           {
            "line": {
             "colorbar": {
              "outlinewidth": 0,
              "ticks": ""
             }
            },
            "type": "parcoords"
           }
          ],
          "pie": [
           {
            "automargin": true,
            "type": "pie"
           }
          ],
          "scatter": [
           {
            "fillpattern": {
             "fillmode": "overlay",
             "size": 10,
             "solidity": 0.2
            },
            "type": "scatter"
           }
          ],
          "scatter3d": [
           {
            "line": {
             "colorbar": {
              "outlinewidth": 0,
              "ticks": ""
             }
            },
            "marker": {
             "colorbar": {
              "outlinewidth": 0,
              "ticks": ""
             }
            },
            "type": "scatter3d"
           }
          ],
          "scattercarpet": [
           {
            "marker": {
             "colorbar": {
              "outlinewidth": 0,
              "ticks": ""
             }
            },
            "type": "scattercarpet"
           }
          ],
          "scattergeo": [
           {
            "marker": {
             "colorbar": {
              "outlinewidth": 0,
              "ticks": ""
             }
            },
            "type": "scattergeo"
           }
          ],
          "scattergl": [
           {
            "marker": {
             "colorbar": {
              "outlinewidth": 0,
              "ticks": ""
             }
            },
            "type": "scattergl"
           }
          ],
          "scattermapbox": [
           {
            "marker": {
             "colorbar": {
              "outlinewidth": 0,
              "ticks": ""
             }
            },
            "type": "scattermapbox"
           }
          ],
          "scatterpolar": [
           {
            "marker": {
             "colorbar": {
              "outlinewidth": 0,
              "ticks": ""
             }
            },
            "type": "scatterpolar"
           }
          ],
          "scatterpolargl": [
           {
            "marker": {
             "colorbar": {
              "outlinewidth": 0,
              "ticks": ""
             }
            },
            "type": "scatterpolargl"
           }
          ],
          "scatterternary": [
           {
            "marker": {
             "colorbar": {
              "outlinewidth": 0,
              "ticks": ""
             }
            },
            "type": "scatterternary"
           }
          ],
          "surface": [
           {
            "colorbar": {
             "outlinewidth": 0,
             "ticks": ""
            },
            "colorscale": [
             [
              0,
              "#0d0887"
             ],
             [
              0.1111111111111111,
              "#46039f"
             ],
             [
              0.2222222222222222,
              "#7201a8"
             ],
             [
              0.3333333333333333,
              "#9c179e"
             ],
             [
              0.4444444444444444,
              "#bd3786"
             ],
             [
              0.5555555555555556,
              "#d8576b"
             ],
             [
              0.6666666666666666,
              "#ed7953"
             ],
             [
              0.7777777777777778,
              "#fb9f3a"
             ],
             [
              0.8888888888888888,
              "#fdca26"
             ],
             [
              1,
              "#f0f921"
             ]
            ],
            "type": "surface"
           }
          ],
          "table": [
           {
            "cells": {
             "fill": {
              "color": "#EBF0F8"
             },
             "line": {
              "color": "white"
             }
            },
            "header": {
             "fill": {
              "color": "#C8D4E3"
             },
             "line": {
              "color": "white"
             }
            },
            "type": "table"
           }
          ]
         },
         "layout": {
          "annotationdefaults": {
           "arrowcolor": "#2a3f5f",
           "arrowhead": 0,
           "arrowwidth": 1
          },
          "autotypenumbers": "strict",
          "coloraxis": {
           "colorbar": {
            "outlinewidth": 0,
            "ticks": ""
           }
          },
          "colorscale": {
           "diverging": [
            [
             0,
             "#8e0152"
            ],
            [
             0.1,
             "#c51b7d"
            ],
            [
             0.2,
             "#de77ae"
            ],
            [
             0.3,
             "#f1b6da"
            ],
            [
             0.4,
             "#fde0ef"
            ],
            [
             0.5,
             "#f7f7f7"
            ],
            [
             0.6,
             "#e6f5d0"
            ],
            [
             0.7,
             "#b8e186"
            ],
            [
             0.8,
             "#7fbc41"
            ],
            [
             0.9,
             "#4d9221"
            ],
            [
             1,
             "#276419"
            ]
           ],
           "sequential": [
            [
             0,
             "#0d0887"
            ],
            [
             0.1111111111111111,
             "#46039f"
            ],
            [
             0.2222222222222222,
             "#7201a8"
            ],
            [
             0.3333333333333333,
             "#9c179e"
            ],
            [
             0.4444444444444444,
             "#bd3786"
            ],
            [
             0.5555555555555556,
             "#d8576b"
            ],
            [
             0.6666666666666666,
             "#ed7953"
            ],
            [
             0.7777777777777778,
             "#fb9f3a"
            ],
            [
             0.8888888888888888,
             "#fdca26"
            ],
            [
             1,
             "#f0f921"
            ]
           ],
           "sequentialminus": [
            [
             0,
             "#0d0887"
            ],
            [
             0.1111111111111111,
             "#46039f"
            ],
            [
             0.2222222222222222,
             "#7201a8"
            ],
            [
             0.3333333333333333,
             "#9c179e"
            ],
            [
             0.4444444444444444,
             "#bd3786"
            ],
            [
             0.5555555555555556,
             "#d8576b"
            ],
            [
             0.6666666666666666,
             "#ed7953"
            ],
            [
             0.7777777777777778,
             "#fb9f3a"
            ],
            [
             0.8888888888888888,
             "#fdca26"
            ],
            [
             1,
             "#f0f921"
            ]
           ]
          },
          "colorway": [
           "#636efa",
           "#EF553B",
           "#00cc96",
           "#ab63fa",
           "#FFA15A",
           "#19d3f3",
           "#FF6692",
           "#B6E880",
           "#FF97FF",
           "#FECB52"
          ],
          "font": {
           "color": "#2a3f5f"
          },
          "geo": {
           "bgcolor": "white",
           "lakecolor": "white",
           "landcolor": "#E5ECF6",
           "showlakes": true,
           "showland": true,
           "subunitcolor": "white"
          },
          "hoverlabel": {
           "align": "left"
          },
          "hovermode": "closest",
          "mapbox": {
           "style": "light"
          },
          "paper_bgcolor": "white",
          "plot_bgcolor": "#E5ECF6",
          "polar": {
           "angularaxis": {
            "gridcolor": "white",
            "linecolor": "white",
            "ticks": ""
           },
           "bgcolor": "#E5ECF6",
           "radialaxis": {
            "gridcolor": "white",
            "linecolor": "white",
            "ticks": ""
           }
          },
          "scene": {
           "xaxis": {
            "backgroundcolor": "#E5ECF6",
            "gridcolor": "white",
            "gridwidth": 2,
            "linecolor": "white",
            "showbackground": true,
            "ticks": "",
            "zerolinecolor": "white"
           },
           "yaxis": {
            "backgroundcolor": "#E5ECF6",
            "gridcolor": "white",
            "gridwidth": 2,
            "linecolor": "white",
            "showbackground": true,
            "ticks": "",
            "zerolinecolor": "white"
           },
           "zaxis": {
            "backgroundcolor": "#E5ECF6",
            "gridcolor": "white",
            "gridwidth": 2,
            "linecolor": "white",
            "showbackground": true,
            "ticks": "",
            "zerolinecolor": "white"
           }
          },
          "shapedefaults": {
           "line": {
            "color": "#2a3f5f"
           }
          },
          "ternary": {
           "aaxis": {
            "gridcolor": "white",
            "linecolor": "white",
            "ticks": ""
           },
           "baxis": {
            "gridcolor": "white",
            "linecolor": "white",
            "ticks": ""
           },
           "bgcolor": "#E5ECF6",
           "caxis": {
            "gridcolor": "white",
            "linecolor": "white",
            "ticks": ""
           }
          },
          "title": {
           "x": 0.05
          },
          "xaxis": {
           "automargin": true,
           "gridcolor": "white",
           "linecolor": "white",
           "ticks": "",
           "title": {
            "standoff": 15
           },
           "zerolinecolor": "white",
           "zerolinewidth": 2
          },
          "yaxis": {
           "automargin": true,
           "gridcolor": "white",
           "linecolor": "white",
           "ticks": "",
           "title": {
            "standoff": 15
           },
           "zerolinecolor": "white",
           "zerolinewidth": 2
          }
         }
        },
        "title": {
         "text": "DPRK Missile Landing Locations Heatmap",
         "x": 0.5,
         "xanchor": "center"
        },
        "width": 1000
       }
      }
     },
     "metadata": {},
     "output_type": "display_data"
    }
   ],
   "source": [
    "import plotly.express as px\n",
    "\n",
    "landing_location_counts = df['Landing Location'].value_counts().reset_index()\n",
    "landing_location_counts.columns = ['Location', 'Count']\n",
    "\n",
    "landing_locations = {\n",
    "    'Sea of Japan or East Sea': (39.955235648894956, 134.61977359260942),\n",
    "    'Yellow Sea or West Sea': (37.59154703499678, 124.86670024925259),\n",
    "    'Pacific Ocean': (32.03899252565651, 175.45833648092025),\n",
    "    '330km east of Hachinohe and 4000 km out into Pacific Ocean': (41.27280362125239, 148.20008702447393),\n",
    "    'Unknown': (0, 0)\n",
    "}\n",
    "\n",
    "df_locations = pd.DataFrame(landing_locations.items(), columns=['Location', 'Coordinates'])\n",
    "df_locations = pd.merge(df_locations, landing_location_counts, on='Location', how='left')\n",
    "df_locations[['Latitude', 'Longitude']] = pd.DataFrame(df_locations['Coordinates'].tolist(), index=df_locations.index)\n",
    "\n",
    "fig = px.density_mapbox(df_locations, lat='Latitude', lon='Longitude', z='Count',\n",
    "                        radius=50, center={'lat': 37.10179958267497, 'lon': 149.44271388582095},\n",
    "                        zoom=2.7, mapbox_style=\"stamen-terrain\", width=1000, height=500,\n",
    "                        title='DPRK Missile Landing Locations Heatmap')\n",
    "\n",
    "fig.update_layout(title=dict(x=0.5, xanchor='center'))\n",
    "fig.update_layout(coloraxis_colorbar=dict(title='Count'))\n",
    "fig.update_layout(margin=dict(t=45, l=0, r=0, b=0))  # Set all margins to 0\n",
    "\n",
    "# Adjust the color scale for better visibility of small numbers\n",
    "fig.update_traces(zmid=0)  # Set the midpoint of the color scale to 0\n",
    "fig.update_traces(zmin=0, hovertemplate=\"Count: %{z}<extra></extra>\")  # Set the minimum value to 1\n",
    "\n",
    "fig.show()\n"
   ]
  },
  {
   "cell_type": "code",
   "execution_count": 26,
   "metadata": {},
   "outputs": [
    {
     "data": {
      "application/vnd.plotly.v1+json": {
       "config": {
        "plotlyServerURL": "https://plot.ly"
       },
       "data": [
        {
         "coloraxis": "coloraxis",
         "colorscale": [
          [
           0,
           "rgb(255, 0, 0)"
          ],
          [
           1,
           "rgb(0, 0, 255)"
          ]
         ],
         "hovertemplate": "Count: %{z}<extra></extra>",
         "lat": [
          39.955235648894956,
          37.59154703499678,
          32.03899252565651,
          41.27280362125239
         ],
         "lon": [
          134.61977359260942,
          124.86670024925259,
          175.45833648092025,
          148.20008702447393
         ],
         "name": "",
         "radius": 40,
         "subplot": "mapbox",
         "type": "densitymapbox",
         "z": [
          196,
          10,
          5,
          1
         ],
         "zmid": 90,
         "zmin": 0
        }
       ],
       "layout": {
        "coloraxis": {
         "colorbar": {
          "title": {
           "text": "Count"
          }
         },
         "colorscale": [
          [
           0,
           "#0d0887"
          ],
          [
           0.1111111111111111,
           "#46039f"
          ],
          [
           0.2222222222222222,
           "#7201a8"
          ],
          [
           0.3333333333333333,
           "#9c179e"
          ],
          [
           0.4444444444444444,
           "#bd3786"
          ],
          [
           0.5555555555555556,
           "#d8576b"
          ],
          [
           0.6666666666666666,
           "#ed7953"
          ],
          [
           0.7777777777777778,
           "#fb9f3a"
          ],
          [
           0.8888888888888888,
           "#fdca26"
          ],
          [
           1,
           "#f0f921"
          ]
         ]
        },
        "height": 600,
        "legend": {
         "tracegroupgap": 0
        },
        "mapbox": {
         "center": {
          "lat": 37.10179958267497,
          "lon": 149.44271388582095
         },
         "domain": {
          "x": [
           0,
           1
          ],
          "y": [
           0,
           1
          ]
         },
         "style": "carto-darkmatter",
         "zoom": 2.7
        },
        "margin": {
         "b": 0,
         "l": 0,
         "r": 0,
         "t": 45
        },
        "template": {
         "data": {
          "bar": [
           {
            "error_x": {
             "color": "#2a3f5f"
            },
            "error_y": {
             "color": "#2a3f5f"
            },
            "marker": {
             "line": {
              "color": "#E5ECF6",
              "width": 0.5
             },
             "pattern": {
              "fillmode": "overlay",
              "size": 10,
              "solidity": 0.2
             }
            },
            "type": "bar"
           }
          ],
          "barpolar": [
           {
            "marker": {
             "line": {
              "color": "#E5ECF6",
              "width": 0.5
             },
             "pattern": {
              "fillmode": "overlay",
              "size": 10,
              "solidity": 0.2
             }
            },
            "type": "barpolar"
           }
          ],
          "carpet": [
           {
            "aaxis": {
             "endlinecolor": "#2a3f5f",
             "gridcolor": "white",
             "linecolor": "white",
             "minorgridcolor": "white",
             "startlinecolor": "#2a3f5f"
            },
            "baxis": {
             "endlinecolor": "#2a3f5f",
             "gridcolor": "white",
             "linecolor": "white",
             "minorgridcolor": "white",
             "startlinecolor": "#2a3f5f"
            },
            "type": "carpet"
           }
          ],
          "choropleth": [
           {
            "colorbar": {
             "outlinewidth": 0,
             "ticks": ""
            },
            "type": "choropleth"
           }
          ],
          "contour": [
           {
            "colorbar": {
             "outlinewidth": 0,
             "ticks": ""
            },
            "colorscale": [
             [
              0,
              "#0d0887"
             ],
             [
              0.1111111111111111,
              "#46039f"
             ],
             [
              0.2222222222222222,
              "#7201a8"
             ],
             [
              0.3333333333333333,
              "#9c179e"
             ],
             [
              0.4444444444444444,
              "#bd3786"
             ],
             [
              0.5555555555555556,
              "#d8576b"
             ],
             [
              0.6666666666666666,
              "#ed7953"
             ],
             [
              0.7777777777777778,
              "#fb9f3a"
             ],
             [
              0.8888888888888888,
              "#fdca26"
             ],
             [
              1,
              "#f0f921"
             ]
            ],
            "type": "contour"
           }
          ],
          "contourcarpet": [
           {
            "colorbar": {
             "outlinewidth": 0,
             "ticks": ""
            },
            "type": "contourcarpet"
           }
          ],
          "heatmap": [
           {
            "colorbar": {
             "outlinewidth": 0,
             "ticks": ""
            },
            "colorscale": [
             [
              0,
              "#0d0887"
             ],
             [
              0.1111111111111111,
              "#46039f"
             ],
             [
              0.2222222222222222,
              "#7201a8"
             ],
             [
              0.3333333333333333,
              "#9c179e"
             ],
             [
              0.4444444444444444,
              "#bd3786"
             ],
             [
              0.5555555555555556,
              "#d8576b"
             ],
             [
              0.6666666666666666,
              "#ed7953"
             ],
             [
              0.7777777777777778,
              "#fb9f3a"
             ],
             [
              0.8888888888888888,
              "#fdca26"
             ],
             [
              1,
              "#f0f921"
             ]
            ],
            "type": "heatmap"
           }
          ],
          "heatmapgl": [
           {
            "colorbar": {
             "outlinewidth": 0,
             "ticks": ""
            },
            "colorscale": [
             [
              0,
              "#0d0887"
             ],
             [
              0.1111111111111111,
              "#46039f"
             ],
             [
              0.2222222222222222,
              "#7201a8"
             ],
             [
              0.3333333333333333,
              "#9c179e"
             ],
             [
              0.4444444444444444,
              "#bd3786"
             ],
             [
              0.5555555555555556,
              "#d8576b"
             ],
             [
              0.6666666666666666,
              "#ed7953"
             ],
             [
              0.7777777777777778,
              "#fb9f3a"
             ],
             [
              0.8888888888888888,
              "#fdca26"
             ],
             [
              1,
              "#f0f921"
             ]
            ],
            "type": "heatmapgl"
           }
          ],
          "histogram": [
           {
            "marker": {
             "pattern": {
              "fillmode": "overlay",
              "size": 10,
              "solidity": 0.2
             }
            },
            "type": "histogram"
           }
          ],
          "histogram2d": [
           {
            "colorbar": {
             "outlinewidth": 0,
             "ticks": ""
            },
            "colorscale": [
             [
              0,
              "#0d0887"
             ],
             [
              0.1111111111111111,
              "#46039f"
             ],
             [
              0.2222222222222222,
              "#7201a8"
             ],
             [
              0.3333333333333333,
              "#9c179e"
             ],
             [
              0.4444444444444444,
              "#bd3786"
             ],
             [
              0.5555555555555556,
              "#d8576b"
             ],
             [
              0.6666666666666666,
              "#ed7953"
             ],
             [
              0.7777777777777778,
              "#fb9f3a"
             ],
             [
              0.8888888888888888,
              "#fdca26"
             ],
             [
              1,
              "#f0f921"
             ]
            ],
            "type": "histogram2d"
           }
          ],
          "histogram2dcontour": [
           {
            "colorbar": {
             "outlinewidth": 0,
             "ticks": ""
            },
            "colorscale": [
             [
              0,
              "#0d0887"
             ],
             [
              0.1111111111111111,
              "#46039f"
             ],
             [
              0.2222222222222222,
              "#7201a8"
             ],
             [
              0.3333333333333333,
              "#9c179e"
             ],
             [
              0.4444444444444444,
              "#bd3786"
             ],
             [
              0.5555555555555556,
              "#d8576b"
             ],
             [
              0.6666666666666666,
              "#ed7953"
             ],
             [
              0.7777777777777778,
              "#fb9f3a"
             ],
             [
              0.8888888888888888,
              "#fdca26"
             ],
             [
              1,
              "#f0f921"
             ]
            ],
            "type": "histogram2dcontour"
           }
          ],
          "mesh3d": [
           {
            "colorbar": {
             "outlinewidth": 0,
             "ticks": ""
            },
            "type": "mesh3d"
           }
          ],
          "parcoords": [
           {
            "line": {
             "colorbar": {
              "outlinewidth": 0,
              "ticks": ""
             }
            },
            "type": "parcoords"
           }
          ],
          "pie": [
           {
            "automargin": true,
            "type": "pie"
           }
          ],
          "scatter": [
           {
            "fillpattern": {
             "fillmode": "overlay",
             "size": 10,
             "solidity": 0.2
            },
            "type": "scatter"
           }
          ],
          "scatter3d": [
           {
            "line": {
             "colorbar": {
              "outlinewidth": 0,
              "ticks": ""
             }
            },
            "marker": {
             "colorbar": {
              "outlinewidth": 0,
              "ticks": ""
             }
            },
            "type": "scatter3d"
           }
          ],
          "scattercarpet": [
           {
            "marker": {
             "colorbar": {
              "outlinewidth": 0,
              "ticks": ""
             }
            },
            "type": "scattercarpet"
           }
          ],
          "scattergeo": [
           {
            "marker": {
             "colorbar": {
              "outlinewidth": 0,
              "ticks": ""
             }
            },
            "type": "scattergeo"
           }
          ],
          "scattergl": [
           {
            "marker": {
             "colorbar": {
              "outlinewidth": 0,
              "ticks": ""
             }
            },
            "type": "scattergl"
           }
          ],
          "scattermapbox": [
           {
            "marker": {
             "colorbar": {
              "outlinewidth": 0,
              "ticks": ""
             }
            },
            "type": "scattermapbox"
           }
          ],
          "scatterpolar": [
           {
            "marker": {
             "colorbar": {
              "outlinewidth": 0,
              "ticks": ""
             }
            },
            "type": "scatterpolar"
           }
          ],
          "scatterpolargl": [
           {
            "marker": {
             "colorbar": {
              "outlinewidth": 0,
              "ticks": ""
             }
            },
            "type": "scatterpolargl"
           }
          ],
          "scatterternary": [
           {
            "marker": {
             "colorbar": {
              "outlinewidth": 0,
              "ticks": ""
             }
            },
            "type": "scatterternary"
           }
          ],
          "surface": [
           {
            "colorbar": {
             "outlinewidth": 0,
             "ticks": ""
            },
            "colorscale": [
             [
              0,
              "#0d0887"
             ],
             [
              0.1111111111111111,
              "#46039f"
             ],
             [
              0.2222222222222222,
              "#7201a8"
             ],
             [
              0.3333333333333333,
              "#9c179e"
             ],
             [
              0.4444444444444444,
              "#bd3786"
             ],
             [
              0.5555555555555556,
              "#d8576b"
             ],
             [
              0.6666666666666666,
              "#ed7953"
             ],
             [
              0.7777777777777778,
              "#fb9f3a"
             ],
             [
              0.8888888888888888,
              "#fdca26"
             ],
             [
              1,
              "#f0f921"
             ]
            ],
            "type": "surface"
           }
          ],
          "table": [
           {
            "cells": {
             "fill": {
              "color": "#EBF0F8"
             },
             "line": {
              "color": "white"
             }
            },
            "header": {
             "fill": {
              "color": "#C8D4E3"
             },
             "line": {
              "color": "white"
             }
            },
            "type": "table"
           }
          ]
         },
         "layout": {
          "annotationdefaults": {
           "arrowcolor": "#2a3f5f",
           "arrowhead": 0,
           "arrowwidth": 1
          },
          "autotypenumbers": "strict",
          "coloraxis": {
           "colorbar": {
            "outlinewidth": 0,
            "ticks": ""
           }
          },
          "colorscale": {
           "diverging": [
            [
             0,
             "#8e0152"
            ],
            [
             0.1,
             "#c51b7d"
            ],
            [
             0.2,
             "#de77ae"
            ],
            [
             0.3,
             "#f1b6da"
            ],
            [
             0.4,
             "#fde0ef"
            ],
            [
             0.5,
             "#f7f7f7"
            ],
            [
             0.6,
             "#e6f5d0"
            ],
            [
             0.7,
             "#b8e186"
            ],
            [
             0.8,
             "#7fbc41"
            ],
            [
             0.9,
             "#4d9221"
            ],
            [
             1,
             "#276419"
            ]
           ],
           "sequential": [
            [
             0,
             "#0d0887"
            ],
            [
             0.1111111111111111,
             "#46039f"
            ],
            [
             0.2222222222222222,
             "#7201a8"
            ],
            [
             0.3333333333333333,
             "#9c179e"
            ],
            [
             0.4444444444444444,
             "#bd3786"
            ],
            [
             0.5555555555555556,
             "#d8576b"
            ],
            [
             0.6666666666666666,
             "#ed7953"
            ],
            [
             0.7777777777777778,
             "#fb9f3a"
            ],
            [
             0.8888888888888888,
             "#fdca26"
            ],
            [
             1,
             "#f0f921"
            ]
           ],
           "sequentialminus": [
            [
             0,
             "#0d0887"
            ],
            [
             0.1111111111111111,
             "#46039f"
            ],
            [
             0.2222222222222222,
             "#7201a8"
            ],
            [
             0.3333333333333333,
             "#9c179e"
            ],
            [
             0.4444444444444444,
             "#bd3786"
            ],
            [
             0.5555555555555556,
             "#d8576b"
            ],
            [
             0.6666666666666666,
             "#ed7953"
            ],
            [
             0.7777777777777778,
             "#fb9f3a"
            ],
            [
             0.8888888888888888,
             "#fdca26"
            ],
            [
             1,
             "#f0f921"
            ]
           ]
          },
          "colorway": [
           "#636efa",
           "#EF553B",
           "#00cc96",
           "#ab63fa",
           "#FFA15A",
           "#19d3f3",
           "#FF6692",
           "#B6E880",
           "#FF97FF",
           "#FECB52"
          ],
          "font": {
           "color": "#2a3f5f"
          },
          "geo": {
           "bgcolor": "white",
           "lakecolor": "white",
           "landcolor": "#E5ECF6",
           "showlakes": true,
           "showland": true,
           "subunitcolor": "white"
          },
          "hoverlabel": {
           "align": "left"
          },
          "hovermode": "closest",
          "mapbox": {
           "style": "light"
          },
          "paper_bgcolor": "white",
          "plot_bgcolor": "#E5ECF6",
          "polar": {
           "angularaxis": {
            "gridcolor": "white",
            "linecolor": "white",
            "ticks": ""
           },
           "bgcolor": "#E5ECF6",
           "radialaxis": {
            "gridcolor": "white",
            "linecolor": "white",
            "ticks": ""
           }
          },
          "scene": {
           "xaxis": {
            "backgroundcolor": "#E5ECF6",
            "gridcolor": "white",
            "gridwidth": 2,
            "linecolor": "white",
            "showbackground": true,
            "ticks": "",
            "zerolinecolor": "white"
           },
           "yaxis": {
            "backgroundcolor": "#E5ECF6",
            "gridcolor": "white",
            "gridwidth": 2,
            "linecolor": "white",
            "showbackground": true,
            "ticks": "",
            "zerolinecolor": "white"
           },
           "zaxis": {
            "backgroundcolor": "#E5ECF6",
            "gridcolor": "white",
            "gridwidth": 2,
            "linecolor": "white",
            "showbackground": true,
            "ticks": "",
            "zerolinecolor": "white"
           }
          },
          "shapedefaults": {
           "line": {
            "color": "#2a3f5f"
           }
          },
          "ternary": {
           "aaxis": {
            "gridcolor": "white",
            "linecolor": "white",
            "ticks": ""
           },
           "baxis": {
            "gridcolor": "white",
            "linecolor": "white",
            "ticks": ""
           },
           "bgcolor": "#E5ECF6",
           "caxis": {
            "gridcolor": "white",
            "linecolor": "white",
            "ticks": ""
           }
          },
          "title": {
           "x": 0.05
          },
          "xaxis": {
           "automargin": true,
           "gridcolor": "white",
           "linecolor": "white",
           "ticks": "",
           "title": {
            "standoff": 15
           },
           "zerolinecolor": "white",
           "zerolinewidth": 2
          },
          "yaxis": {
           "automargin": true,
           "gridcolor": "white",
           "linecolor": "white",
           "ticks": "",
           "title": {
            "standoff": 15
           },
           "zerolinecolor": "white",
           "zerolinewidth": 2
          }
         }
        },
        "title": {
         "text": "DPRK Missile Landing Locations Heatmap",
         "x": 0.5,
         "xanchor": "center"
        },
        "width": 1000
       }
      }
     },
     "metadata": {},
     "output_type": "display_data"
    }
   ],
   "source": [
    "import plotly.express as px\n",
    "\n",
    "landing_location_counts = df['Landing Location'].value_counts().reset_index()\n",
    "landing_location_counts.columns = ['Location', 'Count']\n",
    "\n",
    "landing_locations = {\n",
    "    'Sea of Japan or East Sea': (39.955235648894956, 134.61977359260942),\n",
    "    'Yellow Sea or West Sea': (37.59154703499678, 124.86670024925259),\n",
    "    'Pacific Ocean': (32.03899252565651, 175.45833648092025),\n",
    "    '330km east of Hachinohe and 4000 km out into Pacific Ocean': (41.27280362125239, 148.20008702447393),\n",
    "    }\n",
    "\n",
    "df_locations = pd.DataFrame(landing_locations.items(), columns=['Location', 'Coordinates'])\n",
    "df_locations = pd.merge(df_locations, landing_location_counts, on='Location', how='left')\n",
    "df_locations[['Latitude', 'Longitude']] = pd.DataFrame(df_locations['Coordinates'].tolist(), index=df_locations.index)\n",
    "\n",
    "fig = px.density_mapbox(df_locations, lat='Latitude', lon='Longitude', z='Count',\n",
    "                        radius=40, center={'lat': 37.10179958267497, 'lon': 149.44271388582095},\n",
    "                        zoom=2.7, mapbox_style=\"carto-darkmatter\", width=1000, height=600,\n",
    "                        title='DPRK Missile Landing Locations Heatmap')\n",
    "\n",
    "fig.update_layout(title=dict(x=0.5, xanchor='center'))\n",
    "fig.update_layout(coloraxis_colorbar=dict(title='Count'))\n",
    "fig.update_layout(margin=dict(t=45, l=0, r=0, b=0))  # Set all margins to 0\n",
    "\n",
    "# Adjust the color scale for better visibility and set it to red\n",
    "color_scale = [[0, 'rgb(255, 0, 0)'], [1, 'rgb(0, 0, 255)']]\n",
    "fig.update_traces(zmid=90)  # Set the midpoint of the color scale to 90\n",
    "fig.update_traces(zmin=0, hovertemplate=\"Count: %{z}<extra></extra>\")  # Set the minimum value to 0\n",
    "fig.update_traces(colorscale=color_scale)  # Set the custom color scale\n",
    "fig.show()\n",
    "\n",
    "\n"
   ]
  }
 ],
 "metadata": {
  "kernelspec": {
   "display_name": "base",
   "language": "python",
   "name": "python3"
  },
  "language_info": {
   "codemirror_mode": {
    "name": "ipython",
    "version": 3
   },
   "file_extension": ".py",
   "mimetype": "text/x-python",
   "name": "python",
   "nbconvert_exporter": "python",
   "pygments_lexer": "ipython3",
   "version": "3.10.11"
  },
  "orig_nbformat": 4
 },
 "nbformat": 4,
 "nbformat_minor": 2
}
