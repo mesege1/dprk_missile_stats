{
 "cells": [
  {
   "cell_type": "code",
   "execution_count": 138,
   "metadata": {},
   "outputs": [],
   "source": [
    "\n",
    "#import bokeh as bk\n",
    "\n",
    "import numpy as np\n",
    "import plotly.express as px\n",
    "import pandas as pd\n",
    "import matplotlib.pyplot as plt\n",
    "import matplotlib\n",
    "import matplotlib.image as mpimg\n",
    "#from mpl_toolkits.basemap import Basemap\n",
    "#import geopandas as gpd\n",
    "\n",
    "# import requests\n",
    "# import descartes\n",
    "%matplotlib inline\n",
    "\n",
    "import seaborn as sns"
   ]
  },
  {
   "cell_type": "code",
   "execution_count": 139,
   "metadata": {},
   "outputs": [],
   "source": [
    "stats = pd.read_csv('data/north_korea_missile_test_database.csv', encoding= 'unicode_escape')"
   ]
  },
  {
   "cell_type": "code",
   "execution_count": 140,
   "metadata": {},
   "outputs": [
    {
     "data": {
      "text/html": [
       "<div>\n",
       "<style scoped>\n",
       "    .dataframe tbody tr th:only-of-type {\n",
       "        vertical-align: middle;\n",
       "    }\n",
       "\n",
       "    .dataframe tbody tr th {\n",
       "        vertical-align: top;\n",
       "    }\n",
       "\n",
       "    .dataframe thead th {\n",
       "        text-align: right;\n",
       "    }\n",
       "</style>\n",
       "<table border=\"1\" class=\"dataframe\">\n",
       "  <thead>\n",
       "    <tr style=\"text-align: right;\">\n",
       "      <th></th>\n",
       "      <th>F1</th>\n",
       "      <th>Date</th>\n",
       "      <th>Date Entered/Updated</th>\n",
       "      <th>Launch Time (UTC)</th>\n",
       "      <th>Missile Name</th>\n",
       "      <th>Missile Type</th>\n",
       "      <th>Launch Agency/Authority</th>\n",
       "      <th>Facility Name</th>\n",
       "      <th>Facility Location</th>\n",
       "      <th>Other Name</th>\n",
       "      <th>Facility Latitude</th>\n",
       "      <th>Facility Longitude</th>\n",
       "      <th>Landing Location</th>\n",
       "      <th>Apogee</th>\n",
       "      <th>Distance Travelled</th>\n",
       "      <th>Confirmation Status</th>\n",
       "      <th>Test Outcome</th>\n",
       "      <th>Additional Information</th>\n",
       "      <th>Source(s)</th>\n",
       "    </tr>\n",
       "  </thead>\n",
       "  <tbody>\n",
       "    <tr>\n",
       "      <th>0</th>\n",
       "      <td>1</td>\n",
       "      <td>1984-04-09</td>\n",
       "      <td>2016-12-23</td>\n",
       "      <td>NaN</td>\n",
       "      <td>Scud-B</td>\n",
       "      <td>SRBM</td>\n",
       "      <td>NaN</td>\n",
       "      <td>Tonghae Satellite Launching Ground</td>\n",
       "      <td>Hwadae County, North Hamgyong Province</td>\n",
       "      <td>Musudan-ri</td>\n",
       "      <td>40.8499966</td>\n",
       "      <td>129.666664</td>\n",
       "      <td>Unknown</td>\n",
       "      <td>Unknown</td>\n",
       "      <td>Unknown</td>\n",
       "      <td>Confirmed</td>\n",
       "      <td>Success</td>\n",
       "      <td>First known test by North Korea of a missile w...</td>\n",
       "      <td>http://www.nti.org/media/pdfs/north_korea_miss...</td>\n",
       "    </tr>\n",
       "  </tbody>\n",
       "</table>\n",
       "</div>"
      ],
      "text/plain": [
       "   F1       Date Date Entered/Updated Launch Time (UTC) Missile Name  \\\n",
       "0   1 1984-04-09           2016-12-23               NaN       Scud-B   \n",
       "\n",
       "  Missile Type Launch Agency/Authority                       Facility Name  \\\n",
       "0         SRBM                     NaN  Tonghae Satellite Launching Ground   \n",
       "\n",
       "                        Facility Location  Other Name Facility Latitude  \\\n",
       "0  Hwadae County, North Hamgyong Province  Musudan-ri        40.8499966   \n",
       "\n",
       "  Facility Longitude Landing Location   Apogee Distance Travelled  \\\n",
       "0         129.666664          Unknown  Unknown            Unknown   \n",
       "\n",
       "  Confirmation Status Test Outcome  \\\n",
       "0           Confirmed      Success   \n",
       "\n",
       "                              Additional Information  \\\n",
       "0  First known test by North Korea of a missile w...   \n",
       "\n",
       "                                           Source(s)  \n",
       "0  http://www.nti.org/media/pdfs/north_korea_miss...  "
      ]
     },
     "execution_count": 140,
     "metadata": {},
     "output_type": "execute_result"
    }
   ],
   "source": [
    "# I saved .xsls file to csv first. It caused an encoding issue, however 'unicode_escape' fixed the problem. While I import the database, I parsed dates for the further steps.\n",
    "stats = pd.read_csv('data/north_korea_missile_test_database.csv', encoding= 'unicode_escape', parse_dates=['Date', 'Date Entered/Updated'])\n",
    "stats.head(1)"
   ]
  },
  {
   "cell_type": "code",
   "execution_count": 141,
   "metadata": {},
   "outputs": [
    {
     "name": "stdout",
     "output_type": "stream",
     "text": [
      "object\n",
      "object\n"
     ]
    }
   ],
   "source": [
    "# Checking the types of longigute and latitue : the result is object. \n",
    "print(stats['Facility Latitude'].dtype)\n",
    "print(stats['Facility Longitude'].dtype)"
   ]
  },
  {
   "cell_type": "code",
   "execution_count": 142,
   "metadata": {},
   "outputs": [
    {
     "name": "stdout",
     "output_type": "stream",
     "text": [
      "float64\n",
      "float64\n"
     ]
    }
   ],
   "source": [
    "# Therefore, I changed Lat/Lon values to float. In order to do so, I had to replace 'Unknown' values to None.\n",
    "stats['Facility Latitude'] = stats['Facility Latitude'].replace('Unknown', None)\n",
    "stats['Facility Longitude'] = stats['Facility Longitude'].replace('Unknown', None)\n",
    "\n",
    "stats['Facility Latitude'] = stats['Facility Latitude'].astype(float)\n",
    "stats['Facility Longitude'] = stats['Facility Longitude'].astype(float)\n",
    "\n",
    "print(stats['Facility Latitude'].dtype)\n",
    "print(stats['Facility Longitude'].dtype)"
   ]
  },
  {
   "cell_type": "code",
   "execution_count": 143,
   "metadata": {},
   "outputs": [
    {
     "data": {
      "text/plain": [
       "245"
      ]
     },
     "execution_count": 143,
     "metadata": {},
     "output_type": "execute_result"
    }
   ],
   "source": [
    "# Now, I need to make a new column, which measures the frequencies of testing by facility names.\n",
    "# First, I counted values by 'Facility Name' columm. The total number of missile testing is 245.\n",
    "facility_frequencies = stats['Facility Name'].value_counts()\n",
    "facility_frequencies.sum()"
   ]
  },
  {
   "cell_type": "code",
   "execution_count": 144,
   "metadata": {},
   "outputs": [
    {
     "data": {
      "text/html": [
       "<div>\n",
       "<style scoped>\n",
       "    .dataframe tbody tr th:only-of-type {\n",
       "        vertical-align: middle;\n",
       "    }\n",
       "\n",
       "    .dataframe tbody tr th {\n",
       "        vertical-align: top;\n",
       "    }\n",
       "\n",
       "    .dataframe thead th {\n",
       "        text-align: right;\n",
       "    }\n",
       "</style>\n",
       "<table border=\"1\" class=\"dataframe\">\n",
       "  <thead>\n",
       "    <tr style=\"text-align: right;\">\n",
       "      <th></th>\n",
       "      <th>F1</th>\n",
       "      <th>Date</th>\n",
       "      <th>Date Entered/Updated</th>\n",
       "      <th>Launch Time (UTC)</th>\n",
       "      <th>Missile Name</th>\n",
       "      <th>Missile Type</th>\n",
       "      <th>Launch Agency/Authority</th>\n",
       "      <th>Facility Name</th>\n",
       "      <th>Facility Location</th>\n",
       "      <th>Other Name</th>\n",
       "      <th>Facility Latitude</th>\n",
       "      <th>Facility Longitude</th>\n",
       "      <th>Landing Location</th>\n",
       "      <th>Apogee</th>\n",
       "      <th>Distance Travelled</th>\n",
       "      <th>Confirmation Status</th>\n",
       "      <th>Test Outcome</th>\n",
       "      <th>Additional Information</th>\n",
       "      <th>Source(s)</th>\n",
       "      <th>Frequencies</th>\n",
       "    </tr>\n",
       "  </thead>\n",
       "  <tbody>\n",
       "    <tr>\n",
       "      <th>0</th>\n",
       "      <td>1</td>\n",
       "      <td>1984-04-09</td>\n",
       "      <td>2016-12-23</td>\n",
       "      <td>NaN</td>\n",
       "      <td>Scud-B</td>\n",
       "      <td>SRBM</td>\n",
       "      <td>NaN</td>\n",
       "      <td>Tonghae Satellite Launching Ground</td>\n",
       "      <td>Hwadae County, North Hamgyong Province</td>\n",
       "      <td>Musudan-ri</td>\n",
       "      <td>40.849997</td>\n",
       "      <td>129.666664</td>\n",
       "      <td>Unknown</td>\n",
       "      <td>Unknown</td>\n",
       "      <td>Unknown</td>\n",
       "      <td>Confirmed</td>\n",
       "      <td>Success</td>\n",
       "      <td>First known test by North Korea of a missile w...</td>\n",
       "      <td>http://www.nti.org/media/pdfs/north_korea_miss...</td>\n",
       "      <td>17</td>\n",
       "    </tr>\n",
       "  </tbody>\n",
       "</table>\n",
       "</div>"
      ],
      "text/plain": [
       "   F1       Date Date Entered/Updated Launch Time (UTC) Missile Name  \\\n",
       "0   1 1984-04-09           2016-12-23               NaN       Scud-B   \n",
       "\n",
       "  Missile Type Launch Agency/Authority                       Facility Name  \\\n",
       "0         SRBM                     NaN  Tonghae Satellite Launching Ground   \n",
       "\n",
       "                        Facility Location  Other Name  Facility Latitude  \\\n",
       "0  Hwadae County, North Hamgyong Province  Musudan-ri          40.849997   \n",
       "\n",
       "   Facility Longitude Landing Location   Apogee Distance Travelled  \\\n",
       "0          129.666664          Unknown  Unknown            Unknown   \n",
       "\n",
       "  Confirmation Status Test Outcome  \\\n",
       "0           Confirmed      Success   \n",
       "\n",
       "                              Additional Information  \\\n",
       "0  First known test by North Korea of a missile w...   \n",
       "\n",
       "                                           Source(s)  Frequencies  \n",
       "0  http://www.nti.org/media/pdfs/north_korea_miss...           17  "
      ]
     },
     "execution_count": 144,
     "metadata": {},
     "output_type": "execute_result"
    }
   ],
   "source": [
    "#Now, I'm adding a new column called 'Frequencies' by using .map function. Now the 'Frequencies' column appears.\n",
    "stats['Frequencies'] = stats['Facility Name'].map(facility_frequencies)\n",
    "stats.head(1)"
   ]
  },
  {
   "cell_type": "code",
   "execution_count": 145,
   "metadata": {},
   "outputs": [],
   "source": [
    "#success_count = len(stats[(stats.groupby('Facility Name')) & (stats['Test Outcome'] == 'Success')])\n",
    "#success_count = stats[stats['Test Outcome'] == 'Success'].groupby('Facility Name').size()\n",
    "\n",
    "# Finding the success count by facilities. 'Test Outcome' options are Success & Failure.\n",
    "# success_count_by_facilities = stats.groupby('Facility Name')['Test Outcome'].apply(lambda x: (x == 'Success').sum())\n",
    "# success_count_by_facilities.head(1)"
   ]
  },
  {
   "cell_type": "code",
   "execution_count": 146,
   "metadata": {},
   "outputs": [],
   "source": [
    "# Delete maybe\n",
    "\n",
    "# Testing the success count. Example used = Hodo Peninsula\n",
    "# success_count = len(stats[(stats['Facility Name'] == 'Hodo Peninsula') & (stats['Test Outcome'] == 'Success')])\n",
    "# success_count"
   ]
  },
  {
   "cell_type": "code",
   "execution_count": 147,
   "metadata": {},
   "outputs": [],
   "source": [
    "stats['Year'] = pd.to_datetime(stats['Date']).dt.year"
   ]
  },
  {
   "cell_type": "code",
   "execution_count": 148,
   "metadata": {},
   "outputs": [],
   "source": [
    "import matplotlib.pyplot as plt \n",
    "import seaborn as sns"
   ]
  },
  {
   "cell_type": "code",
   "execution_count": 149,
   "metadata": {},
   "outputs": [],
   "source": [
    "import matplotlib.pyplot as plt \n",
    "import seaborn as sns\n",
    "\n",
    "stats = pd.read_csv('data/north_korea_missile_test_database.csv', encoding= 'unicode_escape')\n",
    "stats['Year'] = pd.to_datetime(stats['Date']).dt.year\n",
    "\n",
    "stats_year = stats['Year']\n",
    "\n",
    "yearly_frequencies = stats['Year'].value_counts().sort_index()\n",
    "\n",
    "yearly_frequencies = yearly_frequencies.sort_index()\n",
    "x = yearly_frequencies.index\n",
    "y = yearly_frequencies.values\n",
    "\n",
    "#plt.barplot(x='species', y='sepal_length', data='stats_year')\n",
    "#plt.text(1, 1, 'HI', fontsize = 10)\n",
    "# plt.text(1, 1, 'Parabola $Y = x^2$', fontsize = 10)\n",
    "  \n",
    "# plt.plot(x, y, c='g')\n",
    "  \n",
    "# plt.xlabel(\"X-axis\", fontsize = 15)\n",
    "# plt.ylabel(\"Y-axis\",fontsize = 15)\n",
    "\n",
    "# #(figsize=(15,15))\n",
    "# #ax.text(3,3, \"hi\")\n",
    "\n",
    "# plt.show()"
   ]
  },
  {
   "cell_type": "code",
   "execution_count": 150,
   "metadata": {},
   "outputs": [
    {
     "data": {
      "image/png": "[encoded data removed]",
      "text/plain": [
       "<Figure size 1000x600 with 1 Axes>"
      ]
     },
     "metadata": {},
     "output_type": "display_data"
    }
   ],
   "source": [
    "import matplotlib.pyplot as plt\n",
    "\n",
    "# Plotting the data\n",
    "plt.figure(figsize=(10, 6))  # Adjust the figure size as needed\n",
    "plt.bar(x, y)\n",
    "\n",
    "# Adding labels and titles\n",
    "plt.xlabel('Year')\n",
    "plt.ylabel('Frequency')\n",
    "plt.title('Yearly Frequency of Missile Tests')\n",
    "\n",
    "# Adding gridlines\n",
    "plt.grid(True, axis='y')\n",
    "\n",
    "# Rotating x-axis labels if needed\n",
    "plt.xticks(rotation=90)\n",
    "\n",
    "# Displaying the chart\n",
    "plt.show()"
   ]
  },
  {
   "cell_type": "code",
   "execution_count": 151,
   "metadata": {},
   "outputs": [
    {
     "data": {
      "image/png": "[encoded data removed]",
      "text/plain": [
       "<Figure size 1000x600 with 1 Axes>"
      ]
     },
     "metadata": {},
     "output_type": "display_data"
    }
   ],
   "source": [
    "import matplotlib.pyplot as plt\n",
    "\n",
    "# Plotting the data\n",
    "plt.figure(figsize=(10, 6))  # Adjust the figure size as needed\n",
    "plt.bar(x, y)\n",
    "\n",
    "# Adding labels and titles\n",
    "plt.xlabel('Year')\n",
    "plt.ylabel('Frequency')\n",
    "plt.title('Yearly Frequency of Missile Tests')\n",
    "\n",
    "# Adding gridlines\n",
    "plt.grid(True, axis='y')\n",
    "\n",
    "# Rotating x-axis labels if needed\n",
    "plt.xticks(rotation=90)\n",
    "\n",
    "# Adding text inside the chart\n",
    "for i, freq in enumerate(y):\n",
    "    plt.text(x[i], freq, str(freq), ha='center', va='bottom')\n",
    "\n",
    "# Displaying the chart\n",
    "plt.show()"
   ]
  },
  {
   "cell_type": "code",
   "execution_count": 152,
   "metadata": {},
   "outputs": [
    {
     "data": {
      "image/png": "[encoded data removed]",
      "text/plain": [
       "<Figure size 1000x600 with 1 Axes>"
      ]
     },
     "metadata": {},
     "output_type": "display_data"
    }
   ],
   "source": [
    "plt.figure(figsize=(10, 6))  # Adjust the figure size as needed\n",
    "plt.bar(x, y)\n",
    "\n",
    "# Adding labels and titles\n",
    "plt.xlabel('Year')\n",
    "plt.ylabel('Frequency')\n",
    "plt.title('Yearly Frequency of Missile Tests')\n",
    "\n",
    "# Adding gridlines\n",
    "plt.grid(True, axis='y')\n",
    "\n",
    "# Rotating x-axis labels if needed\n",
    "plt.xticks(rotation=90)\n",
    "\n",
    "# Updating x-axis tick labels\n",
    "plt.xticks(x)\n",
    "\n",
    "# Displaying the chart\n",
    "plt.show()"
   ]
  },
  {
   "cell_type": "code",
   "execution_count": 153,
   "metadata": {},
   "outputs": [
    {
     "name": "stdout",
     "output_type": "stream",
     "text": [
      "1984     6\n",
      "1986     1\n",
      "1990     2\n",
      "1991     1\n",
      "1992     1\n",
      "1993     4\n",
      "1998     1\n",
      "2006     7\n",
      "2009     8\n",
      "2012     2\n",
      "2013     6\n",
      "2014    19\n",
      "2015    15\n",
      "2016    24\n",
      "2017    21\n",
      "2019    27\n",
      "2020     9\n",
      "2021     6\n",
      "2022    69\n",
      "2023    16\n",
      "Name: Year, dtype: int64\n"
     ]
    }
   ],
   "source": [
    "print(yearly_frequencies)"
   ]
  },
  {
   "cell_type": "code",
   "execution_count": 154,
   "metadata": {},
   "outputs": [
    {
     "data": {
      "image/png": "[encoded data removed]",
      "text/plain": [
       "<Figure size 1200x900 with 1 Axes>"
      ]
     },
     "metadata": {},
     "output_type": "display_data"
    }
   ],
   "source": [
    "# I already counted the success by facilities from the previous code.\n",
    "# which is the following code: stats['Frequencies'] = stats['Facility Name'].map(facility_frequencies)\n",
    "\n",
    "# Now, I need to count the success and failure by facilities.\n",
    "facility_success = stats.groupby('Facility Name')['Test Outcome'].apply(lambda x: (x == 'Success').sum())\n",
    "facility_failure = stats.groupby('Facility Name')['Test Outcome'].apply(lambda x: (x == 'Failure').sum())\n",
    "\n",
    "# Determine the figure size\n",
    "plt.figure(figsize=(12, 9))\n",
    "\n",
    "\n",
    "# I used [::-1] because otherwise, the highest number goes to the bottom.\n",
    "facility_names_reversed = facility_frequencies.index[::-1]\n",
    "facility_counts_reversed = facility_frequencies.values[::-1]\n",
    "\n",
    "success_color = 'red'  # Color for success\n",
    "failure_color = 'grey'  # Color for failure\n",
    "\n",
    "success_counts = facility_success.reindex(facility_names_reversed).values\n",
    "failure_counts = facility_failure.reindex(facility_names_reversed).values\n",
    "\n",
    "bar_positions = np.arange(len(facility_names_reversed))\n",
    "\n",
    "plt.barh(bar_positions, success_counts, color=success_color)\n",
    "plt.barh(bar_positions, failure_counts, left=success_counts, color=failure_color)\n",
    "\n",
    "plt.yticks(bar_positions, facility_names_reversed)\n",
    "plt.tick_params(axis='x', labelsize=10)\n",
    "plt.xlabel('Number of Missile Tests', size=12)\n",
    "plt.ylabel('Facility Names', size=12)\n",
    "plt.title('DPRK Missile Facilities by Number of Testing', size=15)\n",
    "plt.xticks(rotation=0)\n",
    "\n",
    "legend_font_size = 16\n",
    "#plt.legend(['Success', 'Failure', \"Max = 26\"], loc='center', prop={'size': legend_font_size})\n",
    "\n",
    "# success_patch = plt.barh([], [], color=success_color)[0]\n",
    "# failure_patch = plt.barh([], [], color=failure_color)[0]\n",
    "# plt.legend([success_patch, failure_patch, \"Max = 26\"], ['Success', 'Failure'], loc='lower right', prop={'size': legend_font_size})\n",
    "\n",
    "# Add the \"Max = 26\" label inside the legend box\n",
    "#plt.text(0.5, -0.2, \"Max = 26\", transform=plt.gca().transAxes, ha='center', va='center', fontsize=legend_font_size)\n",
    "#plt.text('Max = 26', ha='center', va='center', fontsize=legend_font_size)\n",
    "\n",
    "\n",
    "\n",
    "#plt.tight_layout()\n",
    "plt.show()"
   ]
  },
  {
   "cell_type": "code",
   "execution_count": 155,
   "metadata": {},
   "outputs": [
    {
     "data": {
      "text/html": [
       "<div>\n",
       "<style scoped>\n",
       "    .dataframe tbody tr th:only-of-type {\n",
       "        vertical-align: middle;\n",
       "    }\n",
       "\n",
       "    .dataframe tbody tr th {\n",
       "        vertical-align: top;\n",
       "    }\n",
       "\n",
       "    .dataframe thead th {\n",
       "        text-align: right;\n",
       "    }\n",
       "</style>\n",
       "<table border=\"1\" class=\"dataframe\">\n",
       "  <thead>\n",
       "    <tr style=\"text-align: right;\">\n",
       "      <th></th>\n",
       "      <th>F1</th>\n",
       "      <th>Date</th>\n",
       "      <th>Date Entered/Updated</th>\n",
       "      <th>Launch Time (UTC)</th>\n",
       "      <th>Missile Name</th>\n",
       "      <th>Missile Type</th>\n",
       "      <th>Launch Agency/Authority</th>\n",
       "      <th>Facility Name</th>\n",
       "      <th>Facility Location</th>\n",
       "      <th>Other Name</th>\n",
       "      <th>Facility Latitude</th>\n",
       "      <th>Facility Longitude</th>\n",
       "      <th>Landing Location</th>\n",
       "      <th>Apogee</th>\n",
       "      <th>Distance Travelled</th>\n",
       "      <th>Confirmation Status</th>\n",
       "      <th>Test Outcome</th>\n",
       "      <th>Additional Information</th>\n",
       "      <th>Source(s)</th>\n",
       "      <th>Year</th>\n",
       "    </tr>\n",
       "  </thead>\n",
       "  <tbody>\n",
       "    <tr>\n",
       "      <th>0</th>\n",
       "      <td>1</td>\n",
       "      <td>9-Apr-84</td>\n",
       "      <td>23-Dec-16</td>\n",
       "      <td>NaN</td>\n",
       "      <td>Scud-B</td>\n",
       "      <td>SRBM</td>\n",
       "      <td>NaN</td>\n",
       "      <td>Tonghae Satellite Launching Ground</td>\n",
       "      <td>Hwadae County, North Hamgyong Province</td>\n",
       "      <td>Musudan-ri</td>\n",
       "      <td>40.8499966</td>\n",
       "      <td>129.666664</td>\n",
       "      <td>Unknown</td>\n",
       "      <td>Unknown</td>\n",
       "      <td>Unknown</td>\n",
       "      <td>Confirmed</td>\n",
       "      <td>Success</td>\n",
       "      <td>First known test by North Korea of a missile w...</td>\n",
       "      <td>http://www.nti.org/media/pdfs/north_korea_miss...</td>\n",
       "      <td>1984</td>\n",
       "    </tr>\n",
       "  </tbody>\n",
       "</table>\n",
       "</div>"
      ],
      "text/plain": [
       "   F1      Date Date Entered/Updated Launch Time (UTC) Missile Name  \\\n",
       "0   1  9-Apr-84            23-Dec-16               NaN       Scud-B   \n",
       "\n",
       "  Missile Type Launch Agency/Authority                       Facility Name  \\\n",
       "0         SRBM                     NaN  Tonghae Satellite Launching Ground   \n",
       "\n",
       "                        Facility Location  Other Name Facility Latitude  \\\n",
       "0  Hwadae County, North Hamgyong Province  Musudan-ri        40.8499966   \n",
       "\n",
       "  Facility Longitude Landing Location   Apogee Distance Travelled  \\\n",
       "0         129.666664          Unknown  Unknown            Unknown   \n",
       "\n",
       "  Confirmation Status Test Outcome  \\\n",
       "0           Confirmed      Success   \n",
       "\n",
       "                              Additional Information  \\\n",
       "0  First known test by North Korea of a missile w...   \n",
       "\n",
       "                                           Source(s)  Year  \n",
       "0  http://www.nti.org/media/pdfs/north_korea_miss...  1984  "
      ]
     },
     "execution_count": 155,
     "metadata": {},
     "output_type": "execute_result"
    }
   ],
   "source": [
    "# I'm adding a new column called 'Year' to sort by year. For the graph, sorting by year makes more concise depiction.\n",
    "stats['Year'] = pd.to_datetime(stats['Date']).dt.year\n",
    "stats.head(1)"
   ]
  },
  {
   "cell_type": "code",
   "execution_count": 156,
   "metadata": {},
   "outputs": [
    {
     "data": {
      "image/png": "[encoded data removed]",
      "text/plain": [
       "<Figure size 640x480 with 1 Axes>"
      ]
     },
     "metadata": {},
     "output_type": "display_data"
    }
   ],
   "source": [
    "stats = pd.read_csv('data/north_korea_missile_test_database.csv', encoding= 'unicode_escape')\n",
    "\n",
    "#Count by years\n",
    "#yearly_frequencies = stats['Year'].value_counts().sort_index()\n",
    "#yearly_frequencies = yearly_frequencies.sort_index()\n",
    "x = yearly_frequencies.index\n",
    "y = yearly_frequencies.values\n",
    "\n",
    "plt.plot(x, y)\n",
    "\n",
    "plt.text(1, 1, 'Parabola $Y = x^2$', fontsize = 10)\n",
    "  \n",
    "plt.plot(x, y, c='g')\n",
    "  \n",
    "plt.xlabel(\"X-axis\", fontsize = 15)\n",
    "plt.ylabel(\"Y-axis\",fontsize = 15)\n",
    "\n",
    "#(figsize=(15,15))\n",
    "#ax.text(3,3, \"hi\")\n",
    "\n",
    "plt.show()"
   ]
  },
  {
   "cell_type": "code",
   "execution_count": 157,
   "metadata": {},
   "outputs": [
    {
     "ename": "KeyError",
     "evalue": "'Year'",
     "output_type": "error",
     "traceback": [
      "\u001b[1;31m---------------------------------------------------------------------------\u001b[0m",
      "\u001b[1;31mKeyError\u001b[0m                                  Traceback (most recent call last)",
      "File \u001b[1;32mc:\\Users\\vans8\\anaconda3\\lib\\site-packages\\pandas\\core\\indexes\\base.py:3802\u001b[0m, in \u001b[0;36mIndex.get_loc\u001b[1;34m(self, key, method, tolerance)\u001b[0m\n\u001b[0;32m   3801\u001b[0m \u001b[39mtry\u001b[39;00m:\n\u001b[1;32m-> 3802\u001b[0m     \u001b[39mreturn\u001b[39;00m \u001b[39mself\u001b[39;49m\u001b[39m.\u001b[39;49m_engine\u001b[39m.\u001b[39;49mget_loc(casted_key)\n\u001b[0;32m   3803\u001b[0m \u001b[39mexcept\u001b[39;00m \u001b[39mKeyError\u001b[39;00m \u001b[39mas\u001b[39;00m err:\n",
      "File \u001b[1;32mc:\\Users\\vans8\\anaconda3\\lib\\site-packages\\pandas\\_libs\\index.pyx:138\u001b[0m, in \u001b[0;36mpandas._libs.index.IndexEngine.get_loc\u001b[1;34m()\u001b[0m\n",
      "File \u001b[1;32mc:\\Users\\vans8\\anaconda3\\lib\\site-packages\\pandas\\_libs\\index.pyx:165\u001b[0m, in \u001b[0;36mpandas._libs.index.IndexEngine.get_loc\u001b[1;34m()\u001b[0m\n",
      "File \u001b[1;32mpandas\\_libs\\hashtable_class_helper.pxi:5745\u001b[0m, in \u001b[0;36mpandas._libs.hashtable.PyObjectHashTable.get_item\u001b[1;34m()\u001b[0m\n",
      "File \u001b[1;32mpandas\\_libs\\hashtable_class_helper.pxi:5753\u001b[0m, in \u001b[0;36mpandas._libs.hashtable.PyObjectHashTable.get_item\u001b[1;34m()\u001b[0m\n",
      "\u001b[1;31mKeyError\u001b[0m: 'Year'",
      "\nThe above exception was the direct cause of the following exception:\n",
      "\u001b[1;31mKeyError\u001b[0m                                  Traceback (most recent call last)",
      "Cell \u001b[1;32mIn[157], line 2\u001b[0m\n\u001b[0;32m      1\u001b[0m \u001b[39m#Count by years\u001b[39;00m\n\u001b[1;32m----> 2\u001b[0m yearly_frequencies \u001b[39m=\u001b[39m stats[\u001b[39m'\u001b[39;49m\u001b[39mYear\u001b[39;49m\u001b[39m'\u001b[39;49m]\u001b[39m.\u001b[39mvalue_counts()\u001b[39m.\u001b[39msort_index()\n\u001b[0;32m      3\u001b[0m \u001b[39m#yearly_frequencies = yearly_frequencies.sort_index()\u001b[39;00m\n\u001b[0;32m      5\u001b[0m plt\u001b[39m.\u001b[39mfigure(figsize\u001b[39m=\u001b[39m(\u001b[39m10\u001b[39m, \u001b[39m7\u001b[39m))\n",
      "File \u001b[1;32mc:\\Users\\vans8\\anaconda3\\lib\\site-packages\\pandas\\core\\frame.py:3807\u001b[0m, in \u001b[0;36mDataFrame.__getitem__\u001b[1;34m(self, key)\u001b[0m\n\u001b[0;32m   3805\u001b[0m \u001b[39mif\u001b[39;00m \u001b[39mself\u001b[39m\u001b[39m.\u001b[39mcolumns\u001b[39m.\u001b[39mnlevels \u001b[39m>\u001b[39m \u001b[39m1\u001b[39m:\n\u001b[0;32m   3806\u001b[0m     \u001b[39mreturn\u001b[39;00m \u001b[39mself\u001b[39m\u001b[39m.\u001b[39m_getitem_multilevel(key)\n\u001b[1;32m-> 3807\u001b[0m indexer \u001b[39m=\u001b[39m \u001b[39mself\u001b[39;49m\u001b[39m.\u001b[39;49mcolumns\u001b[39m.\u001b[39;49mget_loc(key)\n\u001b[0;32m   3808\u001b[0m \u001b[39mif\u001b[39;00m is_integer(indexer):\n\u001b[0;32m   3809\u001b[0m     indexer \u001b[39m=\u001b[39m [indexer]\n",
      "File \u001b[1;32mc:\\Users\\vans8\\anaconda3\\lib\\site-packages\\pandas\\core\\indexes\\base.py:3804\u001b[0m, in \u001b[0;36mIndex.get_loc\u001b[1;34m(self, key, method, tolerance)\u001b[0m\n\u001b[0;32m   3802\u001b[0m     \u001b[39mreturn\u001b[39;00m \u001b[39mself\u001b[39m\u001b[39m.\u001b[39m_engine\u001b[39m.\u001b[39mget_loc(casted_key)\n\u001b[0;32m   3803\u001b[0m \u001b[39mexcept\u001b[39;00m \u001b[39mKeyError\u001b[39;00m \u001b[39mas\u001b[39;00m err:\n\u001b[1;32m-> 3804\u001b[0m     \u001b[39mraise\u001b[39;00m \u001b[39mKeyError\u001b[39;00m(key) \u001b[39mfrom\u001b[39;00m \u001b[39merr\u001b[39;00m\n\u001b[0;32m   3805\u001b[0m \u001b[39mexcept\u001b[39;00m \u001b[39mTypeError\u001b[39;00m:\n\u001b[0;32m   3806\u001b[0m     \u001b[39m# If we have a listlike key, _check_indexing_error will raise\u001b[39;00m\n\u001b[0;32m   3807\u001b[0m     \u001b[39m#  InvalidIndexError. Otherwise we fall through and re-raise\u001b[39;00m\n\u001b[0;32m   3808\u001b[0m     \u001b[39m#  the TypeError.\u001b[39;00m\n\u001b[0;32m   3809\u001b[0m     \u001b[39mself\u001b[39m\u001b[39m.\u001b[39m_check_indexing_error(key)\n",
      "\u001b[1;31mKeyError\u001b[0m: 'Year'"
     ]
    }
   ],
   "source": [
    "#Count by years\n",
    "yearly_frequencies = stats['Year'].value_counts().sort_index()\n",
    "#yearly_frequencies = yearly_frequencies.sort_index()\n",
    "\n",
    "plt.figure(figsize=(10, 7))\n",
    "plt.plot(yearly_frequencies.index, yearly_frequencies.values, marker='o', color=\"red\")\n",
    "plt.tick_params(axis='x', labelsize=10)\n",
    "\n",
    "plt.xlabel('Year', size = 15)\n",
    "plt.ylabel('Frequency', size = 15)\n",
    "plt.title('Missile testing count by year', size = 20)\n",
    "\n",
    "#plt.text(2, 4, 'Kim, Il-sung', fontsize=5, color='gray')\n",
    "\n",
    "#plt.scatter(1987, marker='*', color='orange', s=10, label='1987 Stock Market Crash')\n",
    "plt.text(3+0.2, 4.5, \"An annotation\", horizontalalignment='left', size='medium', color='black', weight='semibold')\n",
    "\n",
    "#plt.scatter(1987, self_inflicted_deaths.loc[df['Calendar Year'] == 1987].values[0], marker='*', color='orange', s=200, label='1987 Stock Market Crash')\n",
    "\n",
    "#plt.tight_layout()\n",
    "plt.show()"
   ]
  },
  {
   "cell_type": "code",
   "execution_count": null,
   "metadata": {},
   "outputs": [],
   "source": [
    "all_years = pd.Series(range(yearly_frequencies.index.min(), yearly_frequencies.index.max() + 1))"
   ]
  },
  {
   "cell_type": "code",
   "execution_count": null,
   "metadata": {},
   "outputs": [],
   "source": [
    "average = yearly_frequencies.mean()\n",
    "q1 = yearly_frequencies.quantile(0.25)\n",
    "q3 = yearly_frequencies.quantile(0.75)\n",
    "\n",
    "print(average, q1, q3)"
   ]
  },
  {
   "cell_type": "code",
   "execution_count": null,
   "metadata": {},
   "outputs": [
    {
     "data": {
      "image/png": "[encoded data removed]",
      "text/plain": [
       "<Figure size 1200x600 with 1 Axes>"
      ]
     },
     "metadata": {},
     "output_type": "display_data"
    }
   ],
   "source": [
    "stats['Year'] = pd.to_datetime(stats['Date']).dt.year\n",
    "\n",
    "yearly_frequencies = stats['Year'].value_counts().sort_index()\n",
    "\n",
    "all_years = pd.Series(range(yearly_frequencies.index.min(), yearly_frequencies.index.max() + 1))\n",
    "#yearly_frequencies = yearly_frequencies.reindex(all_years).fillna(0)\n",
    "\n",
    "average = yearly_frequencies.mean()\n",
    "q1 = yearly_frequencies.quantile(0.25)\n",
    "q3 = yearly_frequencies.quantile(0.75)\n",
    "\n",
    "color_q1 = 'blue'  # Color for below 1st quartile\n",
    "color_mean = 'orange'  # Color for between 1st quartile and 3rd quartile\n",
    "color_q3 = 'red'  # Color for above 3rd quartile\n",
    "\n",
    "bar_colors = []\n",
    "for freq in yearly_frequencies.values:\n",
    "    if freq < q1:\n",
    "        bar_colors.append(color_q1)\n",
    "    elif freq > q3:\n",
    "        bar_colors.append(color_q3)\n",
    "    else:\n",
    "        bar_colors.append(color_mean)\n",
    "\n",
    "plt.figure(figsize=(12, 6))\n",
    "plt.bar(yearly_frequencies.index, yearly_frequencies.values, color=bar_colors)\n",
    "\n",
    "plt.tick_params(axis='x', labelsize=10)\n",
    "plt.xticks(all_years, rotation = 45)\n",
    "\n",
    "plt.xlabel('Year', size=15)\n",
    "plt.ylabel('Number of Test', size=15)\n",
    "plt.title('Testing Frequencies by Year', size=20)\n",
    "\n",
    "\n",
    "# plt.text(1, 4, 'Kim, Il-sung', fontsize=5, color='gray')\n",
    "# plt.text(3, 4, 'Kim, Jong-il', fontsize=5, color='gray')\n",
    "# plt.text(5, 4, 'Kim, Jong-un', fontsize=5, color='gray')\n",
    "\n",
    "#plt.tight_layout()\n",
    "plt.show()\n"
   ]
  },
  {
   "cell_type": "code",
   "execution_count": null,
   "metadata": {},
   "outputs": [
    {
     "data": {
      "application/vnd.plotly.v1+json": {
       "config": {
        "plotlyServerURL": "https://plot.ly"
       },
       "data": [
        {
         "hovertemplate": "Facility Name=Tonghae Satellite Launching Ground<br>Frequencies=%{marker.size}<br>Facility Latitude=%{lat}<br>Facility Longitude=%{lon}<extra></extra>",
         "lat": [
          "40.8499966",
          "40.8499966",
          "40.8499966",
          "40.8499966",
          "40.8499966",
          "40.8499966",
          "40.8499966",
          "40.8499966",
          "40.8499966",
          "40.8499966",
          "40.8499966",
          "40.8499966",
          "40.8499966",
          "40.8499966",
          "40.8499966",
          "40.8499966",
          "40.8499966"
         ],
         "legendgroup": "Tonghae Satellite Launching Ground",
         "lon": [
          "129.666664",
          "129.666664",
          "129.666664",
          "129.666664",
          "129.666664",
          "129.666664",
          "129.666664",
          "129.666664",
          "129.666664",
          "129.666664",
          "129.666664",
          "129.666664",
          "129.666664",
          "129.666664",
          "129.666664",
          "129.666664",
          "129.666664"
         ],
         "marker": {
          "color": "#636efa",
          "size": [
           17,
           17,
           17,
           17,
           17,
           17,
           17,
           17,
           17,
           17,
           17,
           17,
           17,
           17,
           17,
           17,
           17
          ],
          "sizemode": "area",
          "sizeref": 0.065
         },
         "mode": "markers",
         "name": "Tonghae Satellite Launching Ground",
         "showlegend": true,
         "subplot": "mapbox",
         "type": "scattermapbox"
        },
        {
         "hovertemplate": "Facility Name=Chihari Missile Base<br>Frequencies=%{marker.size}<br>Facility Latitude=%{lat}<br>Facility Longitude=%{lon}<extra></extra>",
         "lat": [
          "38.62333"
         ],
         "legendgroup": "Chihari Missile Base",
         "lon": [
          "126.6847"
         ],
         "marker": {
          "color": "#EF553B",
          "size": [
           1
          ],
          "sizemode": "area",
          "sizeref": 0.065
         },
         "mode": "markers",
         "name": "Chihari Missile Base",
         "showlegend": true,
         "subplot": "mapbox",
         "type": "scattermapbox"
        },
        {
         "hovertemplate": "Facility Name=Kittaeryong Missile Base<br>Frequencies=%{marker.size}<br>Facility Latitude=%{lat}<br>Facility Longitude=%{lon}<extra></extra>",
         "lat": [
          "38.99083",
          "38.99083",
          "38.99083",
          "38.99083",
          "38.99083",
          "38.99083",
          "38.99083",
          "38.99083",
          "38.99083",
          "38.99083",
          "38.99083",
          "38.99083",
          "38.99083",
          "38.99083",
          "38.99083",
          "38.99083",
          "38.99083",
          "38.99083",
          "38.99083",
          "38.99083"
         ],
         "legendgroup": "Kittaeryong Missile Base",
         "lon": [
          "127.6236",
          "127.6236",
          "127.6236",
          "127.6236",
          "127.6236",
          "127.6236",
          "127.6236",
          "127.6236",
          "127.6236",
          "127.6236",
          "127.6236",
          "127.6236",
          "127.6236",
          "127.6236",
          "127.6236",
          "127.6236",
          "127.6236",
          "127.6236",
          "127.6236",
          "127.6236"
         ],
         "marker": {
          "color": "#00cc96",
          "size": [
           20,
           20,
           20,
           20,
           20,
           20,
           20,
           20,
           20,
           20,
           20,
           20,
           20,
           20,
           20,
           20,
           20,
           20,
           20,
           20
          ],
          "sizemode": "area",
          "sizeref": 0.065
         },
         "mode": "markers",
         "name": "Kittaeryong Missile Base",
         "showlegend": true,
         "subplot": "mapbox",
         "type": "scattermapbox"
        },
        {
         "hovertemplate": "Facility Name=Sohae Satellite Launching Station<br>Frequencies=%{marker.size}<br>Facility Latitude=%{lat}<br>Facility Longitude=%{lon}<extra></extra>",
         "lat": [
          "39.6596",
          "39.6596",
          "39.6596",
          "39.6596",
          "39.6596",
          "39.6596",
          "39.6596",
          "39.6596",
          "39.6596",
          "39.6596",
          "39.6596"
         ],
         "legendgroup": "Sohae Satellite Launching Station",
         "lon": [
          "124.7057",
          "124.7057",
          "124.7057",
          "124.7057",
          "124.7057",
          "124.7057",
          "124.7057",
          "124.7057",
          "124.7057",
          "124.7057",
          "124.7057"
         ],
         "marker": {
          "color": "#ab63fa",
          "size": [
           11,
           11,
           11,
           11,
           11,
           11,
           11,
           11,
           11,
           11,
           11
          ],
          "sizemode": "area",
          "sizeref": 0.065
         },
         "mode": "markers",
         "name": "Sohae Satellite Launching Station",
         "showlegend": true,
         "subplot": "mapbox",
         "type": "scattermapbox"
        },
        {
         "hovertemplate": "Facility Name=Hodo Peninsula<br>Frequencies=%{marker.size}<br>Facility Latitude=%{lat}<br>Facility Longitude=%{lon}<extra></extra>",
         "lat": [
          "39.40167",
          "39.40167",
          "39.40167",
          "39.40167",
          "39.40167",
          "39.40167",
          "39.40167",
          "39.40167",
          "39.40167",
          "39.40167",
          "39.40167",
          "39.40167",
          "39.40167",
          "39.40167",
          "39.40167",
          "39.40167",
          "39.40167",
          "39.40167",
          "39.40167",
          "39.40167",
          "39.40167",
          "39.40167",
          "39.40167",
          "39.40167",
          "39.40167",
          "39.40167"
         ],
         "legendgroup": "Hodo Peninsula",
         "lon": [
          "127.5369",
          "127.5369",
          "127.5369",
          "127.5369",
          "127.5369",
          "127.5369",
          "127.5369",
          "127.5369",
          "127.5369",
          "127.5369",
          "127.5369",
          "127.5369",
          "127.5369",
          "127.5369",
          "127.5369",
          "127.5369",
          "127.5369",
          "127.5369",
          "127.5369",
          "127.5369",
          "127.5369",
          "127.5369",
          "127.5369",
          "127.5369",
          "127.5369",
          "127.5369"
         ],
         "marker": {
          "color": "#FFA15A",
          "size": [
           26,
           26,
           26,
           26,
           26,
           26,
           26,
           26,
           26,
           26,
           26,
           26,
           26,
           26,
           26,
           26,
           26,
           26,
           26,
           26,
           26,
           26,
           26,
           26,
           26,
           26
          ],
          "sizemode": "area",
          "sizeref": 0.065
         },
         "mode": "markers",
         "name": "Hodo Peninsula",
         "showlegend": true,
         "subplot": "mapbox",
         "type": "scattermapbox"
        },
        {
         "hovertemplate": "Facility Name=Wonsan Kalma International Airport<br>Frequencies=%{marker.size}<br>Facility Latitude=%{lat}<br>Facility Longitude=%{lon}<extra></extra>",
         "lat": [
          "39.1677",
          "39.1677",
          "39.1677",
          "39.1677",
          "39.1677",
          "39.1677",
          "39.1677",
          "39.1677",
          "39.1677",
          "39.1677",
          "39.1677",
          "39.1677",
          "39.1677",
          "39.1677"
         ],
         "legendgroup": "Wonsan Kalma International Airport",
         "lon": [
          "127.4817",
          "127.4817",
          "127.4817",
          "127.4817",
          "127.4817",
          "127.4817",
          "127.4817",
          "127.4817",
          "127.4817",
          "127.4817",
          "127.4817",
          "127.4817",
          "127.4817",
          "127.4817"
         ],
         "marker": {
          "color": "#19d3f3",
          "size": [
           14,
           14,
           14,
           14,
           14,
           14,
           14,
           14,
           14,
           14,
           14,
           14,
           14,
           14
          ],
          "sizemode": "area",
          "sizeref": 0.065
         },
         "mode": "markers",
         "name": "Wonsan Kalma International Airport",
         "showlegend": true,
         "subplot": "mapbox",
         "type": "scattermapbox"
        },
        {
         "hovertemplate": "Facility Name=Sunchon Airbase<br>Frequencies=%{marker.size}<br>Facility Latitude=%{lat}<br>Facility Longitude=%{lon}<extra></extra>",
         "lat": [
          "39.412594",
          "39.412594",
          "39.412594",
          "39.412594",
          "39.412594",
          "39.412594"
         ],
         "legendgroup": "Sunchon Airbase",
         "lon": [
          "125.89031",
          "125.89031",
          "125.89031",
          "125.89031",
          "125.89031",
          "125.89031"
         ],
         "marker": {
          "color": "#FF6692",
          "size": [
           6,
           6,
           6,
           6,
           6,
           6
          ],
          "sizemode": "area",
          "sizeref": 0.065
         },
         "mode": "markers",
         "name": "Sunchon Airbase",
         "showlegend": true,
         "subplot": "mapbox",
         "type": "scattermapbox"
        },
        {
         "hovertemplate": "Facility Name=Masikryong<br>Frequencies=%{marker.size}<br>Facility Latitude=%{lat}<br>Facility Longitude=%{lon}<extra></extra>",
         "lat": [
          "39.065962",
          "39.065962"
         ],
         "legendgroup": "Masikryong",
         "lon": [
          "127.250257",
          "127.250257"
         ],
         "marker": {
          "color": "#B6E880",
          "size": [
           2,
           2
          ],
          "sizemode": "area",
          "sizeref": 0.065
         },
         "mode": "markers",
         "name": "Masikryong",
         "showlegend": true,
         "subplot": "mapbox",
         "type": "scattermapbox"
        },
        {
         "hovertemplate": "Facility Name=Hwangju<br>Frequencies=%{marker.size}<br>Facility Latitude=%{lat}<br>Facility Longitude=%{lon}<extra></extra>",
         "lat": [
          "38.686834",
          "38.686834",
          "38.686834",
          "38.686834",
          "38.686834",
          "38.686834",
          "38.686834",
          "38.686834",
          "38.686834",
          "38.686834",
          "38.686834",
          "38.686834"
         ],
         "legendgroup": "Hwangju",
         "lon": [
          "125.702005",
          "125.702005",
          "125.702005",
          "125.702005",
          "125.702005",
          "125.702005",
          "125.702005",
          "125.702005",
          "125.702005",
          "125.702005",
          "125.702005",
          "125.702005"
         ],
         "marker": {
          "color": "#FF97FF",
          "size": [
           12,
           12,
           12,
           12,
           12,
           12,
           12,
           12,
           12,
           12,
           12,
           12
          ],
          "sizemode": "area",
          "sizeref": 0.065
         },
         "mode": "markers",
         "name": "Hwangju",
         "showlegend": true,
         "subplot": "mapbox",
         "type": "scattermapbox"
        },
        {
         "hovertemplate": "Facility Name=Kaesong<br>Frequencies=%{marker.size}<br>Facility Latitude=%{lat}<br>Facility Longitude=%{lon}<extra></extra>",
         "lat": [
          "37.9382",
          "37.9382"
         ],
         "legendgroup": "Kaesong",
         "lon": [
          "126.5878",
          "126.5878"
         ],
         "marker": {
          "color": "#FECB52",
          "size": [
           2,
           2
          ],
          "sizemode": "area",
          "sizeref": 0.065
         },
         "mode": "markers",
         "name": "Kaesong",
         "showlegend": true,
         "subplot": "mapbox",
         "type": "scattermapbox"
        },
        {
         "hovertemplate": "Facility Name=Unknown<br>Frequencies=%{marker.size}<br>Facility Latitude=%{lat}<br>Facility Longitude=%{lon}<extra></extra>",
         "lat": [
          "Unknown",
          "Unknown",
          "Unknown",
          "Unknown",
          "Unknown",
          "Unknown",
          "Unknown",
          "Unknown",
          "Unknown",
          "Unknown",
          "Unknown",
          "Unknown",
          "Unknown",
          "Unknown"
         ],
         "legendgroup": "Unknown",
         "lon": [
          "Unknown",
          "Unknown",
          "Unknown",
          "Unknown",
          "Unknown",
          "Unknown",
          "Unknown",
          "Unknown",
          "Unknown",
          "Unknown",
          "Unknown",
          "Unknown",
          "Unknown",
          "Unknown"
         ],
         "marker": {
          "color": "#636efa",
          "size": [
           14,
           14,
           14,
           14,
           14,
           14,
           14,
           14,
           14,
           14,
           14,
           14,
           14,
           14
          ],
          "sizemode": "area",
          "sizeref": 0.065
         },
         "mode": "markers",
         "name": "Unknown",
         "showlegend": true,
         "subplot": "mapbox",
         "type": "scattermapbox"
        },
        {
         "hovertemplate": "Facility Name=Nampo<br>Frequencies=%{marker.size}<br>Facility Latitude=%{lat}<br>Facility Longitude=%{lon}<extra></extra>",
         "lat": [
          "38.7523",
          "38.7523"
         ],
         "legendgroup": "Nampo",
         "lon": [
          "125.3247",
          "125.3247"
         ],
         "marker": {
          "color": "#EF553B",
          "size": [
           2,
           2
          ],
          "sizemode": "area",
          "sizeref": 0.065
         },
         "mode": "markers",
         "name": "Nampo",
         "showlegend": true,
         "subplot": "mapbox",
         "type": "scattermapbox"
        },
        {
         "hovertemplate": "Facility Name=Sinpo Shipyard<br>Frequencies=%{marker.size}<br>Facility Latitude=%{lat}<br>Facility Longitude=%{lon}<extra></extra>",
         "lat": [
          "40.0368",
          "40.0368",
          "40.0368",
          "40.0368",
          "40.0368",
          "40.0368",
          "40.0368",
          "40.0368",
          "40.0368",
          "40.0368"
         ],
         "legendgroup": "Sinpo Shipyard",
         "lon": [
          "128.1839",
          "128.1839",
          "128.1839",
          "128.1839",
          "128.1839",
          "128.1839",
          "128.1839",
          "128.1839",
          "128.1839",
          "128.1839"
         ],
         "marker": {
          "color": "#00cc96",
          "size": [
           10,
           10,
           10,
           10,
           10,
           10,
           10,
           10,
           10,
           10
          ],
          "sizemode": "area",
          "sizeref": 0.065
         },
         "mode": "markers",
         "name": "Sinpo Shipyard",
         "showlegend": true,
         "subplot": "mapbox",
         "type": "scattermapbox"
        },
        {
         "hovertemplate": "Facility Name=Panghyon Airbase<br>Frequencies=%{marker.size}<br>Facility Latitude=%{lat}<br>Facility Longitude=%{lon}<extra></extra>",
         "lat": [
          "39.927472",
          "39.927472"
         ],
         "legendgroup": "Panghyon Airbase",
         "lon": [
          "125.207889",
          "125.207889"
         ],
         "marker": {
          "color": "#ab63fa",
          "size": [
           2,
           2
          ],
          "sizemode": "area",
          "sizeref": 0.065
         },
         "mode": "markers",
         "name": "Panghyon Airbase",
         "showlegend": true,
         "subplot": "mapbox",
         "type": "scattermapbox"
        },
        {
         "hovertemplate": "Facility Name=Kusong Testing Ground<br>Frequencies=%{marker.size}<br>Facility Latitude=%{lat}<br>Facility Longitude=%{lon}<extra></extra>",
         "lat": [
          "40.01325"
         ],
         "legendgroup": "Kusong Testing Ground",
         "lon": [
          "125.22302"
         ],
         "marker": {
          "color": "#FFA15A",
          "size": [
           1
          ],
          "sizemode": "area",
          "sizeref": 0.065
         },
         "mode": "markers",
         "name": "Kusong Testing Ground",
         "showlegend": true,
         "subplot": "mapbox",
         "type": "scattermapbox"
        },
        {
         "hovertemplate": "Facility Name=Pukchang Airfield<br>Frequencies=%{marker.size}<br>Facility Latitude=%{lat}<br>Facility Longitude=%{lon}<extra></extra>",
         "lat": [
          "39.504417"
         ],
         "legendgroup": "Pukchang Airfield",
         "lon": [
          "125.964333"
         ],
         "marker": {
          "color": "#19d3f3",
          "size": [
           1
          ],
          "sizemode": "area",
          "sizeref": 0.065
         },
         "mode": "markers",
         "name": "Pukchang Airfield",
         "showlegend": true,
         "subplot": "mapbox",
         "type": "scattermapbox"
        },
        {
         "hovertemplate": "Facility Name=North Kusong Testing Ground<br>Frequencies=%{marker.size}<br>Facility Latitude=%{lat}<br>Facility Longitude=%{lon}<extra></extra>",
         "lat": [
          "40.0659"
         ],
         "legendgroup": "North Kusong Testing Ground",
         "lon": [
          "125.2099"
         ],
         "marker": {
          "color": "#FF6692",
          "size": [
           1
          ],
          "sizemode": "area",
          "sizeref": 0.065
         },
         "mode": "markers",
         "name": "North Kusong Testing Ground",
         "showlegend": true,
         "subplot": "mapbox",
         "type": "scattermapbox"
        },
        {
         "hovertemplate": "Facility Name=Lake Yonpung<br>Frequencies=%{marker.size}<br>Facility Latitude=%{lat}<br>Facility Longitude=%{lon}<extra></extra>",
         "lat": [
          "39.618283"
         ],
         "legendgroup": "Lake Yonpung",
         "lon": [
          "125.8035851"
         ],
         "marker": {
          "color": "#B6E880",
          "size": [
           1
          ],
          "sizemode": "area",
          "sizeref": 0.065
         },
         "mode": "markers",
         "name": "Lake Yonpung",
         "showlegend": true,
         "subplot": "mapbox",
         "type": "scattermapbox"
        },
        {
         "hovertemplate": "Facility Name=Panghyon<br>Frequencies=%{marker.size}<br>Facility Latitude=%{lat}<br>Facility Longitude=%{lon}<extra></extra>",
         "lat": [
          "39.872153"
         ],
         "legendgroup": "Panghyon",
         "lon": [
          "125.269192"
         ],
         "marker": {
          "color": "#FF97FF",
          "size": [
           1
          ],
          "sizemode": "area",
          "sizeref": 0.065
         },
         "mode": "markers",
         "name": "Panghyon",
         "showlegend": true,
         "subplot": "mapbox",
         "type": "scattermapbox"
        },
        {
         "hovertemplate": "Facility Name=Mupyong-ni Arms Plant<br>Frequencies=%{marker.size}<br>Facility Latitude=%{lat}<br>Facility Longitude=%{lon}<extra></extra>",
         "lat": [
          "40.611208",
          "40.611208",
          "40.611208",
          "40.611208",
          "40.611208",
          "40.611208"
         ],
         "legendgroup": "Mupyong-ni Arms Plant",
         "lon": [
          "126.425743",
          "126.425743",
          "126.425743",
          "126.425743",
          "126.425743",
          "126.425743"
         ],
         "marker": {
          "color": "#FECB52",
          "size": [
           6,
           6,
           6,
           6,
           6,
           6
          ],
          "sizemode": "area",
          "sizeref": 0.065
         },
         "mode": "markers",
         "name": "Mupyong-ni Arms Plant",
         "showlegend": true,
         "subplot": "mapbox",
         "type": "scattermapbox"
        },
        {
         "hovertemplate": "Facility Name=Pyongyang International Airport<br>Frequencies=%{marker.size}<br>Facility Latitude=%{lat}<br>Facility Longitude=%{lon}<extra></extra>",
         "lat": [
          "39.200159",
          "39.200159",
          "39.200159",
          "39.200159",
          "39.200159",
          "39.200159",
          "39.200159",
          "39.200159",
          "39.200159",
          "39.200159",
          "39.200159",
          "39.200159",
          "39.200159",
          "39.200159",
          "39.200159",
          "39.200159",
          "39.200159",
          "39.200159"
         ],
         "legendgroup": "Pyongyang International Airport",
         "lon": [
          "125.673256",
          "125.673256",
          "125.673256",
          "125.673256",
          "125.673256",
          "125.673256",
          "125.673256",
          "125.673256",
          "125.673256",
          "125.673256",
          "125.673256",
          "125.673256",
          "125.673256",
          "125.673256",
          "125.673256",
          "125.673256",
          "125.673256",
          "125.673256"
         ],
         "marker": {
          "color": "#636efa",
          "size": [
           18,
           18,
           18,
           18,
           18,
           18,
           18,
           18,
           18,
           18,
           18,
           18,
           18,
           18,
           18,
           18,
           18,
           18
          ],
          "sizemode": "area",
          "sizeref": 0.065
         },
         "mode": "markers",
         "name": "Pyongyang International Airport",
         "showlegend": true,
         "subplot": "mapbox",
         "type": "scattermapbox"
        },
        {
         "hovertemplate": "Facility Name=Pyongsong Field<br>Frequencies=%{marker.size}<br>Facility Latitude=%{lat}<br>Facility Longitude=%{lon}<extra></extra>",
         "lat": [
          "39.282"
         ],
         "legendgroup": "Pyongsong Field",
         "lon": [
          "125.869"
         ],
         "marker": {
          "color": "#EF553B",
          "size": [
           1
          ],
          "sizemode": "area",
          "sizeref": 0.065
         },
         "mode": "markers",
         "name": "Pyongsong Field",
         "showlegend": true,
         "subplot": "mapbox",
         "type": "scattermapbox"
        },
        {
         "hovertemplate": "Facility Name=Baegun<br>Frequencies=%{marker.size}<br>Facility Latitude=%{lat}<br>Facility Longitude=%{lon}<extra></extra>",
         "lat": [
          "40.029678",
          "40.029678"
         ],
         "legendgroup": "Baegun",
         "lon": [
          "125.227326",
          "125.227326"
         ],
         "marker": {
          "color": "#00cc96",
          "size": [
           2,
           2
          ],
          "sizemode": "area",
          "sizeref": 0.065
         },
         "mode": "markers",
         "name": "Baegun",
         "showlegend": true,
         "subplot": "mapbox",
         "type": "scattermapbox"
        },
        {
         "hovertemplate": "Facility Name=Kwail Airbase<br>Frequencies=%{marker.size}<br>Facility Latitude=%{lat}<br>Facility Longitude=%{lon}<extra></extra>",
         "lat": [
          "38.421522",
          "38.421522"
         ],
         "legendgroup": "Kwail Airbase",
         "lon": [
          "125.024421",
          "125.024421"
         ],
         "marker": {
          "color": "#ab63fa",
          "size": [
           2,
           2
          ],
          "sizemode": "area",
          "sizeref": 0.065
         },
         "mode": "markers",
         "name": "Kwail Airbase",
         "showlegend": true,
         "subplot": "mapbox",
         "type": "scattermapbox"
        },
        {
         "hovertemplate": "Facility Name=Hungnam<br>Frequencies=%{marker.size}<br>Facility Latitude=%{lat}<br>Facility Longitude=%{lon}<extra></extra>",
         "lat": [
          "39.811611",
          "39.811611",
          "39.811611",
          "39.811611",
          "39.811611",
          "39.811611"
         ],
         "legendgroup": "Hungnam",
         "lon": [
          "127.66375",
          "127.66375",
          "127.66375",
          "127.66375",
          "127.66375",
          "127.66375"
         ],
         "marker": {
          "color": "#FFA15A",
          "size": [
           6,
           6,
           6,
           6,
           6,
           6
          ],
          "sizemode": "area",
          "sizeref": 0.065
         },
         "mode": "markers",
         "name": "Hungnam",
         "showlegend": true,
         "subplot": "mapbox",
         "type": "scattermapbox"
        },
        {
         "hovertemplate": "Facility Name=Tongchan<br>Frequencies=%{marker.size}<br>Facility Latitude=%{lat}<br>Facility Longitude=%{lon}<extra></extra>",
         "lat": [
          "38.953797",
          "38.953797",
          "38.953797",
          "38.953797"
         ],
         "legendgroup": "Tongchan",
         "lon": [
          "127.891882",
          "127.891882",
          "127.891882",
          "127.891882"
         ],
         "marker": {
          "color": "#19d3f3",
          "size": [
           4,
           4,
           4,
           4
          ],
          "sizemode": "area",
          "sizeref": 0.065
         },
         "mode": "markers",
         "name": "Tongchan",
         "showlegend": true,
         "subplot": "mapbox",
         "type": "scattermapbox"
        },
        {
         "hovertemplate": "Facility Name=Sondok Airbase<br>Frequencies=%{marker.size}<br>Facility Latitude=%{lat}<br>Facility Longitude=%{lon}<extra></extra>",
         "lat": [
          "39.7437",
          "39.7437",
          "39.7437"
         ],
         "legendgroup": "Sondok Airbase",
         "lon": [
          "127.4732",
          "127.4732",
          "127.4732"
         ],
         "marker": {
          "color": "#FF6692",
          "size": [
           3,
           3,
           3
          ],
          "sizemode": "area",
          "sizeref": 0.065
         },
         "mode": "markers",
         "name": "Sondok Airbase",
         "showlegend": true,
         "subplot": "mapbox",
         "type": "scattermapbox"
        },
        {
         "hovertemplate": "Facility Name=Kaechon Air Base<br>Frequencies=%{marker.size}<br>Facility Latitude=%{lat}<br>Facility Longitude=%{lon}<extra></extra>",
         "lat": [
          "39.752321",
          "39.752321",
          "39.752321",
          "39.752321",
          "39.752321"
         ],
         "legendgroup": "Kaechon Air Base",
         "lon": [
          "125.899905",
          "125.899905",
          "125.899905",
          "125.899905",
          "125.899905"
         ],
         "marker": {
          "color": "#B6E880",
          "size": [
           5,
           5,
           5,
           5,
           5
          ],
          "sizemode": "area",
          "sizeref": 0.065
         },
         "mode": "markers",
         "name": "Kaechon Air Base",
         "showlegend": true,
         "subplot": "mapbox",
         "type": "scattermapbox"
        },
        {
         "hovertemplate": "Facility Name=Yonghung Bay<br>Frequencies=%{marker.size}<br>Facility Latitude=%{lat}<br>Facility Longitude=%{lon}<extra></extra>",
         "lat": [
          "39.26"
         ],
         "legendgroup": "Yonghung Bay",
         "lon": [
          "127.58"
         ],
         "marker": {
          "color": "#FF97FF",
          "size": [
           1
          ],
          "sizemode": "area",
          "sizeref": 0.065
         },
         "mode": "markers",
         "name": "Yonghung Bay",
         "showlegend": true,
         "subplot": "mapbox",
         "type": "scattermapbox"
        },
        {
         "hovertemplate": "Facility Name=Yonpo Airport<br>Frequencies=%{marker.size}<br>Facility Latitude=%{lat}<br>Facility Longitude=%{lon}<extra></extra>",
         "lat": [
          "39.78938",
          "39.78938",
          "39.78938"
         ],
         "legendgroup": "Yonpo Airport",
         "lon": [
          "127.53993",
          "127.53993",
          "127.53993"
         ],
         "marker": {
          "color": "#FECB52",
          "size": [
           3,
           3,
           3
          ],
          "sizemode": "area",
          "sizeref": 0.065
         },
         "mode": "markers",
         "name": "Yonpo Airport",
         "showlegend": true,
         "subplot": "mapbox",
         "type": "scattermapbox"
        },
        {
         "hovertemplate": "Facility Name=Sangum-ri<br>Frequencies=%{marker.size}<br>Facility Latitude=%{lat}<br>Facility Longitude=%{lon}<extra></extra>",
         "lat": [
          "39.141",
          "39.141"
         ],
         "legendgroup": "Sangum-ri",
         "lon": [
          "127.616",
          "127.616"
         ],
         "marker": {
          "color": "#636efa",
          "size": [
           2,
           2
          ],
          "sizemode": "area",
          "sizeref": 0.065
         },
         "mode": "markers",
         "name": "Sangum-ri",
         "showlegend": true,
         "subplot": "mapbox",
         "type": "scattermapbox"
        },
        {
         "hovertemplate": "Facility Name=Sondok<br>Frequencies=%{marker.size}<br>Facility Latitude=%{lat}<br>Facility Longitude=%{lon}<extra></extra>",
         "lat": [
          "39.743",
          "39.743",
          "39.743"
         ],
         "legendgroup": "Sondok",
         "lon": [
          "127.499",
          "127.499",
          "127.499"
         ],
         "marker": {
          "color": "#EF553B",
          "size": [
           3,
           3,
           3
          ],
          "sizemode": "area",
          "sizeref": 0.065
         },
         "mode": "markers",
         "name": "Sondok",
         "showlegend": true,
         "subplot": "mapbox",
         "type": "scattermapbox"
        },
        {
         "hovertemplate": "Facility Name=Sunchon<br>Frequencies=%{marker.size}<br>Facility Latitude=%{lat}<br>Facility Longitude=%{lon}<extra></extra>",
         "lat": [
          "39.4163",
          "39.4163",
          "39.4163",
          "39.4163"
         ],
         "legendgroup": "Sunchon",
         "lon": [
          "125.8907",
          "125.8907",
          "125.8907",
          "125.8907"
         ],
         "marker": {
          "color": "#00cc96",
          "size": [
           4,
           4,
           4,
           4
          ],
          "sizemode": "area",
          "sizeref": 0.065
         },
         "mode": "markers",
         "name": "Sunchon",
         "showlegend": true,
         "subplot": "mapbox",
         "type": "scattermapbox"
        },
        {
         "hovertemplate": "Facility Name=Yangdok<br>Frequencies=%{marker.size}<br>Facility Latitude=%{lat}<br>Facility Longitude=%{lon}<extra></extra>",
         "lat": [
          "39.275721",
          "39.275721"
         ],
         "legendgroup": "Yangdok",
         "lon": [
          "126.804867",
          "126.804867"
         ],
         "marker": {
          "color": "#ab63fa",
          "size": [
           2,
           2
          ],
          "sizemode": "area",
          "sizeref": 0.065
         },
         "mode": "markers",
         "name": "Yangdok",
         "showlegend": true,
         "subplot": "mapbox",
         "type": "scattermapbox"
        },
        {
         "hovertemplate": "Facility Name=Uiju<br>Frequencies=%{marker.size}<br>Facility Latitude=%{lat}<br>Facility Longitude=%{lon}<extra></extra>",
         "lat": [
          "40.025847",
          "40.025847",
          "40.025847",
          "40.025847",
          "40.025847",
          "40.025847"
         ],
         "legendgroup": "Uiju",
         "lon": [
          "124.577936",
          "124.577936",
          "124.577936",
          "124.577936",
          "124.577936",
          "124.577936"
         ],
         "marker": {
          "color": "#FFA15A",
          "size": [
           6,
           6,
           6,
           6,
           6,
           6
          ],
          "sizemode": "area",
          "sizeref": 0.065
         },
         "mode": "markers",
         "name": "Uiju",
         "showlegend": true,
         "subplot": "mapbox",
         "type": "scattermapbox"
        },
        {
         "hovertemplate": "Facility Name=Taechon Reservoir<br>Frequencies=%{marker.size}<br>Facility Latitude=%{lat}<br>Facility Longitude=%{lon}<extra></extra>",
         "lat": [
          "39.9857"
         ],
         "legendgroup": "Taechon Reservoir",
         "lon": [
          "125.5186"
         ],
         "marker": {
          "color": "#19d3f3",
          "size": [
           1
          ],
          "sizemode": "area",
          "sizeref": 0.065
         },
         "mode": "markers",
         "name": "Taechon Reservoir",
         "showlegend": true,
         "subplot": "mapbox",
         "type": "scattermapbox"
        },
        {
         "hovertemplate": "Facility Name=Sunan<br>Frequencies=%{marker.size}<br>Facility Latitude=%{lat}<br>Facility Longitude=%{lon}<extra></extra>",
         "lat": [
          "39.20299",
          "39.20299",
          "39.20299",
          "39.20299",
          "39.20299",
          "39.20299"
         ],
         "legendgroup": "Sunan",
         "lon": [
          "125.70926",
          "125.70926",
          "125.70926",
          "125.70926",
          "125.70926",
          "125.70926"
         ],
         "marker": {
          "color": "#FF6692",
          "size": [
           6,
           6,
           6,
           6,
           6,
           6
          ],
          "sizemode": "area",
          "sizeref": 0.065
         },
         "mode": "markers",
         "name": "Sunan",
         "showlegend": true,
         "subplot": "mapbox",
         "type": "scattermapbox"
        },
        {
         "hovertemplate": "Facility Name=West Sunan<br>Frequencies=%{marker.size}<br>Facility Latitude=%{lat}<br>Facility Longitude=%{lon}<extra></extra>",
         "lat": [
          "39.3942",
          "39.3942"
         ],
         "legendgroup": "West Sunan",
         "lon": [
          "125.6773",
          "125.6773"
         ],
         "marker": {
          "color": "#B6E880",
          "size": [
           2,
           2
          ],
          "sizemode": "area",
          "sizeref": 0.065
         },
         "mode": "markers",
         "name": "West Sunan",
         "showlegend": true,
         "subplot": "mapbox",
         "type": "scattermapbox"
        },
        {
         "hovertemplate": "Facility Name=Samsok<br>Frequencies=%{marker.size}<br>Facility Latitude=%{lat}<br>Facility Longitude=%{lon}<extra></extra>",
         "lat": [
          "39.1268",
          "39.1268"
         ],
         "legendgroup": "Samsok",
         "lon": [
          "125.9579",
          "125.9579"
         ],
         "marker": {
          "color": "#FF97FF",
          "size": [
           2,
           2
          ],
          "sizemode": "area",
          "sizeref": 0.065
         },
         "mode": "markers",
         "name": "Samsok",
         "showlegend": true,
         "subplot": "mapbox",
         "type": "scattermapbox"
        },
        {
         "hovertemplate": "Facility Name=Munchon<br>Frequencies=%{marker.size}<br>Facility Latitude=%{lat}<br>Facility Longitude=%{lon}<extra></extra>",
         "lat": [
          "39.2815",
          "39.2815"
         ],
         "legendgroup": "Munchon",
         "lon": [
          "127.377",
          "127.377"
         ],
         "marker": {
          "color": "#FECB52",
          "size": [
           2,
           2
          ],
          "sizemode": "area",
          "sizeref": 0.065
         },
         "mode": "markers",
         "name": "Munchon",
         "showlegend": true,
         "subplot": "mapbox",
         "type": "scattermapbox"
        },
        {
         "hovertemplate": "Facility Name=Koksan<br>Frequencies=%{marker.size}<br>Facility Latitude=%{lat}<br>Facility Longitude=%{lon}<extra></extra>",
         "lat": [
          "38.78",
          "38.78",
          "38.78"
         ],
         "legendgroup": "Koksan",
         "lon": [
          "126.67",
          "126.67",
          "126.67"
         ],
         "marker": {
          "color": "#636efa",
          "size": [
           3,
           3,
           3
          ],
          "sizemode": "area",
          "sizeref": 0.065
         },
         "mode": "markers",
         "name": "Koksan",
         "showlegend": true,
         "subplot": "mapbox",
         "type": "scattermapbox"
        },
        {
         "hovertemplate": "Facility Name=Sukchon<br>Frequencies=%{marker.size}<br>Facility Latitude=%{lat}<br>Facility Longitude=%{lon}<extra></extra>",
         "lat": [
          "39.42",
          "39.42",
          "39.42"
         ],
         "legendgroup": "Sukchon",
         "lon": [
          "125.63",
          "125.63",
          "125.63"
         ],
         "marker": {
          "color": "#EF553B",
          "size": [
           3,
           3,
           3
          ],
          "sizemode": "area",
          "sizeref": 0.065
         },
         "mode": "markers",
         "name": "Sukchon",
         "showlegend": true,
         "subplot": "mapbox",
         "type": "scattermapbox"
        },
        {
         "hovertemplate": "Facility Name=Chunghwa County<br>Frequencies=%{marker.size}<br>Facility Latitude=%{lat}<br>Facility Longitude=%{lon}<extra></extra>",
         "lat": [
          "38.875",
          "38.875",
          "38.875",
          "38.875",
          "38.875"
         ],
         "legendgroup": "Chunghwa County",
         "lon": [
          "125.926",
          "125.926",
          "125.926",
          "125.926",
          "125.926"
         ],
         "marker": {
          "color": "#00cc96",
          "size": [
           5,
           5,
           5,
           5,
           5
          ],
          "sizemode": "area",
          "sizeref": 0.065
         },
         "mode": "markers",
         "name": "Chunghwa County",
         "showlegend": true,
         "subplot": "mapbox",
         "type": "scattermapbox"
        },
        {
         "hovertemplate": "Facility Name=Lake Taesong<br>Frequencies=%{marker.size}<br>Facility Latitude=%{lat}<br>Facility Longitude=%{lon}<extra></extra>",
         "lat": [
          "38.907",
          "38.907",
          "38.907",
          "38.907",
          "38.907",
          "38.907"
         ],
         "legendgroup": "Lake Taesong",
         "lon": [
          "125.44",
          "125.44",
          "125.44",
          "125.44",
          "125.44",
          "125.44"
         ],
         "marker": {
          "color": "#ab63fa",
          "size": [
           6,
           6,
           6,
           6,
           6,
           6
          ],
          "sizemode": "area",
          "sizeref": 0.065
         },
         "mode": "markers",
         "name": "Lake Taesong",
         "showlegend": true,
         "subplot": "mapbox",
         "type": "scattermapbox"
        },
        {
         "hovertemplate": "Facility Name=Jangyon<br>Frequencies=%{marker.size}<br>Facility Latitude=%{lat}<br>Facility Longitude=%{lon}<extra></extra>",
         "lat": [
          "38.275",
          "38.275"
         ],
         "legendgroup": "Jangyon",
         "lon": [
          "125.071",
          "125.071"
         ],
         "marker": {
          "color": "#FFA15A",
          "size": [
           2,
           2
          ],
          "sizemode": "area",
          "sizeref": 0.065
         },
         "mode": "markers",
         "name": "Jangyon",
         "showlegend": true,
         "subplot": "mapbox",
         "type": "scattermapbox"
        },
        {
         "hovertemplate": "Facility Name=Samsok ICBM test site<br>Frequencies=%{marker.size}<br>Facility Latitude=%{lat}<br>Facility Longitude=%{lon}<extra></extra>",
         "lat": [
          "39.112"
         ],
         "legendgroup": "Samsok ICBM test site",
         "lon": [
          "125.998"
         ],
         "marker": {
          "color": "#19d3f3",
          "size": [
           1
          ],
          "sizemode": "area",
          "sizeref": 0.065
         },
         "mode": "markers",
         "name": "Samsok ICBM test site",
         "showlegend": true,
         "subplot": "mapbox",
         "type": "scattermapbox"
        }
       ],
       "layout": {
        "height": 800,
        "legend": {
         "itemsizing": "constant",
         "title": {
          "text": "Facility Name"
         },
         "tracegroupgap": 0
        },
        "mapbox": {
         "center": {
          "lat": 39.17180415583127,
          "lon": 126.551952046587
         },
         "domain": {
          "x": [
           0,
           1
          ],
          "y": [
           0,
           1
          ]
         },
         "style": "carto-positron",
         "zoom": 6
        },
        "margin": {
         "autoexpand": true
        },
        "template": {
         "data": {
          "bar": [
           {
            "error_x": {
             "color": "#2a3f5f"
            },
            "error_y": {
             "color": "#2a3f5f"
            },
            "marker": {
             "line": {
              "color": "#E5ECF6",
              "width": 0.5
             },
             "pattern": {
              "fillmode": "overlay",
              "size": 10,
              "solidity": 0.2
             }
            },
            "type": "bar"
           }
          ],
          "barpolar": [
           {
            "marker": {
             "line": {
              "color": "#E5ECF6",
              "width": 0.5
             },
             "pattern": {
              "fillmode": "overlay",
              "size": 10,
              "solidity": 0.2
             }
            },
            "type": "barpolar"
           }
          ],
          "carpet": [
           {
            "aaxis": {
             "endlinecolor": "#2a3f5f",
             "gridcolor": "white",
             "linecolor": "white",
             "minorgridcolor": "white",
             "startlinecolor": "#2a3f5f"
            },
            "baxis": {
             "endlinecolor": "#2a3f5f",
             "gridcolor": "white",
             "linecolor": "white",
             "minorgridcolor": "white",
             "startlinecolor": "#2a3f5f"
            },
            "type": "carpet"
           }
          ],
          "choropleth": [
           {
            "colorbar": {
             "outlinewidth": 0,
             "ticks": ""
            },
            "type": "choropleth"
           }
          ],
          "contour": [
           {
            "colorbar": {
             "outlinewidth": 0,
             "ticks": ""
            },
            "colorscale": [
             [
              0,
              "#0d0887"
             ],
             [
              0.1111111111111111,
              "#46039f"
             ],
             [
              0.2222222222222222,
              "#7201a8"
             ],
             [
              0.3333333333333333,
              "#9c179e"
             ],
             [
              0.4444444444444444,
              "#bd3786"
             ],
             [
              0.5555555555555556,
              "#d8576b"
             ],
             [
              0.6666666666666666,
              "#ed7953"
             ],
             [
              0.7777777777777778,
              "#fb9f3a"
             ],
             [
              0.8888888888888888,
              "#fdca26"
             ],
             [
              1,
              "#f0f921"
             ]
            ],
            "type": "contour"
           }
          ],
          "contourcarpet": [
           {
            "colorbar": {
             "outlinewidth": 0,
             "ticks": ""
            },
            "type": "contourcarpet"
           }
          ],
          "heatmap": [
           {
            "colorbar": {
             "outlinewidth": 0,
             "ticks": ""
            },
            "colorscale": [
             [
              0,
              "#0d0887"
             ],
             [
              0.1111111111111111,
              "#46039f"
             ],
             [
              0.2222222222222222,
              "#7201a8"
             ],
             [
              0.3333333333333333,
              "#9c179e"
             ],
             [
              0.4444444444444444,
              "#bd3786"
             ],
             [
              0.5555555555555556,
              "#d8576b"
             ],
             [
              0.6666666666666666,
              "#ed7953"
             ],
             [
              0.7777777777777778,
              "#fb9f3a"
             ],
             [
              0.8888888888888888,
              "#fdca26"
             ],
             [
              1,
              "#f0f921"
             ]
            ],
            "type": "heatmap"
           }
          ],
          "heatmapgl": [
           {
            "colorbar": {
             "outlinewidth": 0,
             "ticks": ""
            },
            "colorscale": [
             [
              0,
              "#0d0887"
             ],
             [
              0.1111111111111111,
              "#46039f"
             ],
             [
              0.2222222222222222,
              "#7201a8"
             ],
             [
              0.3333333333333333,
              "#9c179e"
             ],
             [
              0.4444444444444444,
              "#bd3786"
             ],
             [
              0.5555555555555556,
              "#d8576b"
             ],
             [
              0.6666666666666666,
              "#ed7953"
             ],
             [
              0.7777777777777778,
              "#fb9f3a"
             ],
             [
              0.8888888888888888,
              "#fdca26"
             ],
             [
              1,
              "#f0f921"
             ]
            ],
            "type": "heatmapgl"
           }
          ],
          "histogram": [
           {
            "marker": {
             "pattern": {
              "fillmode": "overlay",
              "size": 10,
              "solidity": 0.2
             }
            },
            "type": "histogram"
           }
          ],
          "histogram2d": [
           {
            "colorbar": {
             "outlinewidth": 0,
             "ticks": ""
            },
            "colorscale": [
             [
              0,
              "#0d0887"
             ],
             [
              0.1111111111111111,
              "#46039f"
             ],
             [
              0.2222222222222222,
              "#7201a8"
             ],
             [
              0.3333333333333333,
              "#9c179e"
             ],
             [
              0.4444444444444444,
              "#bd3786"
             ],
             [
              0.5555555555555556,
              "#d8576b"
             ],
             [
              0.6666666666666666,
              "#ed7953"
             ],
             [
              0.7777777777777778,
              "#fb9f3a"
             ],
             [
              0.8888888888888888,
              "#fdca26"
             ],
             [
              1,
              "#f0f921"
             ]
            ],
            "type": "histogram2d"
           }
          ],
          "histogram2dcontour": [
           {
            "colorbar": {
             "outlinewidth": 0,
             "ticks": ""
            },
            "colorscale": [
             [
              0,
              "#0d0887"
             ],
             [
              0.1111111111111111,
              "#46039f"
             ],
             [
              0.2222222222222222,
              "#7201a8"
             ],
             [
              0.3333333333333333,
              "#9c179e"
             ],
             [
              0.4444444444444444,
              "#bd3786"
             ],
             [
              0.5555555555555556,
              "#d8576b"
             ],
             [
              0.6666666666666666,
              "#ed7953"
             ],
             [
              0.7777777777777778,
              "#fb9f3a"
             ],
             [
              0.8888888888888888,
              "#fdca26"
             ],
             [
              1,
              "#f0f921"
             ]
            ],
            "type": "histogram2dcontour"
           }
          ],
          "mesh3d": [
           {
            "colorbar": {
             "outlinewidth": 0,
             "ticks": ""
            },
            "type": "mesh3d"
           }
          ],
          "parcoords": [
           {
            "line": {
             "colorbar": {
              "outlinewidth": 0,
              "ticks": ""
             }
            },
            "type": "parcoords"
           }
          ],
          "pie": [
           {
            "automargin": true,
            "type": "pie"
           }
          ],
          "scatter": [
           {
            "fillpattern": {
             "fillmode": "overlay",
             "size": 10,
             "solidity": 0.2
            },
            "type": "scatter"
           }
          ],
          "scatter3d": [
           {
            "line": {
             "colorbar": {
              "outlinewidth": 0,
              "ticks": ""
             }
            },
            "marker": {
             "colorbar": {
              "outlinewidth": 0,
              "ticks": ""
             }
            },
            "type": "scatter3d"
           }
          ],
          "scattercarpet": [
           {
            "marker": {
             "colorbar": {
              "outlinewidth": 0,
              "ticks": ""
             }
            },
            "type": "scattercarpet"
           }
          ],
          "scattergeo": [
           {
            "marker": {
             "colorbar": {
              "outlinewidth": 0,
              "ticks": ""
             }
            },
            "type": "scattergeo"
           }
          ],
          "scattergl": [
           {
            "marker": {
             "colorbar": {
              "outlinewidth": 0,
              "ticks": ""
             }
            },
            "type": "scattergl"
           }
          ],
          "scattermapbox": [
           {
            "marker": {
             "colorbar": {
              "outlinewidth": 0,
              "ticks": ""
             }
            },
            "type": "scattermapbox"
           }
          ],
          "scatterpolar": [
           {
            "marker": {
             "colorbar": {
              "outlinewidth": 0,
              "ticks": ""
             }
            },
            "type": "scatterpolar"
           }
          ],
          "scatterpolargl": [
           {
            "marker": {
             "colorbar": {
              "outlinewidth": 0,
              "ticks": ""
             }
            },
            "type": "scatterpolargl"
           }
          ],
          "scatterternary": [
           {
            "marker": {
             "colorbar": {
              "outlinewidth": 0,
              "ticks": ""
             }
            },
            "type": "scatterternary"
           }
          ],
          "surface": [
           {
            "colorbar": {
             "outlinewidth": 0,
             "ticks": ""
            },
            "colorscale": [
             [
              0,
              "#0d0887"
             ],
             [
              0.1111111111111111,
              "#46039f"
             ],
             [
              0.2222222222222222,
              "#7201a8"
             ],
             [
              0.3333333333333333,
              "#9c179e"
             ],
             [
              0.4444444444444444,
              "#bd3786"
             ],
             [
              0.5555555555555556,
              "#d8576b"
             ],
             [
              0.6666666666666666,
              "#ed7953"
             ],
             [
              0.7777777777777778,
              "#fb9f3a"
             ],
             [
              0.8888888888888888,
              "#fdca26"
             ],
             [
              1,
              "#f0f921"
             ]
            ],
            "type": "surface"
           }
          ],
          "table": [
           {
            "cells": {
             "fill": {
              "color": "#EBF0F8"
             },
             "line": {
              "color": "white"
             }
            },
            "header": {
             "fill": {
              "color": "#C8D4E3"
             },
             "line": {
              "color": "white"
             }
            },
            "type": "table"
           }
          ]
         },
         "layout": {
          "annotationdefaults": {
           "arrowcolor": "#2a3f5f",
           "arrowhead": 0,
           "arrowwidth": 1
          },
          "autotypenumbers": "strict",
          "coloraxis": {
           "colorbar": {
            "outlinewidth": 0,
            "ticks": ""
           }
          },
          "colorscale": {
           "diverging": [
            [
             0,
             "#8e0152"
            ],
            [
             0.1,
             "#c51b7d"
            ],
            [
             0.2,
             "#de77ae"
            ],
            [
             0.3,
             "#f1b6da"
            ],
            [
             0.4,
             "#fde0ef"
            ],
            [
             0.5,
             "#f7f7f7"
            ],
            [
             0.6,
             "#e6f5d0"
            ],
            [
             0.7,
             "#b8e186"
            ],
            [
             0.8,
             "#7fbc41"
            ],
            [
             0.9,
             "#4d9221"
            ],
            [
             1,
             "#276419"
            ]
           ],
           "sequential": [
            [
             0,
             "#0d0887"
            ],
            [
             0.1111111111111111,
             "#46039f"
            ],
            [
             0.2222222222222222,
             "#7201a8"
            ],
            [
             0.3333333333333333,
             "#9c179e"
            ],
            [
             0.4444444444444444,
             "#bd3786"
            ],
            [
             0.5555555555555556,
             "#d8576b"
            ],
            [
             0.6666666666666666,
             "#ed7953"
            ],
            [
             0.7777777777777778,
             "#fb9f3a"
            ],
            [
             0.8888888888888888,
             "#fdca26"
            ],
            [
             1,
             "#f0f921"
            ]
           ],
           "sequentialminus": [
            [
             0,
             "#0d0887"
            ],
            [
             0.1111111111111111,
             "#46039f"
            ],
            [
             0.2222222222222222,
             "#7201a8"
            ],
            [
             0.3333333333333333,
             "#9c179e"
            ],
            [
             0.4444444444444444,
             "#bd3786"
            ],
            [
             0.5555555555555556,
             "#d8576b"
            ],
            [
             0.6666666666666666,
             "#ed7953"
            ],
            [
             0.7777777777777778,
             "#fb9f3a"
            ],
            [
             0.8888888888888888,
             "#fdca26"
            ],
            [
             1,
             "#f0f921"
            ]
           ]
          },
          "colorway": [
           "#636efa",
           "#EF553B",
           "#00cc96",
           "#ab63fa",
           "#FFA15A",
           "#19d3f3",
           "#FF6692",
           "#B6E880",
           "#FF97FF",
           "#FECB52"
          ],
          "font": {
           "color": "#2a3f5f"
          },
          "geo": {
           "bgcolor": "white",
           "lakecolor": "white",
           "landcolor": "#E5ECF6",
           "showlakes": true,
           "showland": true,
           "subunitcolor": "white"
          },
          "hoverlabel": {
           "align": "left"
          },
          "hovermode": "closest",
          "mapbox": {
           "style": "light"
          },
          "paper_bgcolor": "white",
          "plot_bgcolor": "#E5ECF6",
          "polar": {
           "angularaxis": {
            "gridcolor": "white",
            "linecolor": "white",
            "ticks": ""
           },
           "bgcolor": "#E5ECF6",
           "radialaxis": {
            "gridcolor": "white",
            "linecolor": "white",
            "ticks": ""
           }
          },
          "scene": {
           "xaxis": {
            "backgroundcolor": "#E5ECF6",
            "gridcolor": "white",
            "gridwidth": 2,
            "linecolor": "white",
            "showbackground": true,
            "ticks": "",
            "zerolinecolor": "white"
           },
           "yaxis": {
            "backgroundcolor": "#E5ECF6",
            "gridcolor": "white",
            "gridwidth": 2,
            "linecolor": "white",
            "showbackground": true,
            "ticks": "",
            "zerolinecolor": "white"
           },
           "zaxis": {
            "backgroundcolor": "#E5ECF6",
            "gridcolor": "white",
            "gridwidth": 2,
            "linecolor": "white",
            "showbackground": true,
            "ticks": "",
            "zerolinecolor": "white"
           }
          },
          "shapedefaults": {
           "line": {
            "color": "#2a3f5f"
           }
          },
          "ternary": {
           "aaxis": {
            "gridcolor": "white",
            "linecolor": "white",
            "ticks": ""
           },
           "baxis": {
            "gridcolor": "white",
            "linecolor": "white",
            "ticks": ""
           },
           "bgcolor": "#E5ECF6",
           "caxis": {
            "gridcolor": "white",
            "linecolor": "white",
            "ticks": ""
           }
          },
          "title": {
           "x": 0.05
          },
          "xaxis": {
           "automargin": true,
           "gridcolor": "white",
           "linecolor": "white",
           "ticks": "",
           "title": {
            "standoff": 15
           },
           "zerolinecolor": "white",
           "zerolinewidth": 2
          },
          "yaxis": {
           "automargin": true,
           "gridcolor": "white",
           "linecolor": "white",
           "ticks": "",
           "title": {
            "standoff": 15
           },
           "zerolinecolor": "white",
           "zerolinewidth": 2
          }
         }
        },
        "title": {
         "font": {
          "family": "Arial",
          "size": 25
         },
         "text": "DPRK Nuclear Facility Locations"
        },
        "width": 1200
       }
      }
     },
     "metadata": {},
     "output_type": "display_data"
    }
   ],
   "source": [
    "stats['Frequencies'] = stats['Facility Name'].map(facility_frequencies)\n",
    "\n",
    "\n",
    "map_fig2 = px.scatter_mapbox(stats, lat = 'Facility Latitude', lon = 'Facility Longitude', \n",
    "                             color = stats['Facility Name'],\n",
    "                             size = 'Frequencies',  # Column containing frequencies\n",
    "                             zoom = 6,\n",
    "                             center={'lat': 39.17180415583127, 'lon': 126.551952046587},\n",
    "                             width = 1200,\n",
    "                             height = 800,\n",
    "                             title = 'DPRK Nuclear Facility Locations')\n",
    "\n",
    "map_fig2.update_layout(mapbox_style=\"carto-positron\", title_font_size=25, title_font_family=\"Arial\")\n",
    "#map_fig2.update_layout(margin={\"r\":10, \"t\":50, \"l\":0, \"b\":10})\n",
    "map_fig2.update_layout(margin_autoexpand=True)"
   ]
  }
 ],
 "metadata": {
  "kernelspec": {
   "display_name": "base",
   "language": "python",
   "name": "python3"
  },
  "language_info": {
   "codemirror_mode": {
    "name": "ipython",
    "version": 3
   },
   "file_extension": ".py",
   "mimetype": "text/x-python",
   "name": "python",
   "nbconvert_exporter": "python",
   "pygments_lexer": "ipython3",
   "version": "3.10.11"
  },
  "orig_nbformat": 4
 },
 "nbformat": 4,
 "nbformat_minor": 2
}
