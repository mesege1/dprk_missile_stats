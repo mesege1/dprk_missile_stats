{
 "cells": [
  {
   "cell_type": "markdown",
   "metadata": {},
   "source": [
    "Import libraries"
   ]
  },
  {
   "cell_type": "code",
   "execution_count": 1,
   "metadata": {},
   "outputs": [],
   "source": [
    "%matplotlib inline\n",
    "import numpy as np\n",
    "import plotly.express as px\n",
    "import pandas as pd\n",
    "import matplotlib.pyplot as plt\n",
    "import requests\n",
    "import descartes\n",
    "import calendar\n",
    "import seaborn as sns\n",
    "import matplotlib"
   ]
  },
  {
   "cell_type": "markdown",
   "metadata": {},
   "source": [
    "Import data"
   ]
  },
  {
   "cell_type": "code",
   "execution_count": 2,
   "metadata": {},
   "outputs": [],
   "source": [
    "# Loading data (https://www.nti.org/analysis/articles/cns-north-korea-missile-test-database/). Encoding problem solved with 'unicode_escape'.\n",
    "df = pd.read_csv('../data/north_korea_missile_test_database.csv', encoding= 'unicode_escape', index_col= \"F1\")\n",
    "# Dropping unused columns.\n",
    "df = df.drop(columns=['Launch Agency/Authority', 'Other Name', 'Additional Information', 'Source(s)', 'Launch Time (UTC)', 'Date Entered/Updated', 'Apogee'])"
   ]
  },
  {
   "cell_type": "markdown",
   "metadata": {},
   "source": [
    "Cleaning data"
   ]
  },
  {
   "cell_type": "code",
   "execution_count": 3,
   "metadata": {},
   "outputs": [],
   "source": [
    "# Changing formats (str to int or float)\n",
    "df['Distance Travelled'] = df['Distance Travelled'].apply(lambda x: x.replace('km', '') if isinstance(x, str) else x)\n",
    "# And then, convert 'Unkown' values to numerics.\n",
    "df['Distance Travelled'] = df['Distance Travelled'].replace('Unknown', 'NaN') \n",
    "# Finally, I can change it to numeric pandas table.\n",
    "df['Distance Travelled'] = pd.to_numeric(df['Distance Travelled'], errors='coerce').fillna(0)\n",
    "df['Landing Location'] = df['Landing Location'].apply(lambda x: x.replace('330km east of Hachinohe and 4000 km out into Pacific Ocean', '330km east of Hachinohe') if isinstance(x, str) else x)\n",
    "# Changing 'location' data\n",
    "df['Facility Latitude'] = pd.to_numeric(df['Facility Latitude'], errors='coerce')\n",
    "df['Facility Longitude'] = pd.to_numeric(df['Facility Longitude'], errors='coerce')\n",
    "# Date changes\n",
    "df['Date'] = pd.to_datetime(df['Date'])\n",
    "# Creating a new column for separating the year values in numeric format.\n",
    "df['Year'] = df['Date'].dt.year\n",
    "# Another column for changing number values to string values.\n",
    "df['Month_Number'] = df['Date'].dt.month\n",
    "# Another column for separating values to month specifically.\n",
    "df['Month'] = df['Month_Number'].apply(lambda x: calendar.month_abbr[x])\n",
    "# Another column for counting test numbers.\n",
    "df[\"# of Test\"] = 1\n",
    "# Simplifying the Year/Month format.\n",
    "df['YYYYMM'] = pd.to_datetime(df['Date'], format='%Y%m', errors='coerce')\n",
    "df['YYYYMM'] = pd.to_datetime(df['Date']).dt.strftime('%Y%m')"
   ]
  }
 ],
 "metadata": {
  "kernelspec": {
   "display_name": "base",
   "language": "python",
   "name": "python3"
  },
  "language_info": {
   "codemirror_mode": {
    "name": "ipython",
    "version": 3
   },
   "file_extension": ".py",
   "mimetype": "text/x-python",
   "name": "python",
   "nbconvert_exporter": "python",
   "pygments_lexer": "ipython3",
   "version": "3.10.11"
  },
  "orig_nbformat": 4
 },
 "nbformat": 4,
 "nbformat_minor": 2
}
